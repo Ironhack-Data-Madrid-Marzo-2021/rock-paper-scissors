{
 "cells": [
  {
   "cell_type": "markdown",
   "metadata": {},
   "source": [
    "# Rock, Paper, Scissors, Lizard & Spock\n",
    "![](images/rpsls.jpg)\n",
    "\n",
    "In this challenge, you need to improve the previous game by adding two new options. To know more about the rules of the improved version of rock, paper, scissors, check this [link](http://www.samkass.com/theories/RPSSL.html). \n",
    "\n",
    "In addition, you will also need to improve how the game interacts with the player: the number of rounds to play, which must be an odd number, will be requested to the user until a valid number is entered. Define a new function to make that request.\n",
    "\n",
    "**Hint**: Try to reuse the code that you already coded in the previous challenge. If your code is efficient, this bonus will only consist of simple modifications to the original game."
   ]
  },
  {
   "cell_type": "code",
   "execution_count": 61,
   "metadata": {
    "collapsed": true
   },
   "outputs": [],
   "source": [
    "import random"
   ]
  },
  {
   "cell_type": "code",
   "execution_count": 62,
   "metadata": {},
   "outputs": [
    {
     "name": "stdout",
     "output_type": "stream",
     "text": [
      "['rock', 'paper', 'scissors', 'spock', 'lizard']\n"
     ]
    }
   ],
   "source": [
    "gestures = ['rock', 'paper', 'scissors', 'spock', 'lizard']\n",
    "\n",
    "print(gestures)"
   ]
  },
  {
   "cell_type": "code",
   "execution_count": 63,
   "metadata": {},
   "outputs": [
    {
     "name": "stdout",
     "output_type": "stream",
     "text": [
      "Enter an odd number of rounds: 3\n",
      "Let's Play!\n"
     ]
    }
   ],
   "source": [
    "def is_number(input_str):\n",
    "    for i in input_str:\n",
    "        if not i.isdigit() or i in '.,- ':\n",
    "            return False\n",
    "    return True\n",
    "    \n",
    "\n",
    "def is_odd(input_str):\n",
    "    if int(input_str) % 2 == 1:\n",
    "        return True\n",
    "    return False\n",
    "        \n",
    "\n",
    "n_rounds = input(\"Enter an odd number of rounds: \")   \n",
    "    \n",
    "\n",
    "while not is_number(n_rounds) or not is_odd(n_rounds):\n",
    "    n_rounds = input(\"Enter an odd number of rounds: \") \n",
    "    \n",
    "n_rounds = int(n_rounds)\n",
    "print(\"Let's Play!\")"
   ]
  },
  {
   "cell_type": "code",
   "execution_count": 64,
   "metadata": {},
   "outputs": [
    {
     "name": "stdout",
     "output_type": "stream",
     "text": [
      "2\n"
     ]
    }
   ],
   "source": [
    "rounds_to_win = int(n_rounds/2) + 1  \n",
    "\n",
    "print(rounds_to_win)"
   ]
  },
  {
   "cell_type": "code",
   "execution_count": 65,
   "metadata": {
    "collapsed": true
   },
   "outputs": [],
   "source": [
    "cpu_score = 0\n",
    "player_score = 0"
   ]
  },
  {
   "cell_type": "code",
   "execution_count": 66,
   "metadata": {},
   "outputs": [],
   "source": [
    "def gesture_choice(gestures):\n",
    "    return random.choice(gestures)\n",
    "\n",
    "# cpu_choice = gesture_choice(gestures)\n",
    "# print(cpu_choice)"
   ]
  },
  {
   "cell_type": "code",
   "execution_count": 67,
   "metadata": {},
   "outputs": [],
   "source": [
    "def time_player(gestures):\n",
    "    player_selection = input(\"Enter rock, paper, scissors, spock or lizard: \")\n",
    "    \n",
    "    while not player_selection in gestures:\n",
    "        player_selection = input(\"Enter rock, paper, scissors, spock or lizard: \")\n",
    "        \n",
    "    return player_selection \n",
    "\n",
    "# player_choice = time_player(gestures)\n",
    "# print(player_choice)"
   ]
  },
  {
   "cell_type": "code",
   "execution_count": 68,
   "metadata": {},
   "outputs": [],
   "source": [
    "def round_win(cpu_choice, player_choice):\n",
    "    if cpu_choice == player_choice:\n",
    "        return 0\n",
    "    \n",
    "    if cpu_choice == 'rock':\n",
    "        if player_choice in ['scissors', 'lizard']:\n",
    "            return 1 \n",
    "        if player_choice in ['paper', 'spock']:\n",
    "            return 2\n",
    "    \n",
    "    if cpu_choice == 'paper':\n",
    "        if player_choice in ['rock', 'spock']:\n",
    "            return 1\n",
    "        if player_choice in ['scissors', 'lizard']:\n",
    "            return 2\n",
    "        \n",
    "    if cpu_choice == 'scissors':\n",
    "        if player_choice in ['paper', 'lizard']:\n",
    "            return 1\n",
    "        if player_choice in ['rock', 'spock']:\n",
    "            return 2\n",
    "     \n",
    "    if cpu_choice == 'spock':\n",
    "        if player_choice in ['rock', 'scissors']:\n",
    "            return 1\n",
    "        if player_choice in ['paper', 'lizard']:\n",
    "            return 2\n",
    "\n",
    "    if cpu_choice == 'lizard':\n",
    "        if player_choice in ['paper', 'spock']:\n",
    "            return 1\n",
    "        if player_choice in ['rock', 'scissors']:\n",
    "            return 2\n",
    "    \n",
    "    \n",
    "# winner = round_win('rock', 'lizard')\n",
    "# print(winner)"
   ]
  },
  {
   "cell_type": "code",
   "execution_count": 69,
   "metadata": {
    "collapsed": true
   },
   "outputs": [],
   "source": [
    "def board(cpu_choice, player_choice, cpu_score, player_score):\n",
    "   \n",
    "    c = cpu_score\n",
    "    p = player_score\n",
    "    winner = round_win(cpu_choice, player_choice)\n",
    "    \n",
    "    print('cpu_choice:', cpu_choice, '/player_choice:', player_choice) \n",
    "    \n",
    "    if winner == 0:\n",
    "        print('Tie')\n",
    "    \n",
    "    if winner == 1:\n",
    "        c += 1\n",
    "        print('Won by cpu')\n",
    "        \n",
    "    if winner == 2:\n",
    "        p += 1\n",
    "        print('Won by player')\n",
    "        \n",
    "    return c, p\n",
    "\n",
    "# cpu_score, player_score = board('paper', 'scissors', cpu_score, player_score)\n",
    "# print(cpu_score)\n",
    "# print(player_score)"
   ]
  },
  {
   "cell_type": "code",
   "execution_count": 71,
   "metadata": {},
   "outputs": [
    {
     "name": "stdout",
     "output_type": "stream",
     "text": [
      "Enter rock, paper, scissors, spock or lizard: lizard\n",
      "cpu_choice: lizard /player_choice: lizard\n",
      "Tie\n",
      "Enter rock, paper, scissors, spock or lizard: lizard\n",
      "cpu_choice: rock /player_choice: lizard\n",
      "Won by cpu\n",
      "Enter rock, paper, scissors, spock or lizard: lizard\n",
      "cpu_choice: rock /player_choice: lizard\n",
      "Won by cpu\n"
     ]
    }
   ],
   "source": [
    "cpu_score = 0\n",
    "player_score = 0\n",
    "\n",
    "while cpu_score < rounds_to_win and player_score < rounds_to_win:\n",
    "    player_choice = time_player(gestures)\n",
    "    cpu_choice = gesture_choice(gestures)\n",
    "    cpu_score, player_score = board(cpu_choice, player_choice, cpu_score, player_score)   \n"
   ]
  },
  {
   "cell_type": "code",
   "execution_count": 73,
   "metadata": {},
   "outputs": [
    {
     "name": "stdout",
     "output_type": "stream",
     "text": [
      "Game won by cpu\n"
     ]
    }
   ],
   "source": [
    "if cpu_score >= rounds_to_win:\n",
    "    print('Game won by cpu')\n",
    "elif player_score >= rounds_to_win:\n",
    "    print('Game won by player')"
   ]
  }
 ],
 "metadata": {
  "kernelspec": {
   "display_name": "Python 3",
   "language": "python",
   "name": "python3"
  },
  "language_info": {
   "codemirror_mode": {
    "name": "ipython",
    "version": 3
   },
   "file_extension": ".py",
   "mimetype": "text/x-python",
   "name": "python",
   "nbconvert_exporter": "python",
   "pygments_lexer": "ipython3",
   "version": "3.6.2"
  },
  "toc": {
   "base_numbering": 1,
   "nav_menu": {},
   "number_sections": true,
   "sideBar": true,
   "skip_h1_title": false,
   "title_cell": "Table of Contents",
   "title_sidebar": "Contents",
   "toc_cell": false,
   "toc_position": {},
   "toc_section_display": true,
   "toc_window_display": false
  }
 },
 "nbformat": 4,
 "nbformat_minor": 5
}
