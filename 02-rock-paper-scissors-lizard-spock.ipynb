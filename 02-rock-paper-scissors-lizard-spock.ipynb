{
 "cells": [
  {
   "cell_type": "markdown",
   "metadata": {},
   "source": [
    "# Rock, Paper, Scissors, Lizard & Spock\n",
    "![](images/rpsls.jpg)\n",
    "\n",
    "In this challenge, you need to improve the previous game by adding two new options. To know more about the rules of the improved version of rock, paper, scissors, check this [link](http://www.samkass.com/theories/RPSSL.html). \n",
    "\n",
    "In addition, you will also need to improve how the game interacts with the player: the number of rounds to play, which must be an odd number, will be requested to the user until a valid number is entered. Define a new function to make that request.\n",
    "\n",
    "**Hint**: Try to reuse the code that you already coded in the previous challenge. If your code is efficient, this bonus will only consist of simple modifications to the original game."
   ]
  },
  {
   "cell_type": "markdown",
   "metadata": {},
   "source": [
    "#### 1. Import the choice function of the random module."
   ]
  },
  {
   "cell_type": "code",
   "execution_count": 100,
   "metadata": {},
   "outputs": [
    {
     "name": "stdout",
     "output_type": "stream",
     "text": [
      "<bound method Random.choice of <random.Random object at 0x000001F4257CF660>>\n"
     ]
    }
   ],
   "source": [
    "import random\n",
    "\n",
    "print(random.choice)\n"
   ]
  },
  {
   "cell_type": "markdown",
   "metadata": {},
   "source": [
    "#### 2. Create a list that includes the 5 possible gesture options of the game: 'rock', 'paper', 'scissors', 'Lizard' or 'Spock'. Store the list in a variable called `gestures`."
   ]
  },
  {
   "cell_type": "code",
   "execution_count": 101,
   "metadata": {},
   "outputs": [],
   "source": [
    "gestures = [\"piedra\", \"papel\", \"tijera\", \"lagarto\", \"Spock\"]"
   ]
  },
  {
   "cell_type": "markdown",
   "metadata": {},
   "source": [
    "#### 3. Create a variable called `n_rounds` to store the maximum number of rounds to play in a game. \n",
    "Remember that the number of rounds must be odd: 1, 3, 5, ..."
   ]
  },
  {
   "cell_type": "code",
   "execution_count": 102,
   "metadata": {},
   "outputs": [],
   "source": [
    "def numero_rondas():\n",
    "    '''\n",
    "    Pregunta cuantas ronda quieres jugar.\n",
    "    \n",
    "    '''\n",
    "    \n",
    "    n_rounds = int(input(\"Introduce el numero de rondas a jugar: \"))\n",
    "    while n_rounds % 2 == 0:\n",
    "        print(\"Recuerda que tiene que ser un numero impar\")\n",
    "        n_rounds = int(input(\"Introduce el numero de rondas a jugar(Recuerda que tiene que ser un numero impar): \"))\n",
    "    return n_rounds\n",
    "        "
   ]
  },
  {
   "cell_type": "code",
   "execution_count": 103,
   "metadata": {},
   "outputs": [],
   "source": [
    "#print(numero_rondas())"
   ]
  },
  {
   "cell_type": "markdown",
   "metadata": {},
   "source": [
    "#### 4. Create a variable called `rounds_to_win` to store the number of rounds that a player must win to win the game.\n",
    "**Hint**: the value stored in `rounds_to_win` depends on the value of `n_rounds`. "
   ]
  },
  {
   "cell_type": "code",
   "execution_count": 104,
   "metadata": {},
   "outputs": [],
   "source": [
    "def rondas_para_ganar():\n",
    "    '''\n",
    "    Devuelve las rondas necesaria que debe alcanzar un jugador para ganar\n",
    "    \n",
    "    '''\n",
    "    \n",
    "    rounds_to_win = int(int(numero_rondas()) / 2 +(1/2))\n",
    "    return(rounds_to_win)"
   ]
  },
  {
   "cell_type": "code",
   "execution_count": 105,
   "metadata": {},
   "outputs": [],
   "source": [
    "#print(rondas_para_ganar())"
   ]
  },
  {
   "cell_type": "markdown",
   "metadata": {},
   "source": [
    "#### 5. Create two variables to store the number of rounds that the computer and the player have won. Call these variables `cpu_score` and `player_score`."
   ]
  },
  {
   "cell_type": "code",
   "execution_count": 106,
   "metadata": {},
   "outputs": [],
   "source": [
    "cpu_score = 0\n",
    "player_score = 0\n"
   ]
  },
  {
   "cell_type": "markdown",
   "metadata": {},
   "source": [
    "#### 6. Define a function that randomly returns one of the 5 gesture options.\n",
    "You will use this function to simulate the gesture choice of the computer. "
   ]
  },
  {
   "cell_type": "code",
   "execution_count": 107,
   "metadata": {},
   "outputs": [
    {
     "name": "stdout",
     "output_type": "stream",
     "text": [
      "tijera\n"
     ]
    }
   ],
   "source": [
    "print(random.choice(gestures))"
   ]
  },
  {
   "cell_type": "code",
   "execution_count": 108,
   "metadata": {},
   "outputs": [],
   "source": [
    "import random\n",
    "\n",
    "def eleccion_cpu():\n",
    "    \n",
    "    '''\n",
    "    Esta funcion asigna un valor entre piedra-papel-tijera-lagarto-spock de forma aleatoria\n",
    "    \n",
    "    '''\n",
    "\n",
    "    cpu_g = random.choice(gestures)\n",
    "    \n",
    "    return cpu_g\n",
    "\n"
   ]
  },
  {
   "cell_type": "code",
   "execution_count": 109,
   "metadata": {},
   "outputs": [],
   "source": [
    "#print(eleccion_cpu())"
   ]
  },
  {
   "cell_type": "markdown",
   "metadata": {},
   "source": [
    "#### 7. Define a function that asks the player which is the gesture he or she wants to show: 'rock', 'paper' or 'scissors'.\n",
    "The player should only be allowed to choose one of the 3 gesture options. If the player's choice is not rock, paper or scissors, keep asking until it is."
   ]
  },
  {
   "cell_type": "code",
   "execution_count": 110,
   "metadata": {},
   "outputs": [],
   "source": [
    "gestures = [\"piedra\", \"papel\", \"tijera\", \"lagarto\", \"spock\"]\n",
    "\n",
    "def eleccion_jugador():\n",
    "    \n",
    "    '''\n",
    "    Esta funcion solicita un valor entre piedra-papel-tijera-lagarto-spock al jugador\n",
    "    '''\n",
    "    \n",
    "    \n",
    "    player = input(\"Elige piedra, papel, tijera, lagarto o spock: \")\n",
    "    player_g = player.lower()\n",
    "\n",
    "    while player_g not in gestures:\n",
    "        print(\"Debes elegir entre piedra, papel, tijera, lagarto o spock. \")\n",
    "        player_g = input(\"Elige piedra, papel, tijera, lagarto o spock: \")\n",
    "    \n",
    "#    if player_g == tijera:\n",
    "#       player_g == ✂\n",
    "#    elif player_g == papel:\n",
    "#        player_g == 🧻\n",
    "#   else:\n",
    "#        player_g == 🗿\n",
    "\n",
    "    return player_g"
   ]
  },
  {
   "cell_type": "code",
   "execution_count": 111,
   "metadata": {},
   "outputs": [
    {
     "name": "stdout",
     "output_type": "stream",
     "text": [
      "Elige piedra, papel, tijera, lagarto o spock: spock\n",
      "spock\n"
     ]
    }
   ],
   "source": [
    "print(eleccion_jugador())"
   ]
  },
  {
   "cell_type": "markdown",
   "metadata": {},
   "source": [
    "#### 8. Define a function that checks who won a round. \n",
    "The function should return 0 if there is a tie, 1 if the computer wins and 2 if the player wins."
   ]
  },
  {
   "cell_type": "code",
   "execution_count": 170,
   "metadata": {},
   "outputs": [],
   "source": [
    "def ganador_ronda(player, pc):\n",
    "    '''   \n",
    "    Esta función devuelve quien gana la ronda\n",
    "    0 = empate\n",
    "    1 = gana ordenador\n",
    "    2 = gana jugador\n",
    "    \n",
    "    argumento 1 = valor jugador\n",
    "    argumento 2 = valor cpu\n",
    "    \n",
    "    '''\n",
    "    \n",
    "    if player == pc: \n",
    "        ganador = 0\n",
    "    \n",
    "    if player == \"piedra\" and pc == (\"papel\" or \"spock\"):\n",
    "        ganador = 1 \n",
    "\n",
    "    if player == \"piedra\" and pc == (\"tijera\" or \"lagarto\"):\n",
    "        ganador = 2\n",
    "\n",
    "    if player == \"tijera\" and pc == (\"piedra\" or \"spock\"):\n",
    "        ganador = 1\n",
    "\n",
    "    if player == \"tijera\" and pc == (\"papel\" or \"lagarto\"):\n",
    "        ganador = 2\n",
    "\n",
    "    if player == \"papel\" and pc == (\"tijera\" or \"lagarto\"):\n",
    "        ganador = 1\n",
    "\n",
    "    if player == \"papel\" and pc == (\"piedra\" or \"spock\"):\n",
    "        ganador = 2\n",
    "\n",
    "    if player == \"lagarto\" and pc == (\"tijera\" or \"piedra\"):\n",
    "        ganador == 1\n",
    "\n",
    "    if player == \"lagarto\" and pc == (\"spock\" or \"papel\"):\n",
    "        ganador == 2\n",
    "\n",
    "    if player == \"spock\" and pc == (\"lagarto\" or \"papel\"):\n",
    "        ganador == 1\n",
    "\n",
    "    if player == \"spock\" and pc == (\"piedra\" or \"tijera\"):\n",
    "        ganador == 2\n",
    "\n",
    "    return ganador\n"
   ]
  },
  {
   "cell_type": "code",
   "execution_count": 176,
   "metadata": {},
   "outputs": [
    {
     "ename": "UnboundLocalError",
     "evalue": "local variable 'ganador' referenced before assignment",
     "output_type": "error",
     "traceback": [
      "\u001b[1;31m---------------------------------------------------------------------------\u001b[0m",
      "\u001b[1;31mUnboundLocalError\u001b[0m                         Traceback (most recent call last)",
      "\u001b[1;32m<ipython-input-176-5b88735eab1c>\u001b[0m in \u001b[0;36m<module>\u001b[1;34m\u001b[0m\n\u001b[0;32m      1\u001b[0m \u001b[1;31m#print(eleccion_cpu())\u001b[0m\u001b[1;33m\u001b[0m\u001b[1;33m\u001b[0m\u001b[1;33m\u001b[0m\u001b[0m\n\u001b[0;32m      2\u001b[0m \u001b[1;31m#print(ganador(eleccion_jugador(), eleccion_cpu()))\u001b[0m\u001b[1;33m\u001b[0m\u001b[1;33m\u001b[0m\u001b[1;33m\u001b[0m\u001b[0m\n\u001b[1;32m----> 3\u001b[1;33m \u001b[0mprint\u001b[0m\u001b[1;33m(\u001b[0m\u001b[0mganador_ronda\u001b[0m\u001b[1;33m(\u001b[0m\u001b[1;34m\"spock\"\u001b[0m\u001b[1;33m,\u001b[0m\u001b[1;34m\"tijera\"\u001b[0m\u001b[1;33m)\u001b[0m\u001b[1;33m)\u001b[0m\u001b[1;33m\u001b[0m\u001b[1;33m\u001b[0m\u001b[0m\n\u001b[0m",
      "\u001b[1;32m<ipython-input-170-151570fb6e05>\u001b[0m in \u001b[0;36mganador_ronda\u001b[1;34m(player, pc)\u001b[0m\n\u001b[0;32m     44\u001b[0m         \u001b[0mganador\u001b[0m \u001b[1;33m==\u001b[0m \u001b[1;36m2\u001b[0m\u001b[1;33m\u001b[0m\u001b[1;33m\u001b[0m\u001b[0m\n\u001b[0;32m     45\u001b[0m \u001b[1;33m\u001b[0m\u001b[0m\n\u001b[1;32m---> 46\u001b[1;33m     \u001b[1;32mreturn\u001b[0m \u001b[0mganador\u001b[0m\u001b[1;33m\u001b[0m\u001b[1;33m\u001b[0m\u001b[0m\n\u001b[0m",
      "\u001b[1;31mUnboundLocalError\u001b[0m: local variable 'ganador' referenced before assignment"
     ]
    }
   ],
   "source": [
    "#print(eleccion_cpu())\n",
    "#print(ganador(eleccion_jugador(), eleccion_cpu()))\n",
    "print(ganador_ronda(\"spock\",\"tijera\"))"
   ]
  },
  {
   "cell_type": "markdown",
   "metadata": {},
   "source": [
    "#### 9. Define a function that prints the choice of the computer, the choice of the player and a message that announces who won the current round. \n",
    "You should also use this function to update the variables that count the number of rounds that the computer and the player have won. The score of the winner increases by one point. If there is a tie, the score does not increase."
   ]
  },
  {
   "cell_type": "code",
   "execution_count": 177,
   "metadata": {},
   "outputs": [
    {
     "name": "stdout",
     "output_type": "stream",
     "text": [
      "spock\n"
     ]
    }
   ],
   "source": [
    "print(eleccion_cpu())"
   ]
  },
  {
   "cell_type": "code",
   "execution_count": 182,
   "metadata": {},
   "outputs": [
    {
     "name": "stdout",
     "output_type": "stream",
     "text": [
      "Elige piedra, papel, tijera, lagarto o spock: spock\n"
     ]
    },
    {
     "ename": "UnboundLocalError",
     "evalue": "local variable 'ganador' referenced before assignment",
     "output_type": "error",
     "traceback": [
      "\u001b[1;31m---------------------------------------------------------------------------\u001b[0m",
      "\u001b[1;31mUnboundLocalError\u001b[0m                         Traceback (most recent call last)",
      "\u001b[1;32m<ipython-input-182-1f5e81f79c21>\u001b[0m in \u001b[0;36m<module>\u001b[1;34m\u001b[0m\n\u001b[0;32m     40\u001b[0m \u001b[1;33m\u001b[0m\u001b[0m\n\u001b[0;32m     41\u001b[0m \u001b[1;33m\u001b[0m\u001b[0m\n\u001b[1;32m---> 42\u001b[1;33m \u001b[0mprint\u001b[0m\u001b[1;33m(\u001b[0m\u001b[0mquien_gana\u001b[0m\u001b[1;33m(\u001b[0m\u001b[0mganador_ronda\u001b[0m\u001b[1;33m(\u001b[0m\u001b[0mplayer_g\u001b[0m\u001b[1;33m,\u001b[0m \u001b[0mcpu_g\u001b[0m\u001b[1;33m)\u001b[0m\u001b[1;33m)\u001b[0m\u001b[1;33m)\u001b[0m\u001b[1;33m\u001b[0m\u001b[1;33m\u001b[0m\u001b[0m\n\u001b[0m\u001b[0;32m     43\u001b[0m \u001b[1;31m#print(cpu_score)\u001b[0m\u001b[1;33m\u001b[0m\u001b[1;33m\u001b[0m\u001b[1;33m\u001b[0m\u001b[0m\n\u001b[0;32m     44\u001b[0m \u001b[1;31m#print(player_score)\u001b[0m\u001b[1;33m\u001b[0m\u001b[1;33m\u001b[0m\u001b[1;33m\u001b[0m\u001b[0m\n",
      "\u001b[1;32m<ipython-input-170-151570fb6e05>\u001b[0m in \u001b[0;36mganador_ronda\u001b[1;34m(player, pc)\u001b[0m\n\u001b[0;32m     42\u001b[0m \u001b[1;33m\u001b[0m\u001b[0m\n\u001b[0;32m     43\u001b[0m     \u001b[1;32mif\u001b[0m \u001b[0mplayer\u001b[0m \u001b[1;33m==\u001b[0m \u001b[1;34m\"spock\"\u001b[0m \u001b[1;32mand\u001b[0m \u001b[0mpc\u001b[0m \u001b[1;33m==\u001b[0m \u001b[1;33m(\u001b[0m\u001b[1;34m\"piedra\"\u001b[0m \u001b[1;32mor\u001b[0m \u001b[1;34m\"tijera\"\u001b[0m\u001b[1;33m)\u001b[0m\u001b[1;33m:\u001b[0m\u001b[1;33m\u001b[0m\u001b[1;33m\u001b[0m\u001b[0m\n\u001b[1;32m---> 44\u001b[1;33m         \u001b[0mganador\u001b[0m \u001b[1;33m==\u001b[0m \u001b[1;36m2\u001b[0m\u001b[1;33m\u001b[0m\u001b[1;33m\u001b[0m\u001b[0m\n\u001b[0m\u001b[0;32m     45\u001b[0m \u001b[1;33m\u001b[0m\u001b[0m\n\u001b[0;32m     46\u001b[0m     \u001b[1;32mreturn\u001b[0m \u001b[0mganador\u001b[0m\u001b[1;33m\u001b[0m\u001b[1;33m\u001b[0m\u001b[0m\n",
      "\u001b[1;31mUnboundLocalError\u001b[0m: local variable 'ganador' referenced before assignment"
     ]
    }
   ],
   "source": [
    "eleccion_cpu()\n",
    "cpu_g = str(eleccion_cpu())\n",
    "player_g = str(eleccion_jugador())\n",
    "#cpu_score = 0\n",
    "#player_score = 0\n",
    "\n",
    "def quien_gana(punt):\n",
    "    '''\n",
    "    Esta funcion te da quien ha ganado la ronda.\n",
    "    \n",
    "    Argumentos:\n",
    "        El argumento de esta función debe ser la función ganador\n",
    "        Que nos genera un valor entre 0 y 2\n",
    "        \n",
    "    '''\n",
    "\n",
    "    \n",
    "    #print(punt)\n",
    "    #cpu_score = 0\n",
    "    #player_score = 0\n",
    "    global cpu_score\n",
    "    global  player_score\n",
    "    \n",
    "    print(f\"El pc ha elegido {cpu_g}\")\n",
    "    print(f\"El jugador ha elegido {player_g}\")\n",
    "    \n",
    "    if punt == 0:\n",
    "        return \"Empate\"\n",
    "    \n",
    "    elif punt == 1:\n",
    "        cpu_score += 1\n",
    "        #print(f\"cpu = {cpu_score}\")\n",
    "        return \"Gana el ordenador\"\n",
    "        \n",
    "        \n",
    "    elif punt == 2:\n",
    "        player_score += 1\n",
    "        #print(f\"Player = {player_score}\")\n",
    "        return \"Gana el jugador\"\n",
    "        \n",
    "    \n",
    "print(quien_gana(ganador_ronda(player_g, cpu_g)))\n",
    "#print(cpu_score)\n",
    "#print(player_score)"
   ]
  },
  {
   "cell_type": "markdown",
   "metadata": {},
   "source": [
    "#### 10. Now it's time to code the execution of the game using the functions and variables you defined above. \n",
    "\n",
    "First, create a loop structure that repeats while no player reaches the minimum score necessary to win and the number of rounds is less than the maximum number of rounds to play in a game.  \n",
    "\n",
    "Inside the loop, use the functions and variables above to create the execution of a round: ask for the player's choice, generate the random choice of the computer, show the round results, update the scores, etc. "
   ]
  },
  {
   "cell_type": "code",
   "execution_count": 183,
   "metadata": {},
   "outputs": [
    {
     "name": "stdout",
     "output_type": "stream",
     "text": [
      "Elige piedra, papel, tijera, lagarto o spock: spock\n"
     ]
    }
   ],
   "source": [
    "eleccion_cpu()\n",
    "cpu_g = str(eleccion_cpu())\n",
    "player_g = str(eleccion_jugador())\n",
    "cpu_score = 0\n",
    "player_score = 0\n",
    "\n",
    "def rock_papper_scissors():\n",
    "    '''\n",
    "    Funcion para jugar a piedra papel o tijera 1 vez\n",
    "    '''\n",
    "\n",
    "    winner = print(quien_gana(ganador_ronda(player_g, cpu_g)))\n",
    "    return winner\n",
    "    \n",
    "#cpu_score = 0\n",
    "#player_score = 0   "
   ]
  },
  {
   "cell_type": "code",
   "execution_count": 184,
   "metadata": {},
   "outputs": [
    {
     "name": "stdout",
     "output_type": "stream",
     "text": [
      "Introduce el numero de rondas a jugar: 1\n",
      "Rondas necesarias para ganar :1\n"
     ]
    }
   ],
   "source": [
    "def numero_rondas():\n",
    "    n_rounds = int(input(\"Introduce el numero de rondas a jugar: \"))\n",
    "    while n_rounds % 2 == 0:\n",
    "        print(\"Recuerda que tiene que ser un numero impar\")\n",
    "        n_rounds = int(input(\"Introduce el numero de rondas a jugar(Recuerda que tiene que ser un numero impar): \"))\n",
    "    return n_rounds\n",
    "        \n",
    "\n",
    "rounds_to_win = int(int(numero_rondas()) / 2 +(1/2))\n",
    "print(f\"Rondas necesarias para ganar :{rounds_to_win}\")"
   ]
  },
  {
   "cell_type": "code",
   "execution_count": 185,
   "metadata": {},
   "outputs": [
    {
     "name": "stdout",
     "output_type": "stream",
     "text": [
      "Introduce el numero de rondas a jugar: 1\n",
      "Elige piedra, papel, tijera, lagarto o spock: papel\n",
      "El pc ha elegido papel\n",
      "El jugador ha elegido papel\n",
      "Empate\n",
      "Pc = 0\n",
      "Jugador = 0\n",
      "Elige piedra, papel, tijera, lagarto o spock: lagarto\n"
     ]
    },
    {
     "ename": "UnboundLocalError",
     "evalue": "local variable 'ganador' referenced before assignment",
     "output_type": "error",
     "traceback": [
      "\u001b[1;31m---------------------------------------------------------------------------\u001b[0m",
      "\u001b[1;31mUnboundLocalError\u001b[0m                         Traceback (most recent call last)",
      "\u001b[1;32m<ipython-input-185-9550fb1a75d9>\u001b[0m in \u001b[0;36m<module>\u001b[1;34m\u001b[0m\n\u001b[0;32m      9\u001b[0m     \u001b[0mplayer_g\u001b[0m \u001b[1;33m=\u001b[0m \u001b[0mstr\u001b[0m\u001b[1;33m(\u001b[0m\u001b[0meleccion_jugador\u001b[0m\u001b[1;33m(\u001b[0m\u001b[1;33m)\u001b[0m\u001b[1;33m)\u001b[0m\u001b[1;33m\u001b[0m\u001b[1;33m\u001b[0m\u001b[0m\n\u001b[0;32m     10\u001b[0m \u001b[1;33m\u001b[0m\u001b[0m\n\u001b[1;32m---> 11\u001b[1;33m     \u001b[0mrock_papper_scissors\u001b[0m\u001b[1;33m(\u001b[0m\u001b[1;33m)\u001b[0m\u001b[1;33m\u001b[0m\u001b[1;33m\u001b[0m\u001b[0m\n\u001b[0m\u001b[0;32m     12\u001b[0m     \u001b[1;31m#print(rondas_ganar)\u001b[0m\u001b[1;33m\u001b[0m\u001b[1;33m\u001b[0m\u001b[1;33m\u001b[0m\u001b[0m\n\u001b[0;32m     13\u001b[0m     \u001b[0mprint\u001b[0m\u001b[1;33m(\u001b[0m\u001b[1;34mf\"Pc = {cpu_score}\"\u001b[0m\u001b[1;33m)\u001b[0m\u001b[1;33m\u001b[0m\u001b[1;33m\u001b[0m\u001b[0m\n",
      "\u001b[1;32m<ipython-input-183-071ab4a3bfa0>\u001b[0m in \u001b[0;36mrock_papper_scissors\u001b[1;34m()\u001b[0m\n\u001b[0;32m     10\u001b[0m     '''\n\u001b[0;32m     11\u001b[0m \u001b[1;33m\u001b[0m\u001b[0m\n\u001b[1;32m---> 12\u001b[1;33m     \u001b[0mwinner\u001b[0m \u001b[1;33m=\u001b[0m \u001b[0mprint\u001b[0m\u001b[1;33m(\u001b[0m\u001b[0mquien_gana\u001b[0m\u001b[1;33m(\u001b[0m\u001b[0mganador_ronda\u001b[0m\u001b[1;33m(\u001b[0m\u001b[0mplayer_g\u001b[0m\u001b[1;33m,\u001b[0m \u001b[0mcpu_g\u001b[0m\u001b[1;33m)\u001b[0m\u001b[1;33m)\u001b[0m\u001b[1;33m)\u001b[0m\u001b[1;33m\u001b[0m\u001b[1;33m\u001b[0m\u001b[0m\n\u001b[0m\u001b[0;32m     13\u001b[0m     \u001b[1;32mreturn\u001b[0m \u001b[0mwinner\u001b[0m\u001b[1;33m\u001b[0m\u001b[1;33m\u001b[0m\u001b[0m\n\u001b[0;32m     14\u001b[0m \u001b[1;33m\u001b[0m\u001b[0m\n",
      "\u001b[1;32m<ipython-input-170-151570fb6e05>\u001b[0m in \u001b[0;36mganador_ronda\u001b[1;34m(player, pc)\u001b[0m\n\u001b[0;32m     44\u001b[0m         \u001b[0mganador\u001b[0m \u001b[1;33m==\u001b[0m \u001b[1;36m2\u001b[0m\u001b[1;33m\u001b[0m\u001b[1;33m\u001b[0m\u001b[0m\n\u001b[0;32m     45\u001b[0m \u001b[1;33m\u001b[0m\u001b[0m\n\u001b[1;32m---> 46\u001b[1;33m     \u001b[1;32mreturn\u001b[0m \u001b[0mganador\u001b[0m\u001b[1;33m\u001b[0m\u001b[1;33m\u001b[0m\u001b[0m\n\u001b[0m",
      "\u001b[1;31mUnboundLocalError\u001b[0m: local variable 'ganador' referenced before assignment"
     ]
    }
   ],
   "source": [
    "cpu_score = 0\n",
    "player_score = 0\n",
    "rondas_ganar = numero_rondas()\n",
    "\n",
    "while rondas_ganar >= cpu_score or player_score:\n",
    "    \n",
    "    eleccion_cpu()\n",
    "    cpu_g = str(eleccion_cpu())\n",
    "    player_g = str(eleccion_jugador())\n",
    "    \n",
    "    rock_papper_scissors()\n",
    "    #print(rondas_ganar)\n",
    "    print(f\"Pc = {cpu_score}\")\n",
    "    print(f\"Jugador = {player_score}\")\n",
    "\n",
    "    if rondas_ganar <= cpu_score:\n",
    "        break\n",
    "    elif rondas_ganar <= player_score:\n",
    "        break\n",
    "    \n",
    "    \n",
    "print(\"Se acabo el juego\")"
   ]
  },
  {
   "cell_type": "code",
   "execution_count": null,
   "metadata": {},
   "outputs": [],
   "source": []
  }
 ],
 "metadata": {
  "kernelspec": {
   "display_name": "Python 3",
   "language": "python",
   "name": "python3"
  },
  "language_info": {
   "codemirror_mode": {
    "name": "ipython",
    "version": 3
   },
   "file_extension": ".py",
   "mimetype": "text/x-python",
   "name": "python",
   "nbconvert_exporter": "python",
   "pygments_lexer": "ipython3",
   "version": "3.8.5"
  },
  "toc": {
   "base_numbering": 1,
   "nav_menu": {},
   "number_sections": true,
   "sideBar": true,
   "skip_h1_title": false,
   "title_cell": "Table of Contents",
   "title_sidebar": "Contents",
   "toc_cell": false,
   "toc_position": {},
   "toc_section_display": true,
   "toc_window_display": false
  }
 },
 "nbformat": 4,
 "nbformat_minor": 5
}
