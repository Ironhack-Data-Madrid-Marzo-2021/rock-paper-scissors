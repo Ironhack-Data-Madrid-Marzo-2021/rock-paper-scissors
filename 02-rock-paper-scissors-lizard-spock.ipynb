{
 "cells": [
  {
   "cell_type": "markdown",
   "metadata": {},
   "source": [
    "# Rock, Paper, Scissors, Lizard & Spock\n",
    "![](images/rpsls.jpg)\n",
    "\n",
    "In this challenge, you need to improve the previous game by adding two new options. To know more about the rules of the improved version of rock, paper, scissors, check this [link](http://www.samkass.com/theories/RPSSL.html). \n",
    "\n",
    "In addition, you will also need to improve how the game interacts with the player: the number of rounds to play, which must be an odd number, will be requested to the user until a valid number is entered. Define a new function to make that request.\n",
    "\n",
    "**Hint**: Try to reuse the code that you already coded in the previous challenge. If your code is efficient, this bonus will only consist of simple modifications to the original game."
   ]
  },
  {
   "cell_type": "code",
   "execution_count": 3,
   "metadata": {},
   "outputs": [],
   "source": [
    "import random"
   ]
  },
  {
   "cell_type": "code",
   "execution_count": 4,
   "metadata": {},
   "outputs": [],
   "source": [
    "gestures= [\"rock\", \"paper\", \"scissors\",\"spock\", \"lizard\"]"
   ]
  },
  {
   "cell_type": "code",
   "execution_count": null,
   "metadata": {},
   "outputs": [],
   "source": [
    "n_rounds = int(input(\"How many games are you going to play?:  \"))\n",
    "while n_rounds % 2 == 0:\n",
    "    n_rounds = int(input(\"Select an odd number to determine a winner:  \"))    \n",
    "else:\n",
    "    n_rounds = n_rounds"
   ]
  },
  {
   "cell_type": "code",
   "execution_count": null,
   "metadata": {},
   "outputs": [],
   "source": [
    "rounds_to_win = int((n_rounds+1)/2)"
   ]
  },
  {
   "cell_type": "code",
   "execution_count": null,
   "metadata": {},
   "outputs": [],
   "source": [
    "cpu_score = 0\n",
    "player_score = 0 "
   ]
  },
  {
   "cell_type": "code",
   "execution_count": null,
   "metadata": {},
   "outputs": [],
   "source": [
    "def computer_gesture_opt():\n",
    "    return random.choice(gestures)\n",
    "\n",
    "computer_gesture_opt()"
   ]
  },
  {
   "cell_type": "code",
   "execution_count": null,
   "metadata": {},
   "outputs": [],
   "source": [
    "def user_gesture():\n",
    "    user_gesture = input(\"Choose between rock, paper, scissors, lizard or spock?: \")\n",
    "    while user_gesture not in gestures:\n",
    "        user_gesture = input(\"Please Choose between rock, paper, scissors, lizard or spock: \")\n",
    "    else: \n",
    "        user_gesture = user_gesture\n",
    "        \n",
    "    return user_gesture"
   ]
  },
  {
   "cell_type": "code",
   "execution_count": null,
   "metadata": {},
   "outputs": [],
   "source": [
    "def who_wins(user_gesture, computer_gesture_opt):\n",
    "    cpu_score = 0\n",
    "    player_score = 0\n",
    "    player_gesture_choice = user_gesture()\n",
    "    cpu_gesture_choice = computer_gesture_opt()\n",
    "    \n",
    "    if cpu_gesture_choice == \"rock\":\n",
    "        if player_gesture_choice == \"rock\":\n",
    "            result = 0\n",
    "        if player_gesture_choice == \"paper\":\n",
    "            result = 2\n",
    "        if player_gesture_choice == \"scissors\":\n",
    "            result = 1\n",
    "        if player_gesture_choice == \"lizard\":\n",
    "            result = 1\n",
    "        if player_gesture_choice == \"spock\":\n",
    "            result = 2\n",
    "            \n",
    "    if cpu_gesture_choice == \"paper\":\n",
    "        if player_gesture_choice == \"rock\":\n",
    "            result = 1\n",
    "        if player_gesture_choice == \"paper\":\n",
    "            result = 0\n",
    "        if player_gesture_choice == \"scissors\":\n",
    "            result = 2\n",
    "        if player_gesture_choice == \"lizard\":\n",
    "            result = 2\n",
    "        if player_gesture_choice == \"spock\":\n",
    "            result = 1\n",
    "            \n",
    "    if cpu_gesture_choice == \"scissors\":\n",
    "        if player_gesture_choice == \"rock\":\n",
    "            result = 2\n",
    "        if player_gesture_choice == \"paper\":\n",
    "            result = 1\n",
    "        if player_gesture_choice == \"scissors\":\n",
    "            result = 0\n",
    "        if player_gesture_choice == \"lizard\":\n",
    "            result = 1\n",
    "        if player_gesture_choice == \"spock\":\n",
    "            result = 2\n",
    "            \n",
    "    if cpu_gesture_choice == \"lizard\":\n",
    "        if player_gesture_choice == \"rock\":\n",
    "            result = 2\n",
    "        if player_gesture_choice == \"paper\":\n",
    "            result = 1\n",
    "        if player_gesture_choice == \"scissors\":\n",
    "            result = 2\n",
    "        if player_gesture_choice == \"lizard\":\n",
    "            result = 0\n",
    "        if player_gesture_choice == \"spock\":\n",
    "            result = 1\n",
    "            \n",
    "    if cpu_gesture_choice == \"spock\":\n",
    "        if player_gesture_choice == \"rock\":\n",
    "            result = 1\n",
    "        if player_gesture_choice == \"paper\":\n",
    "            result = 2\n",
    "        if player_gesture_choice == \"scissors\":\n",
    "            result = 1\n",
    "        if player_gesture_choice == \"lizard\":\n",
    "            result = 2\n",
    "        if player_gesture_choice == \"spock\":\n",
    "            result = 0\n",
    "            \n",
    "    print(f\"You have choosen: {player_gesture_choice}\")\n",
    "    print(f\"The CPU have choosen: {cpu_gesture_choice}\")\n",
    "    \n",
    "    if result == 0:\n",
    "        print(f\"There is a Tie!\")\n",
    "    if result == 1:\n",
    "        print(\"You have lost, try it again.\") \n",
    "    if result == 2:\n",
    "        print(\"You won!!\")\n",
    "        \n",
    "    return result"
   ]
  },
  {
   "cell_type": "code",
   "execution_count": null,
   "metadata": {},
   "outputs": [],
   "source": [
    "def The_Final_Game(n_rounds, rounds_to_win, player_score, cpu_score):\n",
    "    n_rounds = int(input(\"How many games are you going to play?:  \"))\n",
    "    while n_rounds % 2 == 0:\n",
    "        n_rounds = int(input(\"It must be an odd number to determine a winner:  \"))    \n",
    "    else:\n",
    "        n_rounds = n_rounds\n",
    "    rounds_to_win = int((1 + n_rounds) / 2)\n",
    "    player_score = 0\n",
    "    cpu_score = 0\n",
    "    while (player_score < rounds_to_win) and (cpu_score < rounds_to_win):\n",
    "        round_result = who_wins(user_gesture, computer_gesture_opt)\n",
    "        if round_result == 1: \n",
    "            cpu_score +=1\n",
    "        if round_result == 2:\n",
    "            player_score +=1\n",
    "        if round_result == 0:\n",
    "            player_score = player_score\n",
    "    if player_score > cpu_score:\n",
    "        winer = \"You won lucky boy\"\n",
    "    if player_score < cpu_score:\n",
    "        winer = \"CPU won as always\"\n",
    "    if player_score == cpu_score:\n",
    "        winer = \"There is a tie\"\n",
    "    if player_score == rounds_to_win:\n",
    "        print(\"¡Congratulations babe, You won!\")\n",
    "    if cpu_score == rounds_to_win:\n",
    "         print(\"It is a shame, you lost. Try it again\")"
   ]
  },
  {
   "cell_type": "code",
   "execution_count": null,
   "metadata": {},
   "outputs": [],
   "source": []
  }
 ],
 "metadata": {
  "kernelspec": {
   "display_name": "Python 3",
   "language": "python",
   "name": "python3"
  },
  "language_info": {
   "codemirror_mode": {
    "name": "ipython",
    "version": 3
   },
   "file_extension": ".py",
   "mimetype": "text/x-python",
   "name": "python",
   "nbconvert_exporter": "python",
   "pygments_lexer": "ipython3",
   "version": "3.8.5"
  },
  "toc": {
   "base_numbering": 1,
   "nav_menu": {},
   "number_sections": true,
   "sideBar": true,
   "skip_h1_title": false,
   "title_cell": "Table of Contents",
   "title_sidebar": "Contents",
   "toc_cell": false,
   "toc_position": {},
   "toc_section_display": true,
   "toc_window_display": false
  }
 },
 "nbformat": 4,
 "nbformat_minor": 5
}
