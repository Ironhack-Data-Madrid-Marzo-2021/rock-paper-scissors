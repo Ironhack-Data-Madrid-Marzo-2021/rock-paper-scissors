{
 "cells": [
  {
   "cell_type": "markdown",
   "metadata": {},
   "source": [
    "# Rock, Paper, Scissors, Lizard & Spock\n",
    "![](images/rpsls.jpg)\n",
    "\n",
    "In this challenge, you need to improve the previous game by adding two new options. To know more about the rules of the improved version of rock, paper, scissors, check this [link](http://www.samkass.com/theories/RPSSL.html). \n",
    "\n",
    "In addition, you will also need to improve how the game interacts with the player: the number of rounds to play, which must be an odd number, will be requested to the user until a valid number is entered. Define a new function to make that request.\n",
    "\n",
    "**Hint**: Try to reuse the code that you already coded in the previous challenge. If your code is efficient, this bonus will only consist of simple modifications to the original game."
   ]
  },
  {
   "cell_type": "code",
   "execution_count": 1,
   "metadata": {},
   "outputs": [],
   "source": [
    "import random \n",
    "from random import choice\n",
    "import math\n",
    "\n"
   ]
  },
  {
   "cell_type": "code",
   "execution_count": 2,
   "metadata": {},
   "outputs": [],
   "source": [
    "gestures = ['rock','paper','scissors','lizard','spock']"
   ]
  },
  {
   "cell_type": "code",
   "execution_count": 3,
   "metadata": {},
   "outputs": [
    {
     "name": "stdout",
     "output_type": "stream",
     "text": [
      "Enter the rounds you want to play (odd number): 5\n"
     ]
    }
   ],
   "source": [
    "n_rounds = 0\n",
    "while int(n_rounds) % 2 == 0:\n",
    "    n_rounds = int(input('Enter the rounds you want to play (odd number): '))\n"
   ]
  },
  {
   "cell_type": "code",
   "execution_count": 5,
   "metadata": {},
   "outputs": [],
   "source": [
    "rounds_to_win = math.ceil(n_rounds / 2)\n",
    "# print(rounds_to_win)"
   ]
  },
  {
   "cell_type": "code",
   "execution_count": 6,
   "metadata": {},
   "outputs": [],
   "source": [
    "cpu_score = 0\n",
    "player_score = 0"
   ]
  },
  {
   "cell_type": "code",
   "execution_count": 7,
   "metadata": {},
   "outputs": [],
   "source": [
    "def computer_gesture():\n",
    "    \"\"\"\n",
    "    Simulate the gesture of the computer\n",
    "    Args:\n",
    "        No arguments\n",
    "    Returns:\n",
    "        str: gesture selected randomly\n",
    "    \"\"\"\n",
    "    return(random.choice(gestures))\n",
    "\n",
    "# computer_gesture()"
   ]
  },
  {
   "cell_type": "code",
   "execution_count": 8,
   "metadata": {},
   "outputs": [],
   "source": [
    "def my_gesture():\n",
    "    \"\"\"\n",
    "    Asks the player which gesture wants to show. It has to be rock, paper or scissor\n",
    "    Args:\n",
    "        No arguments\n",
    "    Returns:\n",
    "        str: gesture selected\n",
    "    \"\"\"\n",
    "    my_gest = ''\n",
    "    while str(my_gest) not in gestures:\n",
    "        my_gest = str(input('Enter your gesture (rock, paper, scissors, lizard or spock): '))\n",
    "    return(str(my_gest))\n",
    "#my_gesture()"
   ]
  },
  {
   "cell_type": "code",
   "execution_count": 21,
   "metadata": {},
   "outputs": [],
   "source": [
    "def winner(my_gesture,computer_gesture):\n",
    "    \"\"\"\n",
    "    Checks who wins a round\n",
    "    Args:\n",
    "        my_gesture (string): gesture of the player\n",
    "        computer_gesture (string): gesture of the computer\n",
    "    Returns:\n",
    "        int: 0: there's a tie\n",
    "             1: the computer wins\n",
    "             2: the player wins\n",
    "        \n",
    "    \"\"\"\n",
    "    if ((my_gesture == 'scissors' and (computer_gesture == 'paper' or computer_gesture == 'lizard'))\n",
    "        or (my_gesture == 'paper' and (computer_gesture == 'rock' or computer_gesture == 'spock')) \n",
    "        or (my_gesture == 'rock' and (computer_gesture == 'lizard' or computer_gesture == 'scissors'))\n",
    "        or (my_gesture == 'spock' and (computer_gesture == 'rock' or computer_gesture == 'scissors'))\n",
    "        or (my_gesture == 'lizard' and (computer_gesture == 'spock' or computer_gesture == 'paper'))):\n",
    "        return 2\n",
    "    elif ((computer_gesture == 'scissors' and (my_gesture == 'paper' or my_gesture == 'lizard'))\n",
    "        or (computer_gesture == 'paper' and (my_gesture == 'rock' or my_gesture == 'spock')) \n",
    "        or (computer_gesture == 'rock' and (my_gesture == 'lizard' or my_gesture == 'scissors'))\n",
    "        or (computer_gesture == 'spock' and (my_gesture == 'rock' or my_gesture == 'scissors'))\n",
    "        or (computer_gesture == 'lizard' and (my_gesture == 'spock' or my_gesture == 'paper'))):\n",
    "        return 1\n",
    "    else:\n",
    "        return 0 \n",
    "    \n",
    "# winner('rock','paper')"
   ]
  },
  {
   "cell_type": "code",
   "execution_count": 22,
   "metadata": {},
   "outputs": [],
   "source": [
    "def game(my_gesture,computer_gesture,winner):\n",
    "    \"\"\"\n",
    "    Checks who wins a round\n",
    "    Args:\n",
    "        my_gesture (string): gesture of the player\n",
    "        computer_gesture (string): gesture of the computer\n",
    "        winner (int): who wins\n",
    "             0: there's a tie\n",
    "             1: the computer wins\n",
    "             2: the player wins\n",
    "    Return:\n",
    "        None\n",
    "        \n",
    "    \"\"\"\n",
    "    \n",
    "    print(f\"The choice of the computer is {computer_gesture}\")\n",
    "    print(f\"The choice of the player is {my_gesture}\")\n",
    "    \n",
    "    if winner == 2:\n",
    "        print(\"The player is the winner\")\n",
    "    elif winner == 1:\n",
    "        print(\"The computer is the winner\")\n",
    "    else: \n",
    "        print(\"It's a tie\")\n",
    "\n",
    "# game('paper','scissors',1)"
   ]
  },
  {
   "cell_type": "code",
   "execution_count": 23,
   "metadata": {},
   "outputs": [
    {
     "name": "stdout",
     "output_type": "stream",
     "text": [
      "Enter your gesture (rock, paper, scissors, lizard or spock): spock\n",
      "The choice of the computer is paper\n",
      "The choice of the player is spock\n",
      "The computer is the winner\n",
      "Enter your gesture (rock, paper, scissors, lizard or spock): rock\n",
      "The choice of the computer is lizard\n",
      "The choice of the player is rock\n",
      "The player is the winner\n",
      "Enter your gesture (rock, paper, scissors, lizard or spock): lizard\n",
      "The choice of the computer is spock\n",
      "The choice of the player is lizard\n",
      "The player is the winner\n",
      "Enter your gesture (rock, paper, scissors, lizard or spock): spock\n",
      "The choice of the computer is rock\n",
      "The choice of the player is spock\n",
      "The player is the winner\n",
      "Enter your gesture (rock, paper, scissors, lizard or spock): paper\n",
      "The choice of the computer is spock\n",
      "The choice of the player is paper\n",
      "The player is the winner\n"
     ]
    }
   ],
   "source": [
    "while (player_score + cpu_score) < n_rounds:\n",
    "    computer_ = computer_gesture()\n",
    " #   print(computer_)\n",
    "    my_ = my_gesture()\n",
    " #   print(my_)\n",
    "    win= winner(my_,computer_)\n",
    "    if win == 2:\n",
    "        player_score += 1\n",
    "    elif win == 1:\n",
    "        cpu_score += 1\n",
    "    game_ = game(my_,computer_,win)"
   ]
  },
  {
   "cell_type": "code",
   "execution_count": 12,
   "metadata": {},
   "outputs": [
    {
     "name": "stdout",
     "output_type": "stream",
     "text": [
      "The winner of the game is the player\n"
     ]
    }
   ],
   "source": [
    "if cpu_score >= rounds_to_win:\n",
    "    print(\"The winner of the game is the CPU\")\n",
    "else: \n",
    "    print(\"The winner of the game is the player\")"
   ]
  },
  {
   "cell_type": "code",
   "execution_count": null,
   "metadata": {},
   "outputs": [],
   "source": []
  }
 ],
 "metadata": {
  "kernelspec": {
   "display_name": "Python 3",
   "language": "python",
   "name": "python3"
  },
  "language_info": {
   "codemirror_mode": {
    "name": "ipython",
    "version": 3
   },
   "file_extension": ".py",
   "mimetype": "text/x-python",
   "name": "python",
   "nbconvert_exporter": "python",
   "pygments_lexer": "ipython3",
   "version": "3.8.5"
  },
  "toc": {
   "base_numbering": 1,
   "nav_menu": {},
   "number_sections": true,
   "sideBar": true,
   "skip_h1_title": false,
   "title_cell": "Table of Contents",
   "title_sidebar": "Contents",
   "toc_cell": false,
   "toc_position": {},
   "toc_section_display": true,
   "toc_window_display": false
  }
 },
 "nbformat": 4,
 "nbformat_minor": 5
}
