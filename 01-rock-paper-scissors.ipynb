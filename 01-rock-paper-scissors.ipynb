{
 "cells": [
  {
   "cell_type": "markdown",
   "metadata": {},
   "source": [
    "<img src=\"https://bit.ly/2VnXWr2\" width=\"100\" align=\"left\">"
   ]
  },
  {
   "cell_type": "markdown",
   "metadata": {},
   "source": [
    "# Rock, Paper & Scissors\n",
    "\n",
    "Let's play the famous game against our computer. You can check the rules [here](https://en.wikipedia.org/wiki/Rock%E2%80%93paper%E2%80%93scissors). \n",
    "\n",
    "## Task\n",
    "Create a program that imitates the playability of the well known game of rock, paper, scissors. Follow the guidelines provided.\n",
    "\n",
    "## Tools\n",
    "1. Loop: **for/while**\n",
    "2. Functions: **input(), print()...**\n",
    "3. Conditional statements: **if, elif, else**\n",
    "4. Definition of functions. Modular programming\n",
    "5. Import modules\n",
    "\n",
    "**To solve this challenge, the use of functions is recommended.**\n",
    "\n",
    "#### 1. Import the choice function of the random module."
   ]
  },
  {
   "cell_type": "code",
   "execution_count": 1,
   "metadata": {},
   "outputs": [],
   "source": [
    "import random"
   ]
  },
  {
   "cell_type": "markdown",
   "metadata": {},
   "source": [
    "#### 2. Create a list that includes the 3 possible gesture options of the game: 'rock', 'paper' or 'scissors'. Store the list in a variable called `gestures`."
   ]
  },
  {
   "cell_type": "code",
   "execution_count": 62,
   "metadata": {},
   "outputs": [],
   "source": [
    "possible_options = [\"rock\", \"paper\", \"scissors\"]"
   ]
  },
  {
   "cell_type": "markdown",
   "metadata": {},
   "source": [
    "#### 3. Create a variable called `n_rounds` to store the maximum number of rounds to play in a game. \n",
    "Remember that the number of rounds must be odd: 1, 3, 5, ..."
   ]
  },
  {
   "cell_type": "code",
   "execution_count": 64,
   "metadata": {},
   "outputs": [],
   "source": [
    "import math"
   ]
  },
  {
   "cell_type": "code",
   "execution_count": 66,
   "metadata": {},
   "outputs": [],
   "source": [
    "def n_rounds(n):\n",
    "    player_wins = 0\n",
    "    computer_wins = 0"
   ]
  },
  {
   "cell_type": "markdown",
   "metadata": {},
   "source": [
    "#### 4. Create a variable called `rounds_to_win` to store the number of rounds that a player must win to win the game.\n",
    "**Hint**: the value stored in `rounds_to_win` depends on the value of `n_rounds`. "
   ]
  },
  {
   "cell_type": "code",
   "execution_count": 104,
   "metadata": {},
   "outputs": [],
   "source": [
    "def n_rounds(n):\n",
    "    rounds_to_win = math.ceil(n/2)\n",
    "    return rounds_to_win"
   ]
  },
  {
   "cell_type": "markdown",
   "metadata": {},
   "source": [
    "#### 5. Create two variables to store the number of rounds that the computer and the player have won. Call these variables `cpu_score` and `player_score`."
   ]
  },
  {
   "cell_type": "code",
   "execution_count": 129,
   "metadata": {},
   "outputs": [],
   "source": [
    "user_wins = 0 \n",
    "comp_wins = 0 \n",
    "rounds = 0"
   ]
  },
  {
   "cell_type": "markdown",
   "metadata": {},
   "source": [
    "#### 6. Define a function that randomly returns one of the 3 gesture options.\n",
    "You will use this function to simulate the gesture choice of the computer. "
   ]
  },
  {
   "cell_type": "code",
   "execution_count": 92,
   "metadata": {},
   "outputs": [],
   "source": [
    "def cpu():\n",
    "    cpu_action = random.choice(possible_actions)\n",
    "    return cpu_action"
   ]
  },
  {
   "cell_type": "code",
   "execution_count": 93,
   "metadata": {},
   "outputs": [
    {
     "data": {
      "text/plain": [
       "'paper'"
      ]
     },
     "execution_count": 93,
     "metadata": {},
     "output_type": "execute_result"
    }
   ],
   "source": [
    "cpu()"
   ]
  },
  {
   "cell_type": "markdown",
   "metadata": {},
   "source": [
    "#### 7. Define a function that asks the player which is the gesture he or she wants to show: 'rock', 'paper' or 'scissors'.\n",
    "The player should only be allowed to choose one of the 3 gesture options. If the player's choice is not rock, paper or scissors, keep asking until it is."
   ]
  },
  {
   "cell_type": "code",
   "execution_count": 123,
   "metadata": {},
   "outputs": [
    {
     "name": "stdout",
     "output_type": "stream",
     "text": [
      "Enter 'rock', 'paper', or 'scissor': d\n",
      "Invalid input, make sure your spelling is correct!: rock\n",
      "rock\n"
     ]
    }
   ],
   "source": [
    "def player():\n",
    "    user = input(\"Enter 'rock', 'paper', or 'scissor': \")\n",
    "    user = user.lower()\n",
    "    while user != \"rock\" and user != \"paper\" and user != \"scissor\":\n",
    "        user = input(\"Invalid input, make sure your spelling is correct!: \")\n",
    "    return user \n",
    "\n",
    "user = player() \n",
    "print(user)"
   ]
  },
  {
   "cell_type": "markdown",
   "metadata": {},
   "source": [
    "#### 8. Define a function that checks who won a round. \n",
    "The function should return 0 if there is a tie, 1 if the computer wins and 2 if the player wins."
   ]
  },
  {
   "cell_type": "code",
   "execution_count": 120,
   "metadata": {},
   "outputs": [],
   "source": [
    "def game():\n",
    "    if user == cpu:\n",
    "            return (0, user, cpu)\n",
    "\n",
    "    if is_win(user, cpu):\n",
    "            return (1, user, cpu)\n",
    "\n",
    "    return (-1, user, cpu)\n",
    "\n"
   ]
  },
  {
   "cell_type": "markdown",
   "metadata": {},
   "source": [
    "#### 9. Define a function that prints the choice of the computer, the choice of the player and a message that announces who won the current round. \n",
    "You should also use this function to update the variables that count the number of rounds that the computer and the player have won. The score of the winner increases by one point. If there is a tie, the score does not increase."
   ]
  },
  {
   "cell_type": "code",
   "execution_count": 131,
   "metadata": {},
   "outputs": [
    {
     "name": "stdout",
     "output_type": "stream",
     "text": [
      "Choose rock, paper, or scissors! \n",
      "You get 3 rounds\n",
      ":paper\n",
      "It's a draw!\n",
      ":rock\n",
      "You win this round! Rock beats Scissors\n",
      ":rock\n",
      "It's a draw!\n",
      "\n",
      "You Won the Game!!\n",
      "1 - 0\n"
     ]
    }
   ],
   "source": [
    "import random \n",
    "\n",
    "\n",
    "comp_choices = ['rock', 'paper', 'scissors']\n",
    "\n",
    "\n",
    "user_wins = 0 \n",
    "comp_wins = 0 \n",
    "rounds = 0\n",
    "\n",
    "print(\"Choose rock, paper, or scissors! \\nYou get 3 rounds\")\n",
    "\n",
    "while rounds != 3:\n",
    "\n",
    "    user_conversion = input(\":\")\n",
    "    user_option = user_conversion.lower()\n",
    "\n",
    "    \n",
    "    cpu_action = random.choice(possible_actions)\n",
    "    \n",
    "    if user_option == cpu_action:\n",
    "        print(\"It's a draw!\")\n",
    "        rounds += 1\n",
    "        \n",
    "    elif user_option == 'rock':\n",
    "\n",
    "        if cpu_action == 'paper':\n",
    "            print(\"Round lost! \" + cpu_action.title() + \" beats \" + user_option.title())\n",
    "\n",
    "            comp_wins += 1 \n",
    "            rounds += 1\n",
    "        else: \n",
    "            print(\"You win this round! \" + user_option.title() + \" beats \" + cpu_action.title())\n",
    "\n",
    "            user_wins += 1\n",
    "            rounds += 1\n",
    "\n",
    "    elif user_option == 'paper':\n",
    "\n",
    "        if cpu_action == 'scissors':\n",
    "            print(\"Round lost! \" + cpu_action.title() + \" beats \" + user_option.title())\n",
    "\n",
    "            comp_wins += 1\n",
    "            rounds += 1\n",
    "\n",
    "        else:\n",
    "            print(\"You win this round! \" + user_option.title() + \" beats \" + cpu_action.title())\n",
    "\n",
    "            user_wins += 1\n",
    "            rounds += 1\n",
    "\n",
    "    elif user_option == 'scissors':\n",
    "\n",
    "        if cpu_action == 'rock':\n",
    "            print(\"Round Lost! \" + cpu_action.title() + \" beats \" + user_option.title())\n",
    "\n",
    "            comp_wins += 1\n",
    "            rounds += 1\n",
    "\n",
    "        else:\n",
    "                print(\"You won this round! \" + user_option.title() + \" beats \" + cpu_action.title())\n",
    "                \n",
    "                user_wins += 1\n",
    "                rounds += 1\n",
    "  \n",
    "    else:\n",
    "        print('Invalid input, make sure your spelling is correct!')\n",
    "        print('Choose rock, paper, or scissors!')\n",
    "\n",
    "\n",
    "score = str(user_wins) + ' - ' + str(comp_wins)\n",
    "\n",
    "\n",
    "if user_wins > comp_wins:\n",
    "    print(\"\\nYou Won the Game!!\")\n",
    "    print(score)\n",
    "\n",
    "elif user_wins == comp_wins:\n",
    "    print(\"\\nThe game was a Draw!!\")\n",
    "    print(score)\n",
    "    \n",
    "else:\n",
    "    print('\\nYou Lost the Game!!')\n",
    "    print(score)"
   ]
  },
  {
   "cell_type": "markdown",
   "metadata": {},
   "source": [
    "#### 10. Now it's time to code the execution of the game using the functions and variables you defined above. \n",
    "\n",
    "First, create a loop structure that repeats while no player reaches the minimum score necessary to win and the number of rounds is less than the maximum number of rounds to play in a game.  \n",
    "\n",
    "Inside the loop, use the functions and variables above to create the execution of a round: ask for the player's choice, generate the random choice of the computer, show the round results, update the scores, etc. "
   ]
  },
  {
   "cell_type": "code",
   "execution_count": null,
   "metadata": {},
   "outputs": [
    {
     "name": "stdout",
     "output_type": "stream",
     "text": [
      "Choose rock, paper, or scissors! \n",
      "You get 3 rounds\n"
     ]
    }
   ],
   "source": [
    "import random \n",
    "\n",
    "\n",
    "comp_choices = ['rock', 'paper', 'scissors']\n",
    "\n",
    "\n",
    "user_wins = 0 \n",
    "comp_wins = 0 \n",
    "rounds = 0\n",
    "\n",
    "print(\"Choose rock, paper, or scissors! \\nYou get 3 rounds\")\n",
    "\n",
    "while rounds != 3:\n",
    "\n",
    "    user_conversion = input(\":\")\n",
    "    user_option = user_conversion.lower()\n",
    "\n",
    "    \n",
    "    cpu_action = random.choice(possible_actions)\n",
    "    \n",
    "    if user_option == cpu_action:\n",
    "        print(\"It's a draw!\")\n",
    "        rounds += 1\n",
    "        \n",
    "    elif user_option == 'rock':\n",
    "\n",
    "        if cpu_action == 'paper':\n",
    "            print(\"Round lost! \" + cpu_action.title() + \" beats \" + user_option.title())\n",
    "\n",
    "            comp_wins += 1 \n",
    "            rounds += 1\n",
    "        else: \n",
    "            print(\"You win this round! \" + user_option.title() + \" beats \" + cpu_action.title())\n",
    "\n",
    "            user_wins += 1\n",
    "            rounds += 1\n",
    "\n",
    "    elif user_option == 'paper':\n",
    "\n",
    "        if cpu_action == 'scissors':\n",
    "            print(\"Round lost! \" + cpu_action.title() + \" beats \" + user_option.title())\n",
    "\n",
    "            comp_wins += 1\n",
    "            rounds += 1\n",
    "\n",
    "        else:\n",
    "            print(\"You win this round! \" + user_option.title() + \" beats \" + cpu_action.title())\n",
    "\n",
    "            user_wins += 1\n",
    "            rounds += 1\n",
    "\n",
    "    elif user_option == 'scissors':\n",
    "\n",
    "        if cpu_action == 'rock':\n",
    "            print(\"Round Lost! \" + cpu_action.title() + \" beats \" + user_option.title())\n",
    "\n",
    "            comp_wins += 1\n",
    "            rounds += 1\n",
    "\n",
    "        else:\n",
    "                print(\"You won this round! \" + user_option.title() + \" beats \" + cpu_action.title())\n",
    "                \n",
    "                user_wins += 1\n",
    "                rounds += 1\n",
    "  \n",
    "    else:\n",
    "        print('Invalid input, make sure your spelling is correct!')\n",
    "        print('Choose rock, paper, or scissors!')\n",
    "\n",
    "\n",
    "score = str(user_wins) + ' - ' + str(comp_wins)\n",
    "\n",
    "\n",
    "if user_wins > comp_wins:\n",
    "    print(\"\\nYou Won the Game!!\")\n",
    "    print(score)\n",
    "\n",
    "elif user_wins == comp_wins:\n",
    "    print(\"\\nThe game was a Draw!!\")\n",
    "    print(score)\n",
    "    \n",
    "else:\n",
    "    print('\\nYou Lost the Game!!')\n",
    "    print(score)"
   ]
  },
  {
   "cell_type": "markdown",
   "metadata": {},
   "source": [
    "#### 11. Print the winner of the game based on who won more rounds.\n",
    "Remember that the game might be tied. "
   ]
  },
  {
   "cell_type": "code",
   "execution_count": 132,
   "metadata": {},
   "outputs": [
    {
     "name": "stdout",
     "output_type": "stream",
     "text": [
      "\n",
      "You Won the Game!!\n",
      "1 - 0\n"
     ]
    }
   ],
   "source": [
    "score = str(user_wins) + ' - ' + str(comp_wins)\n",
    "\n",
    "\n",
    "if user_wins > comp_wins:\n",
    "    print(\"\\nYou Won the Game!!\")\n",
    "    print(score)\n",
    "\n",
    "elif user_wins == comp_wins:\n",
    "    print(\"\\nThe game was a Draw!!\")\n",
    "    print(score)\n",
    "    \n",
    "else:\n",
    "    print('\\nYou Lost the Game!!')\n",
    "    print(score)"
   ]
  }
 ],
 "metadata": {
  "kernelspec": {
   "display_name": "Python 3",
   "language": "python",
   "name": "python3"
  },
  "language_info": {
   "codemirror_mode": {
    "name": "ipython",
    "version": 3
   },
   "file_extension": ".py",
   "mimetype": "text/x-python",
   "name": "python",
   "nbconvert_exporter": "python",
   "pygments_lexer": "ipython3",
   "version": "3.8.5"
  }
 },
 "nbformat": 4,
 "nbformat_minor": 2
}
