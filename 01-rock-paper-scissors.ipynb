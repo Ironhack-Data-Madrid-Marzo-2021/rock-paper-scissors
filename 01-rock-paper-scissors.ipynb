{
 "cells": [
  {
   "cell_type": "markdown",
   "metadata": {},
   "source": [
    "<img src=\"https://bit.ly/2VnXWr2\" width=\"100\" align=\"left\">"
   ]
  },
  {
   "cell_type": "markdown",
   "metadata": {},
   "source": [
    "# Rock, Paper & Scissors\n",
    "\n",
    "Let's play the famous game against our computer. You can check the rules [here](https://en.wikipedia.org/wiki/Rock%E2%80%93paper%E2%80%93scissors). \n",
    "\n",
    "## Task\n",
    "Create a program that imitates the playability of the well known game of rock, paper, scissors. Follow the guidelines provided.\n",
    "\n",
    "## Tools\n",
    "1. Loop: **for/while**\n",
    "2. Functions: **input(), print()...**\n",
    "3. Conditional statements: **if, elif, else**\n",
    "4. Definition of functions. Modular programming\n",
    "5. Import modules\n",
    "\n",
    "**To solve this challenge, the use of functions is recommended.**\n",
    "\n",
    "#### 1. Import the choice function of the random module."
   ]
  },
  {
   "cell_type": "code",
   "execution_count": 1,
   "metadata": {
    "collapsed": true
   },
   "outputs": [],
   "source": [
    "import random"
   ]
  },
  {
   "cell_type": "markdown",
   "metadata": {},
   "source": [
    "#### 2. Create a list that includes the 3 possible gesture options of the game: 'rock', 'paper' or 'scissors'. Store the list in a variable called `gestures`."
   ]
  },
  {
   "cell_type": "code",
   "execution_count": 2,
   "metadata": {},
   "outputs": [
    {
     "name": "stdout",
     "output_type": "stream",
     "text": [
      "['rock', 'paper', 'scissors']\n"
     ]
    }
   ],
   "source": [
    "gestures = ['rock', 'paper', 'scissors']\n",
    "\n",
    "print(gestures)\n"
   ]
  },
  {
   "cell_type": "markdown",
   "metadata": {},
   "source": [
    "#### 3. Create a variable called `n_rounds` to store the maximum number of rounds to play in a game. \n",
    "Remember that the number of rounds must be odd: 1, 3, 5, ..."
   ]
  },
  {
   "cell_type": "code",
   "execution_count": 3,
   "metadata": {},
   "outputs": [
    {
     "name": "stdout",
     "output_type": "stream",
     "text": [
      "Enter an odd number of rounds: 3\n",
      "Let's Play!\n"
     ]
    }
   ],
   "source": [
    "def is_number(input_str):\n",
    "    for i in input_str:\n",
    "        if not i.isdigit() or i in '.,- ':\n",
    "            return False\n",
    "    return True\n",
    "    \n",
    "\n",
    "def is_odd(input_str):\n",
    "    if int(input_str) % 2 == 1:\n",
    "        return True\n",
    "    return False\n",
    "        \n",
    "\n",
    "n_rounds = input(\"Enter an odd number of rounds: \")   \n",
    "    \n",
    "\n",
    "while not is_number(n_rounds) or not is_odd(n_rounds):\n",
    "    n_rounds = input(\"Enter an odd number of rounds: \") \n",
    "    \n",
    "n_rounds = int(n_rounds)\n",
    "print(\"Let's Play!\")"
   ]
  },
  {
   "cell_type": "markdown",
   "metadata": {},
   "source": [
    "#### 4. Create a variable called `rounds_to_win` to store the number of rounds that a player must win to win the game.\n",
    "**Hint**: the value stored in `rounds_to_win` depends on the value of `n_rounds`. "
   ]
  },
  {
   "cell_type": "code",
   "execution_count": 4,
   "metadata": {},
   "outputs": [
    {
     "name": "stdout",
     "output_type": "stream",
     "text": [
      "2\n"
     ]
    }
   ],
   "source": [
    "rounds_to_win = int(n_rounds/2) + 1  \n",
    "\n",
    "print(rounds_to_win)"
   ]
  },
  {
   "cell_type": "markdown",
   "metadata": {},
   "source": [
    "#### 5. Create two variables to store the number of rounds that the computer and the player have won. Call these variables `cpu_score` and `player_score`."
   ]
  },
  {
   "cell_type": "code",
   "execution_count": 5,
   "metadata": {
    "collapsed": true
   },
   "outputs": [],
   "source": [
    "cpu_score = 0\n",
    "player_score = 0"
   ]
  },
  {
   "cell_type": "markdown",
   "metadata": {},
   "source": [
    "#### 6. Define a function that randomly returns one of the 3 gesture options.\n",
    "You will use this function to simulate the gesture choice of the computer. "
   ]
  },
  {
   "cell_type": "code",
   "execution_count": 6,
   "metadata": {},
   "outputs": [],
   "source": [
    "def gesture_choice(gestures):\n",
    "    return random.choice(gestures)\n",
    "\n",
    "# cpu_choice = gesture_choice(gestures)\n",
    "# print(cpu_choice)"
   ]
  },
  {
   "cell_type": "markdown",
   "metadata": {},
   "source": [
    "#### 7. Define a function that asks the player which is the gesture he or she wants to show: 'rock', 'paper' or 'scissors'.\n",
    "The player should only be allowed to choose one of the 3 gesture options. If the player's choice is not rock, paper or scissors, keep asking until it is."
   ]
  },
  {
   "cell_type": "code",
   "execution_count": 7,
   "metadata": {
    "scrolled": true
   },
   "outputs": [],
   "source": [
    "def time_player(gestures):\n",
    "    player_selection = input(\"Enter rock, paper or scissors\")\n",
    "    \n",
    "    while not player_selection in gestures:\n",
    "        player_selection = input(\"Enter rock, paper or scissors\")\n",
    "        \n",
    "    return player_selection \n",
    "\n",
    "# player_choice = time_player(gestures)\n",
    "# print(player_choice)"
   ]
  },
  {
   "cell_type": "markdown",
   "metadata": {},
   "source": [
    "#### 8. Define a function that checks who won a round. \n",
    "The function should return 0 if there is a tie, 1 if the computer wins and 2 if the player wins."
   ]
  },
  {
   "cell_type": "code",
   "execution_count": 18,
   "metadata": {},
   "outputs": [],
   "source": [
    "# tie = 0\n",
    "# cpu_wins = 1\n",
    "# player_wins = 2\n",
    "\n",
    "def round_win(cpu_choice, player_choice):\n",
    "    if cpu_choice == player_choice:\n",
    "        return 0\n",
    "    if cpu_choice == 'rock' and player_choice == 'paper':\n",
    "        return 2\n",
    "    if cpu_choice == 'rock' and player_choice == 'scissors':\n",
    "        return 1\n",
    "    if cpu_choice == 'paper' and player_choice == 'rock':\n",
    "        return 1\n",
    "    if cpu_choice == 'paper' and player_choice == 'scissors':\n",
    "        return 2\n",
    "    if cpu_choice == 'scissors' and player_choice == 'rock':\n",
    "        return 2\n",
    "    if cpu_choice == 'scissors' and player_choice == 'paper':\n",
    "        return 1\n",
    "    \n",
    "# winner = round_win('paper', 'paper')\n",
    "# print(winner)"
   ]
  },
  {
   "cell_type": "markdown",
   "metadata": {},
   "source": [
    "#### 9. Define a function that prints the choice of the computer, the choice of the player and a message that announces who won the current round. \n",
    "You should also use this function to update the variables that count the number of rounds that the computer and the player have won. The score of the winner increases by one point. If there is a tie, the score does not increase."
   ]
  },
  {
   "cell_type": "code",
   "execution_count": 19,
   "metadata": {},
   "outputs": [],
   "source": [
    "def board(cpu_choice, player_choice, cpu_score, player_score):\n",
    "   \n",
    "    c = cpu_score\n",
    "    p = player_score\n",
    "    winner = round_win(cpu_choice, player_choice)\n",
    "    \n",
    "    print('cpu_choice:', cpu_choice, '/player_choice:', player_choice) \n",
    "    \n",
    "    if winner == 0:\n",
    "        print('Tie')\n",
    "    \n",
    "    if winner == 1:\n",
    "        c += 1\n",
    "        print('Won by cpu')\n",
    "        \n",
    "    if winner == 2:\n",
    "        p += 1\n",
    "        print('Won by player')\n",
    "        \n",
    "    return c, p\n",
    "\n",
    "# cpu_score, player_score = board('paper', 'scissors', cpu_score, player_score)\n",
    "# print(cpu_score)\n",
    "# print(player_score)"
   ]
  },
  {
   "cell_type": "markdown",
   "metadata": {},
   "source": [
    "#### 10. Now it's time to code the execution of the game using the functions and variables you defined above. \n",
    "\n",
    "First, create a loop structure that repeats while no player reaches the minimum score necessary to win and the number of rounds is less than the maximum number of rounds to play in a game.  \n",
    "\n",
    "Inside the loop, use the functions and variables above to create the execution of a round: ask for the player's choice, generate the random choice of the computer, show the round results, update the scores, etc. "
   ]
  },
  {
   "cell_type": "code",
   "execution_count": 28,
   "metadata": {},
   "outputs": [
    {
     "name": "stdout",
     "output_type": "stream",
     "text": [
      "Enter rock, paper or scissorsrock\n",
      "cpu_choice: rock /player_choice: rock\n",
      "Tie\n",
      "0 0\n",
      "Enter rock, paper or scissorsrock\n",
      "cpu_choice: paper /player_choice: rock\n",
      "Won by cpu\n",
      "1 0\n",
      "Enter rock, paper or scissorsrock\n",
      "cpu_choice: scissors /player_choice: rock\n",
      "Won by player\n",
      "1 1\n",
      "Enter rock, paper or scissorsrock\n",
      "cpu_choice: scissors /player_choice: rock\n",
      "Won by player\n",
      "1 2\n"
     ]
    }
   ],
   "source": [
    "# while not (cpu_score >= rounds_to_win and player_score >= rounds_to_win)\n",
    "# while not cpu_score >= rounds_to_win and not player_score >= rounds_to_win\n",
    "\n",
    "cpu_score = 0\n",
    "player_score = 0\n",
    "\n",
    "while cpu_score < rounds_to_win and player_score < rounds_to_win:\n",
    "    player_choice = time_player(gestures)\n",
    "    cpu_choice = gesture_choice(gestures)\n",
    "    cpu_score, player_score = board(cpu_choice, player_choice, cpu_score, player_score)   \n"
   ]
  },
  {
   "cell_type": "markdown",
   "metadata": {},
   "source": [
    "#### 11. Print the winner of the game based on who won more rounds.\n",
    "Remember that the game might be tied. "
   ]
  },
  {
   "cell_type": "code",
   "execution_count": 29,
   "metadata": {},
   "outputs": [
    {
     "name": "stdout",
     "output_type": "stream",
     "text": [
      "Game won by player\n"
     ]
    }
   ],
   "source": [
    "if cpu_score >= rounds_to_win:\n",
    "    print('Game won by cpu')\n",
    "elif player_score >= rounds_to_win:\n",
    "    print('Game won by player')"
   ]
  }
 ],
 "metadata": {
  "kernelspec": {
   "display_name": "Python 3",
   "language": "python",
   "name": "python3"
  },
  "language_info": {
   "codemirror_mode": {
    "name": "ipython",
    "version": 3
   },
   "file_extension": ".py",
   "mimetype": "text/x-python",
   "name": "python",
   "nbconvert_exporter": "python",
   "pygments_lexer": "ipython3",
   "version": "3.6.2"
  }
 },
 "nbformat": 4,
 "nbformat_minor": 2
}
