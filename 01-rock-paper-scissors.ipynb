{
 "cells": [
  {
   "cell_type": "markdown",
   "metadata": {},
   "source": [
    "<img src=\"https://bit.ly/2VnXWr2\" width=\"100\" align=\"left\">"
   ]
  },
  {
   "cell_type": "markdown",
   "metadata": {},
   "source": [
    "# Rock, Paper & Scissors\n",
    "\n",
    "Let's play the famous game against our computer. You can check the rules [here](https://en.wikipedia.org/wiki/Rock%E2%80%93paper%E2%80%93scissors). \n",
    "\n",
    "## Task\n",
    "Create a program that imitates the playability of the well known game of rock, paper, scissors. Follow the guidelines provided.\n",
    "\n",
    "## Tools\n",
    "1. Loop: **for/while**\n",
    "2. Functions: **input(), print()...**\n",
    "3. Conditional statements: **if, elif, else**\n",
    "4. Definition of functions. Modular programming\n",
    "5. Import modules\n",
    "\n",
    "**To solve this challenge, the use of functions is recommended.**\n",
    "\n",
    "#### 1. Import the choice function of the random module."
   ]
  },
  {
   "cell_type": "code",
   "execution_count": 4,
   "metadata": {},
   "outputs": [],
   "source": [
    "import random\n",
    "import math\n"
   ]
  },
  {
   "cell_type": "markdown",
   "metadata": {},
   "source": [
    "#### 2. Create a list that includes the 3 possible gesture options of the game: 'rock', 'paper' or 'scissors'. Store the list in a variable called `gestures`."
   ]
  },
  {
   "cell_type": "code",
   "execution_count": 1,
   "metadata": {},
   "outputs": [],
   "source": [
    "gestures = [\"rock\", \"paper\", \"scissors\"]"
   ]
  },
  {
   "cell_type": "markdown",
   "metadata": {},
   "source": [
    "#### 3. Create a variable called `n_rounds` to store the maximum number of rounds to play in a game. \n",
    "Remember that the number of rounds must be odd: 1, 3, 5, ..."
   ]
  },
  {
   "cell_type": "code",
   "execution_count": 6,
   "metadata": {},
   "outputs": [
    {
     "name": "stdout",
     "output_type": "stream",
     "text": [
      "Enter the rounds you wanna play: 5\n"
     ]
    }
   ],
   "source": [
    "n_rounds = int(input(\"Enter the rounds you wanna play: \"))\n",
    "\n",
    "if n_rounds % 2 == 0:\n",
    "    n_rounds = int(input(\"Please, insert an odd number:\"))\n",
    "        \n",
    "else:\n",
    "    n_rounds = n_rounds"
   ]
  },
  {
   "cell_type": "markdown",
   "metadata": {},
   "source": [
    "#### 4. Create a variable called `rounds_to_win` to store the number of rounds that a player must win to win the game.\n",
    "**Hint**: the value stored in `rounds_to_win` depends on the value of `n_rounds`. "
   ]
  },
  {
   "cell_type": "code",
   "execution_count": 7,
   "metadata": {},
   "outputs": [],
   "source": [
    "rounds_to_win = (math.ceil(n_rounds / 2))"
   ]
  },
  {
   "cell_type": "markdown",
   "metadata": {},
   "source": [
    "#### 5. Create two variables to store the number of rounds that the computer and the player have won. Call these variables `cpu_score` and `player_score`."
   ]
  },
  {
   "cell_type": "code",
   "execution_count": 8,
   "metadata": {},
   "outputs": [],
   "source": [
    "# cpu_score (cpu wins)\n",
    "cpu_score = 0\n",
    "player_score = 0"
   ]
  },
  {
   "cell_type": "markdown",
   "metadata": {},
   "source": [
    "#### 6. Define a function that randomly returns one of the 3 gesture options.\n",
    "You will use this function to simulate the gesture choice of the computer. "
   ]
  },
  {
   "cell_type": "code",
   "execution_count": 9,
   "metadata": {},
   "outputs": [],
   "source": [
    "def options():\n",
    "    cpu_option = random.choice(gestures)\n",
    "    return cpu_option"
   ]
  },
  {
   "cell_type": "markdown",
   "metadata": {},
   "source": [
    "#### 7. Define a function that asks the player which is the gesture he or she wants to show: 'rock', 'paper' or 'scissors'.\n",
    "The player should only be allowed to choose one of the 3 gesture options. If the player's choice is not rock, paper or scissors, keep asking until it is."
   ]
  },
  {
   "cell_type": "code",
   "execution_count": 2,
   "metadata": {},
   "outputs": [],
   "source": [
    "#player is only allowed to choose among \"rock\", \"paper\", and \"scissors\"\n",
    "\n",
    "def choices():\n",
    "    player_option = str(input(\"Enter your choice: \"))\n",
    "    while player_option not in gestures:\n",
    "        player_option = str(input(\"Enter your choice: \"))\n",
    "        if player_option in gestures:\n",
    "            player_option = str(player_option)\n",
    "            return f\"Your choice is {player_option}\"\n",
    "                  "
   ]
  },
  {
   "cell_type": "markdown",
   "metadata": {},
   "source": [
    "#### 8. Define a function that checks who won a round. \n",
    "The function should return 0 if there is a tie, 1 if the computer wins and 2 if the player wins."
   ]
  },
  {
   "cell_type": "code",
   "execution_count": 24,
   "metadata": {},
   "outputs": [
    {
     "ename": "SyntaxError",
     "evalue": "'break' outside loop (<ipython-input-24-dae1830a0312>, line 30)",
     "output_type": "error",
     "traceback": [
      "\u001b[0;36m  File \u001b[0;32m\"<ipython-input-24-dae1830a0312>\"\u001b[0;36m, line \u001b[0;32m30\u001b[0m\n\u001b[0;31mSyntaxError\u001b[0m\u001b[0;31m:\u001b[0m 'break' outside loop\n"
     ]
    }
   ],
   "source": [
    "def round_won(player_option, cpu_option):\n",
    "    if str(player_option) == str(cpu_option):\n",
    "        player_move = 0\n",
    "        return 0\n",
    "    elif str(player_option) == \"rock\":\n",
    "        if str(cpu_option) == \"scissors\":\n",
    "            player_move = 2\n",
    "            return 2\n",
    "        else:\n",
    "            player_move = 1\n",
    "            return 1\n",
    "    elif str(player_option) == \"paper\":\n",
    "        if str(cpu_option) == \"rock\":\n",
    "            player_move = 2\n",
    "            return 2\n",
    "        else:\n",
    "            player_move = 1\n",
    "            return 1\n",
    "    elif str(player_option) == \"scissors\":\n",
    "        if str(cpu_option) == \"paper\":\n",
    "            player_move = 2\n",
    "            return 2\n",
    "        else:\n",
    "            player_move = 1\n",
    "            return 1       \n",
    "    else:\n",
    "        "
   ]
  },
  {
   "cell_type": "markdown",
   "metadata": {},
   "source": [
    "#### 9. Define a function that prints the choice of the computer, the choice of the player and a message that announces who won the current round. \n",
    "You should also use this function to update the variables that count the number of rounds that the computer and the player have won. The score of the winner increases by one point. If there is a tie, the score does not increase."
   ]
  },
  {
   "cell_type": "code",
   "execution_count": 27,
   "metadata": {},
   "outputs": [],
   "source": [
    "def this_round():\n",
    "    print(f\"The computer chose {cpu_option}\")\n",
    "    print(f\"You chose {player_option}\")\n",
    "    \n",
    "    if player_move == 1:\n",
    "        player_score += 1\n",
    "        winner = \"you\"\n",
    "    elif player_move == 2:\n",
    "        cpu_score += 1\n",
    "        winner = \"the computer\"\n",
    "    else:\n",
    "\n",
    "        return f\"The winner is {winner}\""
   ]
  },
  {
   "cell_type": "markdown",
   "metadata": {},
   "source": [
    "#### 10. Now it's time to code the execution of the game using the functions and variables you defined above. \n",
    "\n",
    "First, create a loop structure that repeats while no player reaches the minimum score necessary to win and the number of rounds is less than the maximum number of rounds to play in a game.  \n",
    "\n",
    "Inside the loop, use the functions and variables above to create the execution of a round: ask for the player's choice, generate the random choice of the computer, show the round results, update the scores, etc. "
   ]
  },
  {
   "cell_type": "code",
   "execution_count": 22,
   "metadata": {},
   "outputs": [
    {
     "ename": "IndentationError",
     "evalue": "unexpected indent (<ipython-input-22-12822546efc6>, line 28)",
     "output_type": "error",
     "traceback": [
      "\u001b[0;36m  File \u001b[0;32m\"<ipython-input-22-12822546efc6>\"\u001b[0;36m, line \u001b[0;32m28\u001b[0m\n\u001b[0;31m    player_option = str(input(\"Enter your choice: \"))\u001b[0m\n\u001b[0m    ^\u001b[0m\n\u001b[0;31mIndentationError\u001b[0m\u001b[0;31m:\u001b[0m unexpected indent\n"
     ]
    }
   ],
   "source": [
    "\"\"\"\n",
    "Quiero creer que he entendido la lógica del ejercicio, pero no sé por qué me falla la función \"choices\". \n",
    "Después de estar casi todo el finde solucionando el problema de espacio en el PC \n",
    "es lo que me ha dado tiempo a llegar.\"\"\"\n",
    "\n",
    "\n",
    "\n",
    "\n",
    "import random\n",
    "import math\n",
    "\n",
    "gestures = [\"rock\", \"paper\", \"scissors\"]\n",
    "\n",
    "n_rounds = int(input(\"Enter the rounds you wanna play: \"))\n",
    "if n_rounds % 2 == 0:\n",
    "    n_rounds = int(input(\"Please, insert an odd number:\"))\n",
    "else:\n",
    "    n_rounds = n_rounds\n",
    "        \n",
    "    rounds_to_win = (math.ceil(n_rounds / 2))    \n",
    "cpu_score = 0\n",
    "player_score = 0\n",
    "\n",
    "while True:\n",
    "    \n",
    "    cpu_option = random.choice(gestures)   \n",
    "    def options():\n",
    "        return cpu_option\n",
    "    \n",
    "             player_option = str(input(\"Enter your choice: \"))\n",
    "    \n",
    "    def choices():\n",
    "        \n",
    "        while player_option not in gestures:\n",
    "            player_option = str(input(\"Please, choose among rock, paper and scissors: \"))\n",
    "       \n",
    "        if player_option in gestures:\n",
    "            player_option = str(player_option)\n",
    "        return f\"Your choice is {player_option}\"\n",
    "            \n",
    "        \n",
    "            def round_won(player_option, cpu_option):\n",
    "                if str(player_option) == str(cpu_option):\n",
    "                    player_move = 0\n",
    "                    return 0\n",
    "                elif str(player_option) == \"rock\":\n",
    "                    if str(cpu_option) == \"scissors\":\n",
    "                        player_move = 2\n",
    "                        return 2\n",
    "                    else:\n",
    "                        player_move = 1\n",
    "                        return 1\n",
    "                elif str(player_option) == \"paper\":\n",
    "                    if str(cpu_option) == \"rock\":\n",
    "                        player_move = 2\n",
    "                        return 2\n",
    "                    else:\n",
    "                        player_move = 1\n",
    "                        return 1\n",
    "                elif str(player_option) == \"scissors\":\n",
    "                    if str(cpu_option) == \"paper\":\n",
    "                        player_move = 2\n",
    "                        return 2\n",
    "                    else:\n",
    "                        player_move = 1\n",
    "                        return 1       \n",
    "\n",
    "            def this_round():\n",
    "                if player_move == 1:\n",
    "                    player_score += 1\n",
    "                    winner = \"you\"\n",
    "                elif player_move == 2:\n",
    "                    cpu_score += 1\n",
    "                    winner = \"the computer\"\n",
    "                else:\n",
    "                    print(\"It's a tie\")\n",
    "\n",
    "return f\"The winner is {winner}\"    \n",
    "\n",
    "if n_rounds == rounds_to_win:\n",
    "        break\n",
    "        "
   ]
  },
  {
   "cell_type": "code",
   "execution_count": null,
   "metadata": {},
   "outputs": [],
   "source": [
    "print(f\"You chose {player_option} and the computer chose {cpu_option}\""
   ]
  },
  {
   "cell_type": "markdown",
   "metadata": {},
   "source": [
    "#### 11. Print the winner of the game based on who won more rounds.\n",
    "Remember that the game might be tied. "
   ]
  },
  {
   "cell_type": "code",
   "execution_count": null,
   "metadata": {},
   "outputs": [],
   "source": []
  }
 ],
 "metadata": {
  "kernelspec": {
   "display_name": "Python 3",
   "language": "python",
   "name": "python3"
  }
 },
 "nbformat": 4,
 "nbformat_minor": 2
}
