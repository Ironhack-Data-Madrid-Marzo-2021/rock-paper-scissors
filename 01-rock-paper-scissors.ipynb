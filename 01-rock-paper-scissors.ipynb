{
 "cells": [
  {
   "cell_type": "markdown",
   "metadata": {},
   "source": [
    "<img src=\"https://bit.ly/2VnXWr2\" width=\"100\" align=\"left\">"
   ]
  },
  {
   "cell_type": "markdown",
   "metadata": {},
   "source": [
    "# Rock, Paper & Scissors\n",
    "\n",
    "Let's play the famous game against our computer. You can check the rules [here](https://en.wikipedia.org/wiki/Rock%E2%80%93paper%E2%80%93scissors). \n",
    "\n",
    "## Task\n",
    "Create a program that imitates the playability of the well known game of rock, paper, scissors. Follow the guidelines provided.\n",
    "\n",
    "## Tools\n",
    "1. Loop: **for/while**\n",
    "2. Functions: **input(), print()...**\n",
    "3. Conditional statements: **if, elif, else**\n",
    "4. Definition of functions. Modular programming\n",
    "5. Import modules\n",
    "\n",
    "**To solve this challenge, the use of functions is recommended.**\n",
    "\n",
    "#### 1. Import the choice function of the random module."
   ]
  },
  {
   "cell_type": "code",
   "execution_count": 163,
   "metadata": {
    "scrolled": true
   },
   "outputs": [],
   "source": [
    "import random\n",
    "from random import choice\n",
    "from math import ceil\n"
   ]
  },
  {
   "cell_type": "markdown",
   "metadata": {},
   "source": [
    "#### 2. Create a list that includes the 3 possible gesture options of the game: 'rock', 'paper' or 'scissors'. Store the list in a variable called \n",
    "`gestures`."
   ]
  },
  {
   "cell_type": "code",
   "execution_count": 14,
   "metadata": {},
   "outputs": [],
   "source": [
    "gestures = ['🎸', '📜', '✂️' ]"
   ]
  },
  {
   "cell_type": "markdown",
   "metadata": {},
   "source": [
    "#### 3. Create a variable called `n_rounds` to store the maximum number of rounds to play in a game. \n",
    "Remember that the number of rounds must be odd: 1, 3, 5, ..."
   ]
  },
  {
   "cell_type": "code",
   "execution_count": 240,
   "metadata": {},
   "outputs": [
    {
     "name": "stdout",
     "output_type": "stream",
     "text": [
      "cual es el numero maximo de rondas: 2\n",
      "el numero es par, mete uno impar\n"
     ]
    },
    {
     "ename": "KeyboardInterrupt",
     "evalue": "Interrupted by user",
     "output_type": "error",
     "traceback": [
      "\u001b[0;31m---------------------------------------------------------------------------\u001b[0m",
      "\u001b[0;31mKeyboardInterrupt\u001b[0m                         Traceback (most recent call last)",
      "\u001b[0;32m<ipython-input-240-2408fbc219d6>\u001b[0m in \u001b[0;36m<module>\u001b[0;34m\u001b[0m\n\u001b[1;32m      3\u001b[0m \u001b[0;32mwhile\u001b[0m \u001b[0mn_rounds\u001b[0m \u001b[0;34m%\u001b[0m \u001b[0;36m2\u001b[0m \u001b[0;34m==\u001b[0m \u001b[0;36m0\u001b[0m\u001b[0;34m:\u001b[0m\u001b[0;34m\u001b[0m\u001b[0;34m\u001b[0m\u001b[0m\n\u001b[1;32m      4\u001b[0m     \u001b[0mprint\u001b[0m\u001b[0;34m(\u001b[0m\u001b[0;34m'el numero es par, mete uno impar'\u001b[0m\u001b[0;34m)\u001b[0m\u001b[0;34m\u001b[0m\u001b[0;34m\u001b[0m\u001b[0m\n\u001b[0;32m----> 5\u001b[0;31m     \u001b[0mn_rounds\u001b[0m \u001b[0;34m=\u001b[0m \u001b[0mint\u001b[0m\u001b[0;34m(\u001b[0m\u001b[0minput\u001b[0m\u001b[0;34m(\u001b[0m\u001b[0;34m'cual es el numero maximo de rondas: '\u001b[0m\u001b[0;34m)\u001b[0m\u001b[0;34m)\u001b[0m\u001b[0;34m\u001b[0m\u001b[0;34m\u001b[0m\u001b[0m\n\u001b[0m\u001b[1;32m      6\u001b[0m \u001b[0;32melse\u001b[0m\u001b[0;34m:\u001b[0m\u001b[0;34m\u001b[0m\u001b[0;34m\u001b[0m\u001b[0m\n\u001b[1;32m      7\u001b[0m     \u001b[0mprint\u001b[0m\u001b[0;34m(\u001b[0m\u001b[0;34mf'buenisimo el numero maximo de rondas es {n_rounds}, ahora al juego!'\u001b[0m\u001b[0;34m)\u001b[0m\u001b[0;34m\u001b[0m\u001b[0;34m\u001b[0m\u001b[0m\n",
      "\u001b[0;32m~/opt/anaconda3/lib/python3.8/site-packages/ipykernel/kernelbase.py\u001b[0m in \u001b[0;36mraw_input\u001b[0;34m(self, prompt)\u001b[0m\n\u001b[1;32m    858\u001b[0m                 \u001b[0;34m\"raw_input was called, but this frontend does not support input requests.\"\u001b[0m\u001b[0;34m\u001b[0m\u001b[0;34m\u001b[0m\u001b[0m\n\u001b[1;32m    859\u001b[0m             )\n\u001b[0;32m--> 860\u001b[0;31m         return self._input_request(str(prompt),\n\u001b[0m\u001b[1;32m    861\u001b[0m             \u001b[0mself\u001b[0m\u001b[0;34m.\u001b[0m\u001b[0m_parent_ident\u001b[0m\u001b[0;34m,\u001b[0m\u001b[0;34m\u001b[0m\u001b[0;34m\u001b[0m\u001b[0m\n\u001b[1;32m    862\u001b[0m             \u001b[0mself\u001b[0m\u001b[0;34m.\u001b[0m\u001b[0m_parent_header\u001b[0m\u001b[0;34m,\u001b[0m\u001b[0;34m\u001b[0m\u001b[0;34m\u001b[0m\u001b[0m\n",
      "\u001b[0;32m~/opt/anaconda3/lib/python3.8/site-packages/ipykernel/kernelbase.py\u001b[0m in \u001b[0;36m_input_request\u001b[0;34m(self, prompt, ident, parent, password)\u001b[0m\n\u001b[1;32m    902\u001b[0m             \u001b[0;32mexcept\u001b[0m \u001b[0mKeyboardInterrupt\u001b[0m\u001b[0;34m:\u001b[0m\u001b[0;34m\u001b[0m\u001b[0;34m\u001b[0m\u001b[0m\n\u001b[1;32m    903\u001b[0m                 \u001b[0;31m# re-raise KeyboardInterrupt, to truncate traceback\u001b[0m\u001b[0;34m\u001b[0m\u001b[0;34m\u001b[0m\u001b[0;34m\u001b[0m\u001b[0m\n\u001b[0;32m--> 904\u001b[0;31m                 \u001b[0;32mraise\u001b[0m \u001b[0mKeyboardInterrupt\u001b[0m\u001b[0;34m(\u001b[0m\u001b[0;34m\"Interrupted by user\"\u001b[0m\u001b[0;34m)\u001b[0m \u001b[0;32mfrom\u001b[0m \u001b[0;32mNone\u001b[0m\u001b[0;34m\u001b[0m\u001b[0;34m\u001b[0m\u001b[0m\n\u001b[0m\u001b[1;32m    905\u001b[0m             \u001b[0;32mexcept\u001b[0m \u001b[0mException\u001b[0m \u001b[0;32mas\u001b[0m \u001b[0me\u001b[0m\u001b[0;34m:\u001b[0m\u001b[0;34m\u001b[0m\u001b[0;34m\u001b[0m\u001b[0m\n\u001b[1;32m    906\u001b[0m                 \u001b[0mself\u001b[0m\u001b[0;34m.\u001b[0m\u001b[0mlog\u001b[0m\u001b[0;34m.\u001b[0m\u001b[0mwarning\u001b[0m\u001b[0;34m(\u001b[0m\u001b[0;34m\"Invalid Message:\"\u001b[0m\u001b[0;34m,\u001b[0m \u001b[0mexc_info\u001b[0m\u001b[0;34m=\u001b[0m\u001b[0;32mTrue\u001b[0m\u001b[0;34m)\u001b[0m\u001b[0;34m\u001b[0m\u001b[0;34m\u001b[0m\u001b[0m\n",
      "\u001b[0;31mKeyboardInterrupt\u001b[0m: Interrupted by user"
     ]
    }
   ],
   "source": [
    "n_rounds = int(input('cual es el numero maximo de rondas: '))\n",
    "\n",
    "while n_rounds % 2 == 0:\n",
    "    print('el numero es par, mete uno impar')\n",
    "    n_rounds = int(input('cual es el numero maximo de rondas: '))\n",
    "else:\n",
    "    print(f'buenisimo el numero maximo de rondas es {n_rounds}, ahora al juego!')\n"
   ]
  },
  {
   "cell_type": "code",
   "execution_count": 157,
   "metadata": {},
   "outputs": [],
   "source": [
    "n_rounds = 5"
   ]
  },
  {
   "cell_type": "markdown",
   "metadata": {},
   "source": [
    "#### 4. Create a variable called `rounds_to_win` to store the number of rounds that a player must win to win the game.\n",
    "**Hint**: the value stored in `rounds_to_win` depends on the value of `n_rounds`. "
   ]
  },
  {
   "cell_type": "code",
   "execution_count": 159,
   "metadata": {},
   "outputs": [],
   "source": [
    "rounds_to_win = round((n_rounds/3) * 2)\n",
    "rounds_to_win = n_rounds/2"
   ]
  },
  {
   "cell_type": "code",
   "execution_count": 166,
   "metadata": {},
   "outputs": [
    {
     "data": {
      "text/plain": [
       "3"
      ]
     },
     "execution_count": 166,
     "metadata": {},
     "output_type": "execute_result"
    }
   ],
   "source": [
    "rounds_to_win = ceil(n_rounds/2)\n",
    "rounds_to_win"
   ]
  },
  {
   "cell_type": "markdown",
   "metadata": {},
   "source": [
    "#### 5. Create two variables to store the number of rounds that the computer and the player have won. Call these variables `cpu_score` and `player_score`."
   ]
  },
  {
   "cell_type": "markdown",
   "metadata": {},
   "source": [
    "#### 6. Define a function that randomly returns one of the 3 gesture options.\n",
    "You will use this function to simulate the gesture choice of the computer. "
   ]
  },
  {
   "cell_type": "code",
   "execution_count": 252,
   "metadata": {},
   "outputs": [],
   "source": [
    "def random_RPS(gestures) : \n",
    "    return random.choice(gestures)"
   ]
  },
  {
   "cell_type": "markdown",
   "metadata": {},
   "source": [
    "#### 7. Define a function that asks the player which is the gesture he or she wants to show: 'rock', 'paper' or 'scissors'.\n",
    "The player should only be allowed to choose one of the 3 gesture options. If the player's choice is not rock, paper or scissors, keep asking until it is."
   ]
  },
  {
   "cell_type": "code",
   "execution_count": 243,
   "metadata": {},
   "outputs": [],
   "source": [
    "def RPS_choice(gestures) : \n",
    "    '''\n",
    "    en esta funcion estamos diciendole al player que escoja un gesture entre las gestures permitidas/\n",
    "    \n",
    "    gestures = lista de gestos permitidos\n",
    "    \n",
    "    rps = el gesto escojido por el jugador. \n",
    "    \n",
    "    \n",
    "    '''\n",
    "    \n",
    "    rps = input('Escoje con cual vas a jugar esta ronda:\\n 1. 🎸\\n  2. 📜\\n 3.✂️ : ')\n",
    "    if rps not in gestures:\n",
    "        print('Con eso no podemos jugar!')\n",
    "        rps = input('Escoje con cual vas a jugar esta ronda:\\n 1. 🎸\\n  2. 📜\\n 3.✂️ : ')\n",
    "        \n",
    "        \n",
    "        return print(rps)\n",
    "        \n",
    "        "
   ]
  },
  {
   "cell_type": "code",
   "execution_count": 245,
   "metadata": {},
   "outputs": [
    {
     "name": "stdout",
     "output_type": "stream",
     "text": [
      "Escoje con cual vas a jugar esta ronda:\n",
      " 1. 🎸\n",
      "  2. 📜\n",
      " 3.✂️ : 2\n",
      "Con eso no podemos jugar!\n"
     ]
    },
    {
     "ename": "KeyboardInterrupt",
     "evalue": "Interrupted by user",
     "output_type": "error",
     "traceback": [
      "\u001b[0;31m---------------------------------------------------------------------------\u001b[0m",
      "\u001b[0;31mKeyboardInterrupt\u001b[0m                         Traceback (most recent call last)",
      "\u001b[0;32m<ipython-input-245-55a50c0d4e08>\u001b[0m in \u001b[0;36m<module>\u001b[0;34m\u001b[0m\n\u001b[0;32m----> 1\u001b[0;31m \u001b[0mRPS_choice\u001b[0m\u001b[0;34m(\u001b[0m\u001b[0mgestures\u001b[0m\u001b[0;34m)\u001b[0m\u001b[0;34m\u001b[0m\u001b[0;34m\u001b[0m\u001b[0m\n\u001b[0m",
      "\u001b[0;32m<ipython-input-243-235bd3132a3f>\u001b[0m in \u001b[0;36mRPS_choice\u001b[0;34m(gestures)\u001b[0m\n\u001b[1;32m     13\u001b[0m     \u001b[0;32mif\u001b[0m \u001b[0mrps\u001b[0m \u001b[0;32mnot\u001b[0m \u001b[0;32min\u001b[0m \u001b[0mgestures\u001b[0m\u001b[0;34m:\u001b[0m\u001b[0;34m\u001b[0m\u001b[0;34m\u001b[0m\u001b[0m\n\u001b[1;32m     14\u001b[0m         \u001b[0mprint\u001b[0m\u001b[0;34m(\u001b[0m\u001b[0;34m'Con eso no podemos jugar!'\u001b[0m\u001b[0;34m)\u001b[0m\u001b[0;34m\u001b[0m\u001b[0;34m\u001b[0m\u001b[0m\n\u001b[0;32m---> 15\u001b[0;31m         \u001b[0mrps\u001b[0m \u001b[0;34m=\u001b[0m \u001b[0minput\u001b[0m\u001b[0;34m(\u001b[0m\u001b[0;34m'Escoje con cual vas a jugar esta ronda:\\n 1. 🎸\\n  2. 📜\\n 3.✂️ : '\u001b[0m\u001b[0;34m)\u001b[0m\u001b[0;34m\u001b[0m\u001b[0;34m\u001b[0m\u001b[0m\n\u001b[0m\u001b[1;32m     16\u001b[0m \u001b[0;34m\u001b[0m\u001b[0m\n\u001b[1;32m     17\u001b[0m \u001b[0;34m\u001b[0m\u001b[0m\n",
      "\u001b[0;32m~/opt/anaconda3/lib/python3.8/site-packages/ipykernel/kernelbase.py\u001b[0m in \u001b[0;36mraw_input\u001b[0;34m(self, prompt)\u001b[0m\n\u001b[1;32m    858\u001b[0m                 \u001b[0;34m\"raw_input was called, but this frontend does not support input requests.\"\u001b[0m\u001b[0;34m\u001b[0m\u001b[0;34m\u001b[0m\u001b[0m\n\u001b[1;32m    859\u001b[0m             )\n\u001b[0;32m--> 860\u001b[0;31m         return self._input_request(str(prompt),\n\u001b[0m\u001b[1;32m    861\u001b[0m             \u001b[0mself\u001b[0m\u001b[0;34m.\u001b[0m\u001b[0m_parent_ident\u001b[0m\u001b[0;34m,\u001b[0m\u001b[0;34m\u001b[0m\u001b[0;34m\u001b[0m\u001b[0m\n\u001b[1;32m    862\u001b[0m             \u001b[0mself\u001b[0m\u001b[0;34m.\u001b[0m\u001b[0m_parent_header\u001b[0m\u001b[0;34m,\u001b[0m\u001b[0;34m\u001b[0m\u001b[0;34m\u001b[0m\u001b[0m\n",
      "\u001b[0;32m~/opt/anaconda3/lib/python3.8/site-packages/ipykernel/kernelbase.py\u001b[0m in \u001b[0;36m_input_request\u001b[0;34m(self, prompt, ident, parent, password)\u001b[0m\n\u001b[1;32m    902\u001b[0m             \u001b[0;32mexcept\u001b[0m \u001b[0mKeyboardInterrupt\u001b[0m\u001b[0;34m:\u001b[0m\u001b[0;34m\u001b[0m\u001b[0;34m\u001b[0m\u001b[0m\n\u001b[1;32m    903\u001b[0m                 \u001b[0;31m# re-raise KeyboardInterrupt, to truncate traceback\u001b[0m\u001b[0;34m\u001b[0m\u001b[0;34m\u001b[0m\u001b[0;34m\u001b[0m\u001b[0m\n\u001b[0;32m--> 904\u001b[0;31m                 \u001b[0;32mraise\u001b[0m \u001b[0mKeyboardInterrupt\u001b[0m\u001b[0;34m(\u001b[0m\u001b[0;34m\"Interrupted by user\"\u001b[0m\u001b[0;34m)\u001b[0m \u001b[0;32mfrom\u001b[0m \u001b[0;32mNone\u001b[0m\u001b[0;34m\u001b[0m\u001b[0;34m\u001b[0m\u001b[0m\n\u001b[0m\u001b[1;32m    905\u001b[0m             \u001b[0;32mexcept\u001b[0m \u001b[0mException\u001b[0m \u001b[0;32mas\u001b[0m \u001b[0me\u001b[0m\u001b[0;34m:\u001b[0m\u001b[0;34m\u001b[0m\u001b[0;34m\u001b[0m\u001b[0m\n\u001b[1;32m    906\u001b[0m                 \u001b[0mself\u001b[0m\u001b[0;34m.\u001b[0m\u001b[0mlog\u001b[0m\u001b[0;34m.\u001b[0m\u001b[0mwarning\u001b[0m\u001b[0;34m(\u001b[0m\u001b[0;34m\"Invalid Message:\"\u001b[0m\u001b[0;34m,\u001b[0m \u001b[0mexc_info\u001b[0m\u001b[0;34m=\u001b[0m\u001b[0;32mTrue\u001b[0m\u001b[0;34m)\u001b[0m\u001b[0;34m\u001b[0m\u001b[0;34m\u001b[0m\u001b[0m\n",
      "\u001b[0;31mKeyboardInterrupt\u001b[0m: Interrupted by user"
     ]
    }
   ],
   "source": [
    "RPS_choice(gestures)"
   ]
  },
  {
   "cell_type": "markdown",
   "metadata": {},
   "source": [
    "#### 8. Define a function that checks who won a round. \n",
    "The function should return 0 if there is a tie, 1 if the computer wins and 2 if the player wins."
   ]
  },
  {
   "cell_type": "code",
   "execution_count": 247,
   "metadata": {},
   "outputs": [],
   "source": [
    "def who_wins(player_hand, cpu_hand, player_score, cpu_score):\n",
    "    \n",
    "    '''\n",
    "    Funcion que averigua quien gano la ronda. \n",
    "    \n",
    "    RPS_choice = 'Que opcion ha escogido el jugador\n",
    "    random_RPS = 'Que ha escojido el CPU'\n",
    "    player_score = El score del jugador\n",
    "    cpu_score = el score del CPU\n",
    "       \n",
    "    '''\n",
    "    \n",
    "    \n",
    "    if RPS_choice == random_RPS:\n",
    "        \n",
    "        return (0, player_score, cpu_score)\n",
    "        \n",
    "    elif (RPS_choice == '🎸'and random_RPS == '✂️') or (RPS_choice == '✂️'and random_RPS == '📜') or (RPS_choice == '📜' and random_RPS == '🎸'):\n",
    "    \n",
    "        return (2, player_score + 1,cpu_score)\n",
    "    else:\n",
    "        return (1, player_score, cpu_score + 1)               \n",
    "    \n",
    "      \n",
    "    \n",
    "    "
   ]
  },
  {
   "cell_type": "code",
   "execution_count": 249,
   "metadata": {},
   "outputs": [
    {
     "ename": "TypeError",
     "evalue": "who_wins() missing 2 required positional arguments: 'player_score' and 'cpu_score'",
     "output_type": "error",
     "traceback": [
      "\u001b[0;31m---------------------------------------------------------------------------\u001b[0m",
      "\u001b[0;31mTypeError\u001b[0m                                 Traceback (most recent call last)",
      "\u001b[0;32m<ipython-input-249-6764dcbfafcb>\u001b[0m in \u001b[0;36m<module>\u001b[0;34m\u001b[0m\n\u001b[0;32m----> 1\u001b[0;31m \u001b[0mwho_wins\u001b[0m\u001b[0;34m(\u001b[0m\u001b[0;34m'📜'\u001b[0m\u001b[0;34m,\u001b[0m \u001b[0;34m'✂️'\u001b[0m\u001b[0;34m)\u001b[0m\u001b[0;34m\u001b[0m\u001b[0;34m\u001b[0m\u001b[0m\n\u001b[0m",
      "\u001b[0;31mTypeError\u001b[0m: who_wins() missing 2 required positional arguments: 'player_score' and 'cpu_score'"
     ]
    }
   ],
   "source": [
    "who_wins('📜', '✂️')"
   ]
  },
  {
   "cell_type": "markdown",
   "metadata": {},
   "source": [
    "#### 9. Define a function that prints the choice of the computer, the choice of the player and a message that announces who won the current round. \n",
    "You should also use this function to update the variables that count the number of rounds that the computer and the player have won. The score of the winner increases by one point. If there is a tie, the score does not increase."
   ]
  },
  {
   "cell_type": "code",
   "execution_count": 250,
   "metadata": {},
   "outputs": [],
   "source": [
    "def print_round(who_wins,player_score,cpu_score,player_hand,cpu_hand):\n",
    "    \n",
    "    print(f'Has elegido: {player_hand}')\n",
    "    print(f'El CPU ha elegido: {cpu_hand}')\n",
    "    \n",
    "    if who_wins == 0:\n",
    "        print('Hay un empate!')\n",
    "    elif who_wins == 1:\n",
    "        print('El CPU ha ganado la ronda!')\n",
    "    else:\n",
    "        print('Felicidades! Has ganado la ronda')\n",
    "        \n",
    "    \n",
    "    print(f'Player = {player_score} puntos')\n",
    "    print(f'CPU = {cpu_score} puntos')\n",
    "    \n",
    "        "
   ]
  },
  {
   "cell_type": "code",
   "execution_count": null,
   "metadata": {},
   "outputs": [],
   "source": [
    "rock_paper_scissors('📜', '📜', 1)"
   ]
  },
  {
   "cell_type": "markdown",
   "metadata": {},
   "source": [
    "#### 10. Now it's time to code the execution of the game using the functions and variables you defined above. \n",
    "\n",
    "First, create a loop structure that repeats while no player reaches the minimum score necessary to win and the number of rounds is less than the maximum number of rounds to play in a game.  \n",
    "\n",
    "Inside the loop, use the functions and variables above to create the execution of a round: ask for the player's choice, generate the random choice of the computer, show the round results, update the scores, etc. "
   ]
  },
  {
   "cell_type": "code",
   "execution_count": null,
   "metadata": {
    "scrolled": true
   },
   "outputs": [
    {
     "name": "stdout",
     "output_type": "stream",
     "text": [
      "Número de rondas3\n",
      "buenisimo el numero maximo de rondas es 3, ahora al juego!\n",
      "Escoje con cual vas a jugar esta ronda:\n",
      " 1. rock \n",
      " 2. paper \n",
      " 3. scissors : 2\n",
      "Con eso no podemos jugar!\n",
      "Escoje con cual vas a jugar esta ronda:\n",
      " 1. rock \n",
      "  2. paper \n",
      " 3.scissors : paper\n",
      "Has elegido: paper\n",
      "El CPU ha elegido: rock\n",
      "Felicidades! Has ganado la ronda\n",
      "Player = 1 puntos\n",
      "CPU = 0 puntos\n"
     ]
    }
   ],
   "source": [
    "from math import ceil\n",
    "from random import choice\n",
    "\n",
    "def random_RPS(gestures) : \n",
    "    return random.choice(gestures)\n",
    "\n",
    "def RPS_choice(gestures) : \n",
    "    '''\n",
    "    en esta funcion estamos diciendole al player que escoja un gesture entre las gestures permitidas/\n",
    "    \n",
    "    gestures = lista de gestos permitidos\n",
    "    \n",
    "    player = el gesto escojido por el jugador. \n",
    "    \n",
    "    \n",
    "    '''\n",
    "    \n",
    "    player = input('Escoje con cual vas a jugar esta ronda:\\n 1. rock \\n 2. paper \\n 3. scissors : ')\n",
    "    if player not in gestures:\n",
    "        print('Con eso no podemos jugar!')\n",
    "        player = input('Escoje con cual vas a jugar esta ronda:\\n 1. rock \\n  2. paper \\n 3.scissors : ')\n",
    "        \n",
    "        \n",
    "    return player\n",
    "    \n",
    "    \n",
    "def who_wins(RPS_choice, random_RPS, player_score, cpu_score):\n",
    "    \n",
    "    '''\n",
    "    Funcion que averigua quien gano la ronda. \n",
    "    \n",
    "    RPS_choice = 'Que opcion ha escogido el jugador\n",
    "    random_RPS = 'Que ha escojido el CPU'\n",
    "    player_score = El score del jugador\n",
    "    cpu_score = el score del CPU\n",
    "       \n",
    "    '''\n",
    "    \n",
    "    \n",
    "    if RPS_choice == random_RPS :\n",
    "        \n",
    "        return (0, player_score, cpu_score)\n",
    "        \n",
    "    elif (RPS_choice == 'rock'and random_RPS == 'scissors') or (RPS_choice == 'scissors'and random_RPS == 'paper') or (RPS_choice == 'paper' and random_RPS == 'rock'):\n",
    "\n",
    "        return (2, player_score + 1,cpu_score)\n",
    "    else:\n",
    "        return (1, player_score, cpu_score + 1)  \n",
    "\n",
    "def print_round(who_wins,player_score,cpu_score,player_hand,cpu_hand):\n",
    "    \n",
    "    \"\"\"funcion que imprime quien gano las rondas\"\"\"\n",
    "    \n",
    "    print(f'Has elegido: {player_hand}')\n",
    "    \n",
    "    print(f'El CPU ha elegido: {cpu_hand}')\n",
    "    \n",
    "    if who_wins == 0:\n",
    "        print('Hay un empate!')\n",
    "    elif who_wins == 1:\n",
    "        print('El CPU ha ganado la ronda!')\n",
    "    else:\n",
    "        print('Felicidades! Has ganado la ronda')\n",
    "        \n",
    "    \n",
    "    print(f'Player = {player_score} puntos')\n",
    "    \n",
    "    print(f'CPU = {cpu_score} puntos')\n",
    "\n",
    "\n",
    "gestures = ['rock', 'paper', 'scissors' ]\n",
    "cpu_score = 0\n",
    "player_score = 0\n",
    "ronda_num=0\n",
    "#Calcular el numero maximo de partidas\n",
    "#cambiar esto dsps del debug\n",
    "n_rounds = int(input(\"Número de rondas\"))\n",
    "\n",
    "while n_rounds % 2 == 0:\n",
    "    print('el numero es par, mete uno impar')\n",
    "    n_rounds = int(input('cual es el numero maximo de rondas: '))\n",
    "else:\n",
    "    print(f'buenisimo el numero maximo de rondas es {n_rounds}, ahora al juego!')\n",
    "    \n",
    "#Calcula el numero maximo de partidas para ganar el juego:\n",
    "rounds_to_win = ceil(n_rounds/2)\n",
    "#print(f'el numero de rondas para ganar es {rounds_to_win}')\n",
    "\n",
    "#while loop de lo largo de la partida\n",
    "def seguir(player_score, cpu_score, rounds_to_win, n_rounds,ronda_num):\n",
    "    return (player_score < rounds_to_win) and (cpu_score < rounds_to_win)\n",
    "\n",
    "\n",
    "while seguir(player_score, cpu_score, rounds_to_win, n_rounds,ronda_num):\n",
    "    ronda_num += 1\n",
    "    # que escoge el CPU\n",
    "    cpu_hand = random_RPS(gestures)\n",
    "    \n",
    "    #Escoje con que vas a jugar\n",
    "    player_hand= RPS_choice(gestures)   \n",
    "\n",
    "    (winner, player_score, cpu_score) = who_wins(player_hand, cpu_hand,player_score,cpu_score)\n",
    "        \n",
    "    print_round(winner,player_score,cpu_score,player_hand,cpu_hand)\n",
    "    \n",
    "    \n",
    "if player_score > cpu_score:\n",
    "    print('Felicidades! Has ganado la partida!')\n",
    "elif cpu_score > player_score:\n",
    "    print('Has perdido la partida :(')\n",
    "else: \n",
    "    print('El juego a acabado empatado, quieres jugar otra partida?')\n",
    "    \n",
    "    \n",
    "        \n",
    "        "
   ]
  },
  {
   "cell_type": "code",
   "execution_count": null,
   "metadata": {},
   "outputs": [],
   "source": []
  }
 ],
 "metadata": {
  "kernelspec": {
   "display_name": "Python 3",
   "language": "python",
   "name": "python3"
  },
  "language_info": {
   "codemirror_mode": {
    "name": "ipython",
    "version": 3
   },
   "file_extension": ".py",
   "mimetype": "text/x-python",
   "name": "python",
   "nbconvert_exporter": "python",
   "pygments_lexer": "ipython3",
   "version": "3.8.5"
  }
 },
 "nbformat": 4,
 "nbformat_minor": 2
}
