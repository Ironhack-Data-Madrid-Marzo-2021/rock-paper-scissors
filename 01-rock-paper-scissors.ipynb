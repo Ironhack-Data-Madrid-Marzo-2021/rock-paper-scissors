{
 "cells": [
  {
   "cell_type": "markdown",
   "metadata": {},
   "source": [
    "<img src=\"https://bit.ly/2VnXWr2\" width=\"100\" align=\"left\">"
   ]
  },
  {
   "cell_type": "markdown",
   "metadata": {},
   "source": [
    "# Rock, Paper & Scissors\n",
    "\n",
    "Let's play the famous game against our computer. You can check the rules [here](https://en.wikipedia.org/wiki/Rock%E2%80%93paper%E2%80%93scissors). \n",
    "\n",
    "## Task\n",
    "Create a program that imitates the playability of the well known game of rock, paper, scissors. Follow the guidelines provided.\n",
    "\n",
    "## Tools\n",
    "1. Loop: **for/while**\n",
    "2. Functions: **input(), print()...**\n",
    "3. Conditional statements: **if, elif, else**\n",
    "4. Definition of functions. Modular programming\n",
    "5. Import modules\n",
    "\n",
    "**To solve this challenge, the use of functions is recommended.**\n",
    "\n",
    "#### 1. Import the choice function of the random module."
   ]
  },
  {
   "cell_type": "code",
   "execution_count": 59,
   "metadata": {},
   "outputs": [],
   "source": [
    "import random \n",
    "from random import choice\n",
    "import math\n"
   ]
  },
  {
   "cell_type": "markdown",
   "metadata": {},
   "source": [
    "#### 2. Create a list that includes the 3 possible gesture options of the game: 'rock', 'paper' or 'scissors'. Store the list in a variable called `gestures`."
   ]
  },
  {
   "cell_type": "code",
   "execution_count": 60,
   "metadata": {},
   "outputs": [],
   "source": [
    "gestures = ['rock','paper','scissors']"
   ]
  },
  {
   "cell_type": "markdown",
   "metadata": {},
   "source": [
    "#### 3. Create a variable called `n_rounds` to store the maximum number of rounds to play in a game. \n",
    "Remember that the number of rounds must be odd: 1, 3, 5, ..."
   ]
  },
  {
   "cell_type": "code",
   "execution_count": 61,
   "metadata": {},
   "outputs": [
    {
     "name": "stdout",
     "output_type": "stream",
     "text": [
      "Enter the rounds you want to play (odd number): 3\n"
     ]
    }
   ],
   "source": [
    "n_rounds = 0\n",
    "while int(n_rounds) % 2 == 0:\n",
    "    n_rounds = int(input('Enter the rounds you want to play (odd number): '))"
   ]
  },
  {
   "cell_type": "markdown",
   "metadata": {},
   "source": [
    "#### 4. Create a variable called `rounds_to_win` to store the number of rounds that a player must win to win the game.\n",
    "**Hint**: the value stored in `rounds_to_win` depends on the value of `n_rounds`. "
   ]
  },
  {
   "cell_type": "code",
   "execution_count": 62,
   "metadata": {},
   "outputs": [],
   "source": [
    "rounds_to_win = math.ceil(n_rounds / 2)\n",
    "# print(rounds_to_win)"
   ]
  },
  {
   "cell_type": "markdown",
   "metadata": {},
   "source": [
    "#### 5. Create two variables to store the number of rounds that the computer and the player have won. Call these variables `cpu_score` and `player_score`."
   ]
  },
  {
   "cell_type": "code",
   "execution_count": 63,
   "metadata": {},
   "outputs": [],
   "source": [
    "cpu_score = 0\n",
    "player_score = 0"
   ]
  },
  {
   "cell_type": "markdown",
   "metadata": {},
   "source": [
    "#### 6. Define a function that randomly returns one of the 3 gesture options.\n",
    "You will use this function to simulate the gesture choice of the computer. "
   ]
  },
  {
   "cell_type": "code",
   "execution_count": 64,
   "metadata": {},
   "outputs": [],
   "source": [
    "def computer_gesture():\n",
    "    \"\"\"\n",
    "    Simulate the gesture of the computer\n",
    "    Args:\n",
    "        No arguments\n",
    "    Returns:\n",
    "        str: gesture selected randomly\n",
    "    \"\"\"\n",
    "    return(random.choice(gestures))\n",
    "\n",
    "# computer_gesture()"
   ]
  },
  {
   "cell_type": "markdown",
   "metadata": {},
   "source": [
    "#### 7. Define a function that asks the player which is the gesture he or she wants to show: 'rock', 'paper' or 'scissors'.\n",
    "The player should only be allowed to choose one of the 3 gesture options. If the player's choice is not rock, paper or scissors, keep asking until it is."
   ]
  },
  {
   "cell_type": "code",
   "execution_count": 65,
   "metadata": {},
   "outputs": [],
   "source": [
    "def my_gesture():\n",
    "    \"\"\"\n",
    "    Asks the player which gesture wants to show. It has to be rock, paper or scissor\n",
    "    Args:\n",
    "        No arguments\n",
    "    Returns:\n",
    "        str: gesture selected\n",
    "    \"\"\"\n",
    "    my_gest = ''\n",
    "    while str(my_gest) not in gestures:\n",
    "        my_gest = str(input('Enter your gesture (rock, paper or scissors): '))\n",
    "    return(str(my_gest))\n",
    "#my_gesture()"
   ]
  },
  {
   "cell_type": "markdown",
   "metadata": {},
   "source": [
    "#### 8. Define a function that checks who won a round. \n",
    "The function should return 0 if there is a tie, 1 if the computer wins and 2 if the player wins."
   ]
  },
  {
   "cell_type": "code",
   "execution_count": 66,
   "metadata": {},
   "outputs": [],
   "source": [
    "def winner(my_gesture,computer_gesture):\n",
    "    \"\"\"\n",
    "    Checks who wins a round\n",
    "    Args:\n",
    "        my_gesture (string): gesture of the player\n",
    "        computer_gesture (string): gesture of the computer\n",
    "    Returns:\n",
    "        int: 0: there's a tie\n",
    "             1: the computer wins\n",
    "             2: the player wins\n",
    "        \n",
    "    \"\"\"\n",
    "    if (my_gesture == 'scissors' and computer_gesture == 'paper') or (my_gesture == 'paper' and computer_gesture == 'rock') or (my_gesture == 'rock' and computer_gesture == 'scissors'):\n",
    "        return 2\n",
    "    elif (computer_gesture == 'scissors' and my_gesture == 'paper') or (computer_gesture == 'paper' and my_gesture == 'rock') or (computer_gesture == 'rock' and my_gesture == 'scissors'):\n",
    "        return 1\n",
    "    else:\n",
    "        return 0 \n",
    "    \n",
    "# winner('rock','paper')"
   ]
  },
  {
   "cell_type": "markdown",
   "metadata": {},
   "source": [
    "#### 9. Define a function that prints the choice of the computer, the choice of the player and a message that announces who won the current round. \n",
    "You should also use this function to update the variables that count the number of rounds that the computer and the player have won. The score of the winner increases by one point. If there is a tie, the score does not increase."
   ]
  },
  {
   "cell_type": "code",
   "execution_count": 67,
   "metadata": {},
   "outputs": [],
   "source": [
    "def game(my_gesture,computer_gesture,winner):\n",
    "    \"\"\"\n",
    "    Checks who wins a round\n",
    "    Args:\n",
    "        my_gesture (string): gesture of the player\n",
    "        computer_gesture (string): gesture of the computer\n",
    "        winner (int): who wins\n",
    "             0: there's a tie\n",
    "             1: the computer wins\n",
    "             2: the player wins\n",
    "    Return:\n",
    "        None\n",
    "        \n",
    "    \"\"\"\n",
    "    \n",
    "    print(f\"The choice of the computer is {computer_gesture}\")\n",
    "    print(f\"The choice of the player is {my_gesture}\")\n",
    "    \n",
    "    if winner == 2:\n",
    "        print(\"The player is the winner\")\n",
    "    elif winner == 1:\n",
    "        print(\"The computer is the winner\")\n",
    "    else: \n",
    "        print(\"It's a tie\")\n",
    "\n",
    "# game('paper','scissors',1)"
   ]
  },
  {
   "cell_type": "markdown",
   "metadata": {},
   "source": [
    "#### 10. Now it's time to code the execution of the game using the functions and variables you defined above. \n",
    "\n",
    "First, create a loop structure that repeats while no player reaches the minimum score necessary to win and the number of rounds is less than the maximum number of rounds to play in a game.  \n",
    "\n",
    "Inside the loop, use the functions and variables above to create the execution of a round: ask for the player's choice, generate the random choice of the computer, show the round results, update the scores, etc. "
   ]
  },
  {
   "cell_type": "code",
   "execution_count": 68,
   "metadata": {
    "scrolled": true
   },
   "outputs": [
    {
     "name": "stdout",
     "output_type": "stream",
     "text": [
      "Enter your gesture (rock, paper or scissors): rock\n",
      "The choice of the computer is paper\n",
      "The choice of the player is rock\n",
      "The computer is the winner\n",
      "Enter your gesture (rock, paper or scissors): paper\n",
      "The choice of the computer is rock\n",
      "The choice of the player is paper\n",
      "The player is the winner\n",
      "Enter your gesture (rock, paper or scissors): scissors\n",
      "The choice of the computer is rock\n",
      "The choice of the player is scissors\n",
      "The computer is the winner\n"
     ]
    }
   ],
   "source": [
    "while (player_score + cpu_score) < n_rounds:\n",
    "    computer_ = computer_gesture()\n",
    " #   print(computer_)\n",
    "    my_ = my_gesture()\n",
    " #   print(my_)\n",
    "    win= winner(my_,computer_)\n",
    "    if win == 2:\n",
    "        player_score += 1\n",
    "    elif win == 1:\n",
    "        cpu_score += 1\n",
    "    game_ = game(my_,computer_,win)"
   ]
  },
  {
   "cell_type": "markdown",
   "metadata": {},
   "source": [
    "#### 11. Print the winner of the game based on who won more rounds.\n",
    "Remember that the game might be tied. "
   ]
  },
  {
   "cell_type": "code",
   "execution_count": 69,
   "metadata": {},
   "outputs": [
    {
     "name": "stdout",
     "output_type": "stream",
     "text": [
      "The winner of the game is the CPU\n"
     ]
    }
   ],
   "source": [
    "if cpu_score >= rounds_to_win:\n",
    "    print(\"The winner of the game is the CPU\")\n",
    "else: \n",
    "    print(\"The winner of the game is the player\")"
   ]
  },
  {
   "cell_type": "code",
   "execution_count": null,
   "metadata": {},
   "outputs": [],
   "source": []
  },
  {
   "cell_type": "code",
   "execution_count": null,
   "metadata": {},
   "outputs": [],
   "source": []
  }
 ],
 "metadata": {
  "kernelspec": {
   "display_name": "Python 3",
   "language": "python",
   "name": "python3"
  },
  "language_info": {
   "codemirror_mode": {
    "name": "ipython",
    "version": 3
   },
   "file_extension": ".py",
   "mimetype": "text/x-python",
   "name": "python",
   "nbconvert_exporter": "python",
   "pygments_lexer": "ipython3",
   "version": "3.8.5"
  }
 },
 "nbformat": 4,
 "nbformat_minor": 2
}
