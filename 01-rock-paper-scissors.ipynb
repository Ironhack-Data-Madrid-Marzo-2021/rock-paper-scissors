{
 "cells": [
  {
   "cell_type": "markdown",
   "metadata": {},
   "source": [
    "<img src=\"https://bit.ly/2VnXWr2\" width=\"100\" align=\"left\">"
   ]
  },
  {
   "cell_type": "markdown",
   "metadata": {},
   "source": [
    "# Rock, Paper & Scissors\n",
    "\n",
    "Let's play the famous game against our computer. You can check the rules [here](https://en.wikipedia.org/wiki/Rock%E2%80%93paper%E2%80%93scissors). \n",
    "\n",
    "## Task\n",
    "Create a program that imitates the playability of the well known game of rock, paper, scissors. Follow the guidelines provided.\n",
    "\n",
    "## Tools\n",
    "1. Loop: **for/while**\n",
    "2. Functions: **input(), print()...**\n",
    "3. Conditional statements: **if, elif, else**\n",
    "4. Definition of functions. Modular programming\n",
    "5. Import modules\n",
    "\n",
    "**To solve this challenge, the use of functions is recommended.**\n",
    "\n",
    "#### 1. Import the choice function of the random module."
   ]
  },
  {
   "cell_type": "code",
   "execution_count": 1,
   "metadata": {},
   "outputs": [
    {
     "name": "stdout",
     "output_type": "stream",
     "text": [
      "<bound method Random.choice of <random.Random object at 0x000001EC4311AA80>>\n"
     ]
    }
   ],
   "source": [
    "import random\n",
    "\n",
    "print(random.choice)"
   ]
  },
  {
   "cell_type": "markdown",
   "metadata": {},
   "source": [
    "#### 2. Create a list that includes the 3 possible gesture options of the game: 'rock', 'paper' or 'scissors'. Store the list in a variable called `gestures`."
   ]
  },
  {
   "cell_type": "code",
   "execution_count": 2,
   "metadata": {},
   "outputs": [],
   "source": [
    "gestures = [\"rock\", \"paper\", \"scissors\"]"
   ]
  },
  {
   "cell_type": "markdown",
   "metadata": {},
   "source": [
    "#### 3. Create a variable called `n_rounds` to store the maximum number of rounds to play in a game. \n",
    "Remember that the number of rounds must be odd: 1, 3, 5, ..."
   ]
  },
  {
   "cell_type": "code",
   "execution_count": 3,
   "metadata": {},
   "outputs": [],
   "source": [
    "def numero_rondas():\n",
    "    '''\n",
    "    Pregunta cuantas ronda quieres jugar.\n",
    "    \n",
    "    '''\n",
    "    \n",
    "    n_rounds = int(input(\"Introduce el numero de rondas a jugar: \"))\n",
    "    while n_rounds % 2 == 0:\n",
    "        print(\"Recuerda que tiene que ser un numero impar\")\n",
    "        n_rounds = int(input(\"Introduce el numero de rondas a jugar(Recuerda que tiene que ser un numero impar): \"))\n",
    "    return n_rounds\n",
    "        \n"
   ]
  },
  {
   "cell_type": "code",
   "execution_count": 4,
   "metadata": {},
   "outputs": [],
   "source": [
    "#print(numero_rondas())\n"
   ]
  },
  {
   "cell_type": "markdown",
   "metadata": {},
   "source": [
    "#### 4. Create a variable called `rounds_to_win` to store the number of rounds that a player must win to win the game.\n",
    "**Hint**: the value stored in `rounds_to_win` depends on the value of `n_rounds`. "
   ]
  },
  {
   "cell_type": "code",
   "execution_count": 5,
   "metadata": {},
   "outputs": [],
   "source": [
    "def rondas_para_ganar():\n",
    "    '''\n",
    "    Devuelve las rondas necesaria que debe alcanzar un jugador para ganar\n",
    "    \n",
    "    '''\n",
    "    \n",
    "    rounds_to_win = int(int(numero_rondas()) / 2 +(1/2))\n",
    "    return(rounds_to_win)"
   ]
  },
  {
   "cell_type": "code",
   "execution_count": 6,
   "metadata": {},
   "outputs": [],
   "source": [
    "#print(rondas_para_ganar())"
   ]
  },
  {
   "cell_type": "markdown",
   "metadata": {},
   "source": [
    "#### 5. Create two variables to store the number of rounds that the computer and the player have won. Call these variables `cpu_score` and `player_score`."
   ]
  },
  {
   "cell_type": "code",
   "execution_count": 7,
   "metadata": {},
   "outputs": [],
   "source": [
    "cpu_score = 0\n",
    "player_score = 0\n"
   ]
  },
  {
   "cell_type": "markdown",
   "metadata": {},
   "source": [
    "#### 6. Define a function that randomly returns one of the 3 gesture options.\n",
    "You will use this function to simulate the gesture choice of the computer. "
   ]
  },
  {
   "cell_type": "code",
   "execution_count": 8,
   "metadata": {},
   "outputs": [
    {
     "name": "stdout",
     "output_type": "stream",
     "text": [
      "scissors\n"
     ]
    }
   ],
   "source": [
    "print(random.choice(gestures))"
   ]
  },
  {
   "cell_type": "code",
   "execution_count": 11,
   "metadata": {},
   "outputs": [],
   "source": [
    "import random\n",
    "\n",
    "def eleccion_cpu():\n",
    "    \n",
    "    '''\n",
    "    Esta funcion asigna un valor entre piedra-papel-tijera de forma aleatoria\n",
    "    \n",
    "    '''\n",
    "\n",
    "    cpu_g = random.choice(gestures)\n",
    "    \n",
    "    return cpu_g\n",
    "\n"
   ]
  },
  {
   "cell_type": "markdown",
   "metadata": {},
   "source": [
    "#### 7. Define a function that asks the player which is the gesture he or she wants to show: 'rock', 'paper' or 'scissors'.\n",
    "The player should only be allowed to choose one of the 3 gesture options. If the player's choice is not rock, paper or scissors, keep asking until it is."
   ]
  },
  {
   "cell_type": "code",
   "execution_count": 79,
   "metadata": {},
   "outputs": [],
   "source": [
    "gestures = [\"piedra\", \"papel\", \"tijera\"]\n",
    "\n",
    "def eleccion_jugador():\n",
    "    '''\n",
    "    Esta funcion solicita un valor entre piedra-papel-tijera al jugador'''\n",
    "    \n",
    "    \n",
    "    player = input(\"Elige piedra, papel o tijera: \")\n",
    "    player_g = player.lower()\n",
    "\n",
    "    while player_g not in gestures:\n",
    "        print(\"Debes elegir entre piedra papel o tijera. \")\n",
    "        player_g = input(\"Elige piedra, papel o tijera \")\n",
    "    \n",
    "#    if player_g == tijera:\n",
    "#       player_g == ✂\n",
    "#    elif player_g == papel:\n",
    "#        player_g == 🧻\n",
    "#   else:\n",
    "#        player_g == 🗿\n",
    "\n",
    "    return player_g"
   ]
  },
  {
   "cell_type": "code",
   "execution_count": 80,
   "metadata": {},
   "outputs": [
    {
     "name": "stdout",
     "output_type": "stream",
     "text": [
      "Elige piedra, papel o tijera: papel\n",
      "papel\n"
     ]
    }
   ],
   "source": [
    "#print(eleccion_jugador())\n"
   ]
  },
  {
   "cell_type": "markdown",
   "metadata": {},
   "source": [
    "#### 8. Define a function that checks who won a round. \n",
    "The function should return 0 if there is a tie, 1 if the computer wins and 2 if the player wins."
   ]
  },
  {
   "cell_type": "code",
   "execution_count": 113,
   "metadata": {},
   "outputs": [],
   "source": [
    "def ganador(player, pc):\n",
    "    '''   \n",
    "    Esta función devuelve quien gana la ronda\n",
    "    0 = empate\n",
    "    1 = gana ordenador\n",
    "    2 = gana jugador\n",
    "    \n",
    "    argumento 1 = valor jugador\n",
    "    argumento 2 = valor cpu\n",
    "    \n",
    "    '''\n",
    "    \n",
    "    if player == pc: \n",
    "        ganador = 0\n",
    "    \n",
    "    if player == \"piedra\" and pc == \"papel\":\n",
    "        ganador = 1 \n",
    "    \n",
    "    if player == \"piedra\" and pc == \"tijera\":\n",
    "        ganador = 2\n",
    "    \n",
    "    if player == \"tijera\" and pc == \"piedra\":\n",
    "        ganador = 1\n",
    "        \n",
    "    if player == \"tijera\" and pc == \"papel\":\n",
    "        ganador = 2\n",
    "        \n",
    "    if player == \"papel\" and pc == \"tijera\":\n",
    "        ganador = 1\n",
    "        \n",
    "    if player == \"papel\" and pc == \"piedra\":\n",
    "        ganador = 2\n",
    "        \n",
    "    return ganador\n",
    "\n"
   ]
  },
  {
   "cell_type": "code",
   "execution_count": 114,
   "metadata": {},
   "outputs": [],
   "source": [
    "#print(eleccion_cpu())\n",
    "#print(ganador(eleccion_jugador(), eleccion_cpu()))\n"
   ]
  },
  {
   "cell_type": "markdown",
   "metadata": {},
   "source": [
    "#### 9. Define a function that prints the choice of the computer, the choice of the player and a message that announces who won the current round. \n",
    "You should also use this function to update the variables that count the number of rounds that the computer and the player have won. The score of the winner increases by one point. If there is a tie, the score does not increase."
   ]
  },
  {
   "cell_type": "code",
   "execution_count": 115,
   "metadata": {},
   "outputs": [
    {
     "name": "stdout",
     "output_type": "stream",
     "text": [
      "tijera\n"
     ]
    }
   ],
   "source": [
    "print(eleccion_cpu())"
   ]
  },
  {
   "cell_type": "code",
   "execution_count": 116,
   "metadata": {},
   "outputs": [
    {
     "name": "stdout",
     "output_type": "stream",
     "text": [
      "Elige piedra, papel o tijera: piedra\n",
      "El pc ha elegido papel\n",
      "El jugador ha elegido piedra\n",
      "Gana el ordenador\n"
     ]
    }
   ],
   "source": [
    "eleccion_cpu()\n",
    "cpu_g = str(eleccion_cpu())\n",
    "player_g = str(eleccion_jugador())\n",
    "#cpu_score = 0\n",
    "#player_score = 0\n",
    "\n",
    "def quien_gana(punt):\n",
    "    '''\n",
    "    Esta funcion te da quien ha ganado la ronda.\n",
    "    \n",
    "    Argumentos:\n",
    "        El argumento de esta función debe ser la función ganador\n",
    "        Que nos genera un valor entre 0 y 2\n",
    "        \n",
    "    '''\n",
    "    #print(punt)\n",
    "    #cpu_score = 0\n",
    "    #player_score = 0\n",
    "    global cpu_score\n",
    "    global  player_score\n",
    "    \n",
    "    print(f\"El pc ha elegido {cpu_g}\")\n",
    "    print(f\"El jugador ha elegido {player_g}\")\n",
    "    \n",
    "    if punt == 0:\n",
    "        return \"Empate\"\n",
    "    \n",
    "    elif punt == 1:\n",
    "        cpu_score += 1\n",
    "        #print(f\"cpu = {cpu_score}\")\n",
    "        return \"Gana el ordenador\"\n",
    "        \n",
    "        \n",
    "    elif punt == 2:\n",
    "        player_score += 1\n",
    "        #print(f\"Player = {player_score}\")\n",
    "        return \"Gana el jugador\"\n",
    "        \n",
    "    \n",
    "print(quien_gana(ganador(player_g, cpu_g)))\n",
    "#print(cpu_score)\n",
    "#print(player_score)"
   ]
  },
  {
   "cell_type": "markdown",
   "metadata": {},
   "source": [
    "#### 10. Now it's time to code the execution of the game using the functions and variables you defined above. \n",
    "\n",
    "First, create a loop structure that repeats while no player reaches the minimum score necessary to win and the number of rounds is less than the maximum number of rounds to play in a game.  \n",
    "\n",
    "Inside the loop, use the functions and variables above to create the execution of a round: ask for the player's choice, generate the random choice of the computer, show the round results, update the scores, etc. "
   ]
  },
  {
   "cell_type": "code",
   "execution_count": 117,
   "metadata": {},
   "outputs": [
    {
     "name": "stdout",
     "output_type": "stream",
     "text": [
      "Elige piedra, papel o tijera: piedra\n"
     ]
    }
   ],
   "source": [
    "eleccion_cpu()\n",
    "cpu_g = str(eleccion_cpu())\n",
    "player_g = str(eleccion_jugador())\n",
    "cpu_score = 0\n",
    "player_score = 0\n",
    "\n",
    "def rock_papper_scissors():\n",
    "    '''\n",
    "    Funcion para jugar a piedra papel o tijera 1 vez\n",
    "    '''\n",
    "\n",
    "    winner = print(quien_gana(ganador(player_g, cpu_g)))\n",
    "    return winner\n",
    "    \n",
    "#cpu_score = 0\n",
    "#player_score = 0    "
   ]
  },
  {
   "cell_type": "code",
   "execution_count": 118,
   "metadata": {},
   "outputs": [
    {
     "name": "stdout",
     "output_type": "stream",
     "text": [
      "Introduce el numero de rondas a jugar: 3\n",
      "2\n"
     ]
    }
   ],
   "source": [
    "def numero_rondas():\n",
    "    n_rounds = int(input(\"Introduce el numero de rondas a jugar: \"))\n",
    "    while n_rounds % 2 == 0:\n",
    "        print(\"Recuerda que tiene que ser un numero impar\")\n",
    "        n_rounds = int(input(\"Introduce el numero de rondas a jugar(Recuerda que tiene que ser un numero impar): \"))\n",
    "    return n_rounds\n",
    "        \n",
    "\n",
    "rounds_to_win = int(int(numero_rondas()) / 2 +(1/2))\n",
    "print(rounds_to_win)"
   ]
  },
  {
   "cell_type": "code",
   "execution_count": 119,
   "metadata": {},
   "outputs": [
    {
     "name": "stdout",
     "output_type": "stream",
     "text": [
      "Introduce el numero de rondas a jugar: 3\n",
      "Elige piedra, papel o tijera: papel\n",
      "El pc ha elegido papel\n",
      "El jugador ha elegido papel\n",
      "Empate\n",
      "3\n",
      "Pc = 0\n",
      "Jugador = 0\n",
      "Elige piedra, papel o tijera: piedra\n",
      "El pc ha elegido papel\n",
      "El jugador ha elegido piedra\n",
      "Gana el ordenador\n",
      "3\n",
      "Pc = 1\n",
      "Jugador = 0\n",
      "Elige piedra, papel o tijera: papel\n",
      "El pc ha elegido papel\n",
      "El jugador ha elegido papel\n",
      "Empate\n",
      "3\n",
      "Pc = 1\n",
      "Jugador = 0\n",
      "Elige piedra, papel o tijera: piedra\n",
      "El pc ha elegido papel\n",
      "El jugador ha elegido piedra\n",
      "Gana el ordenador\n",
      "3\n",
      "Pc = 2\n",
      "Jugador = 0\n",
      "Elige piedra, papel o tijera: tijera\n",
      "El pc ha elegido piedra\n",
      "El jugador ha elegido tijera\n",
      "Gana el ordenador\n",
      "3\n",
      "Pc = 3\n",
      "Jugador = 0\n",
      "Se acabo el juego\n"
     ]
    }
   ],
   "source": [
    "cpu_score = 0\n",
    "player_score = 0\n",
    "rondas_ganar = numero_rondas()\n",
    "\n",
    "while rondas_ganar >= cpu_score or player_score:\n",
    "    \n",
    "    eleccion_cpu()\n",
    "    cpu_g = str(eleccion_cpu())\n",
    "    player_g = str(eleccion_jugador())\n",
    "    \n",
    "    rock_papper_scissors()\n",
    "    print(rondas_ganar)\n",
    "    print(f\"Pc = {cpu_score}\")\n",
    "    print(f\"Jugador = {player_score}\")\n",
    "\n",
    "    if rondas_ganar <= cpu_score:\n",
    "        break\n",
    "    elif rondas_ganar <= player_score:\n",
    "        break\n",
    "    \n",
    "    \n",
    "print(\"Se acabo el juego\")"
   ]
  },
  {
   "cell_type": "markdown",
   "metadata": {},
   "source": [
    "#### 11. Print the winner of the game based on who won more rounds.\n",
    "Remember that the game might be tied. "
   ]
  },
  {
   "cell_type": "code",
   "execution_count": 120,
   "metadata": {},
   "outputs": [
    {
     "name": "stdout",
     "output_type": "stream",
     "text": [
      "Gana la maquina\n"
     ]
    }
   ],
   "source": [
    "if cpu_score > player_score:\n",
    "    print(\"Gana la maquina\")\n",
    "else:\n",
    "    print(\"Has ganado, champion!!🏆🏆\")"
   ]
  },
  {
   "cell_type": "code",
   "execution_count": null,
   "metadata": {},
   "outputs": [],
   "source": []
  }
 ],
 "metadata": {
  "kernelspec": {
   "display_name": "Python 3",
   "language": "python",
   "name": "python3"
  },
  "language_info": {
   "codemirror_mode": {
    "name": "ipython",
    "version": 3
   },
   "file_extension": ".py",
   "mimetype": "text/x-python",
   "name": "python",
   "nbconvert_exporter": "python",
   "pygments_lexer": "ipython3",
   "version": "3.8.5"
  }
 },
 "nbformat": 4,
 "nbformat_minor": 2
}
