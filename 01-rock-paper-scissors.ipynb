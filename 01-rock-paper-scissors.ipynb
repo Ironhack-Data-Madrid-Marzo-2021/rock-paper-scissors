{
 "cells": [
  {
   "cell_type": "markdown",
   "metadata": {},
   "source": [
    "<img src=\"https://bit.ly/2VnXWr2\" width=\"100\" align=\"left\">"
   ]
  },
  {
   "cell_type": "markdown",
   "metadata": {},
   "source": [
    "# Rock, Paper & Scissors\n",
    "\n",
    "Let's play the famous game against our computer. You can check the rules [here](https://en.wikipedia.org/wiki/Rock%E2%80%93paper%E2%80%93scissors). \n",
    "\n",
    "## Task\n",
    "Create a program that imitates the playability of the well known game of rock, paper, scissors. Follow the guidelines provided.\n",
    "\n",
    "## Tools\n",
    "1. Loop: **for/while**\n",
    "2. Functions: **input(), print()...**\n",
    "3. Conditional statements: **if, elif, else**\n",
    "4. Definition of functions. Modular programming\n",
    "5. Import modules\n",
    "\n",
    "**To solve this challenge, the use of functions is recommended.**\n",
    "\n",
    "#### 1. Import the choice function of the random module."
   ]
  },
  {
   "cell_type": "code",
   "execution_count": 1,
   "metadata": {},
   "outputs": [],
   "source": [
    "import random as rd"
   ]
  },
  {
   "cell_type": "code",
   "execution_count": null,
   "metadata": {},
   "outputs": [],
   "source": []
  },
  {
   "cell_type": "markdown",
   "metadata": {},
   "source": [
    "#### 2. Create a list that includes the 3 possible gesture options of the game: 'rock', 'paper' or 'scissors'. Store the list in a variable called `gestures`."
   ]
  },
  {
   "cell_type": "code",
   "execution_count": 1,
   "metadata": {},
   "outputs": [],
   "source": [
    "gestures=[\"rock\",\"paper\",\"scissors\"]"
   ]
  },
  {
   "cell_type": "markdown",
   "metadata": {},
   "source": [
    "#### 3. Create a variable called `n_rounds` to store the maximum number of rounds to play in a game. \n",
    "Remember that the number of rounds must be odd: 1, 3, 5, ..."
   ]
  },
  {
   "cell_type": "code",
   "execution_count": 3,
   "metadata": {},
   "outputs": [],
   "source": [
    "n_rounds=7\n",
    "    \n",
    "    \n",
    "        \n",
    "    "
   ]
  },
  {
   "cell_type": "markdown",
   "metadata": {},
   "source": [
    "#### 4. Create a variable called `rounds_to_win` to store the number of rounds that a player must win to win the game.\n",
    "**Hint**: the value stored in `rounds_to_win` depends on the value of `n_rounds`. "
   ]
  },
  {
   "cell_type": "code",
   "execution_count": 4,
   "metadata": {},
   "outputs": [
    {
     "data": {
      "text/plain": [
       "4.0"
      ]
     },
     "execution_count": 4,
     "metadata": {},
     "output_type": "execute_result"
    }
   ],
   "source": [
    "rounds_to_win=(((n_rounds/2))+(1/2))\n",
    "rounds_to_win"
   ]
  },
  {
   "cell_type": "markdown",
   "metadata": {},
   "source": [
    "#### 5. Create two variables to store the number of rounds that the computer and the player have won. Call these variables `cpu_score` and `player_score`."
   ]
  },
  {
   "cell_type": "code",
   "execution_count": null,
   "metadata": {},
   "outputs": [],
   "source": [
    "cpu_score=0\n",
    "player_score=0"
   ]
  },
  {
   "cell_type": "markdown",
   "metadata": {},
   "source": [
    "#### 6. Define a function that randomly returns one of the 3 gesture options.\n",
    "You will use this function to simulate the gesture choice of the computer. "
   ]
  },
  {
   "cell_type": "code",
   "execution_count": 2,
   "metadata": {},
   "outputs": [],
   "source": [
    "def cpu_play():\n",
    "    return rd.choice(gestures)\n",
    "        \n",
    "       "
   ]
  },
  {
   "cell_type": "code",
   "execution_count": 11,
   "metadata": {},
   "outputs": [
    {
     "data": {
      "text/plain": [
       "'scissors'"
      ]
     },
     "execution_count": 11,
     "metadata": {},
     "output_type": "execute_result"
    }
   ],
   "source": [
    "cpu_play ()"
   ]
  },
  {
   "cell_type": "markdown",
   "metadata": {},
   "source": [
    "#### 7. Define a function that asks the player which is the gesture he or she wants to show: 'rock', 'paper' or 'scissors'.\n",
    "The player should only be allowed to choose one of the 3 gesture options. If the player's choice is not rock, paper or scissors, keep asking until it is."
   ]
  },
  {
   "cell_type": "code",
   "execution_count": 3,
   "metadata": {},
   "outputs": [],
   "source": [
    "def jugada():\n",
    "    while True:\n",
    "        jugada=input (\"¿Cual será su jugada? ¿rock, paper o scissors?: \")\n",
    "        if jugada in (gestures):\n",
    "            break\n",
    "    return jugada\n",
    "        "
   ]
  },
  {
   "cell_type": "code",
   "execution_count": 4,
   "metadata": {},
   "outputs": [
    {
     "name": "stdout",
     "output_type": "stream",
     "text": [
      "¿Cual será su jugada? ¿rock, paper o scissors?: rock\n"
     ]
    },
    {
     "data": {
      "text/plain": [
       "'rock'"
      ]
     },
     "execution_count": 4,
     "metadata": {},
     "output_type": "execute_result"
    }
   ],
   "source": [
    "jugada()"
   ]
  },
  {
   "cell_type": "markdown",
   "metadata": {},
   "source": [
    "#### 8. Define a function that checks who won a round. \n",
    "The function should return 0 if there is a tie, 1 if the computer wins and 2 if the player wins."
   ]
  },
  {
   "cell_type": "code",
   "execution_count": 5,
   "metadata": {},
   "outputs": [],
   "source": [
    "#1 gana la maquina, 2 gana el jugador\n",
    "def ganador():\n",
    "    jugada1=jugada()\n",
    "    cpu_play1=cpu_play()\n",
    "    print (jugada1)\n",
    "    print( cpu_play1)\n",
    "    \n",
    "    if jugada1==\"scissors\" and cpu_play1==\"rock\":\n",
    "        return 1\n",
    "        \n",
    "    if jugada1==\"scissors\" and cpu_play1==\"paper\":   \n",
    "        return 2\n",
    "        \n",
    "    if jugada1==\"rock\" and cpu_play1==\"scissors\":\n",
    "        return 1\n",
    "        \n",
    "    if jugada1==\"rock\" and cpu_play1==\"paper\":\n",
    "        return 2\n",
    "        \n",
    "    if jugada1==\"paper\" and cpu_play1==\"scissors\":\n",
    "        return 1\n",
    "        \n",
    "    if jugada1==\"paper\" and cpu_play1==\"rock\":\n",
    "        return 2\n",
    "        \n",
    "    if jugada1==\"paper\" and cpu_play1==\"paper\":\n",
    "        return 0\n",
    "        \n",
    "    if jugada1==\"paper\" and cpu_play1==\"paper\":\n",
    "        return 0\n",
    "        \n",
    "    if jugada1==\"paper\" and cpu_play1==\"paper\":\n",
    "        return 0  \n",
    "\n",
    "    "
   ]
  },
  {
   "cell_type": "code",
   "execution_count": 6,
   "metadata": {},
   "outputs": [
    {
     "name": "stdout",
     "output_type": "stream",
     "text": [
      "¿Cual será su jugada? ¿rock, paper o scissors?: 3\n",
      "¿Cual será su jugada? ¿rock, paper o scissors?: 3\n",
      "¿Cual será su jugada? ¿rock, paper o scissors?: scissors\n"
     ]
    },
    {
     "ename": "NameError",
     "evalue": "name 'rd' is not defined",
     "output_type": "error",
     "traceback": [
      "\u001b[1;31m---------------------------------------------------------------------------\u001b[0m",
      "\u001b[1;31mNameError\u001b[0m                                 Traceback (most recent call last)",
      "\u001b[1;32m<ipython-input-6-75d7f357bf47>\u001b[0m in \u001b[0;36m<module>\u001b[1;34m\u001b[0m\n\u001b[1;32m----> 1\u001b[1;33m \u001b[0mganador\u001b[0m\u001b[1;33m(\u001b[0m\u001b[1;33m)\u001b[0m\u001b[1;33m\u001b[0m\u001b[1;33m\u001b[0m\u001b[0m\n\u001b[0m",
      "\u001b[1;32m<ipython-input-5-c345ba938a4a>\u001b[0m in \u001b[0;36mganador\u001b[1;34m()\u001b[0m\n\u001b[0;32m      5\u001b[0m \u001b[1;32mdef\u001b[0m \u001b[0mganador\u001b[0m\u001b[1;33m(\u001b[0m\u001b[1;33m)\u001b[0m\u001b[1;33m:\u001b[0m\u001b[1;33m\u001b[0m\u001b[1;33m\u001b[0m\u001b[0m\n\u001b[0;32m      6\u001b[0m     \u001b[0mjugada\u001b[0m\u001b[1;33m(\u001b[0m\u001b[1;33m)\u001b[0m\u001b[1;33m\u001b[0m\u001b[1;33m\u001b[0m\u001b[0m\n\u001b[1;32m----> 7\u001b[1;33m     \u001b[0mcpu_play\u001b[0m\u001b[1;33m(\u001b[0m\u001b[1;33m)\u001b[0m\u001b[1;33m\u001b[0m\u001b[1;33m\u001b[0m\u001b[0m\n\u001b[0m\u001b[0;32m      8\u001b[0m     \u001b[1;32mif\u001b[0m \u001b[0mjugada\u001b[0m\u001b[1;33m==\u001b[0m\u001b[1;34m\"scissors\"\u001b[0m\u001b[1;33m:\u001b[0m\u001b[1;33m\u001b[0m\u001b[1;33m\u001b[0m\u001b[0m\n\u001b[0;32m      9\u001b[0m             \u001b[1;32mif\u001b[0m \u001b[0mcpu_play\u001b[0m\u001b[1;33m==\u001b[0m\u001b[1;34m\"rock\"\u001b[0m\u001b[1;33m:\u001b[0m\u001b[1;33m\u001b[0m\u001b[1;33m\u001b[0m\u001b[0m\n",
      "\u001b[1;32m<ipython-input-2-92adca6bec3b>\u001b[0m in \u001b[0;36mcpu_play\u001b[1;34m()\u001b[0m\n\u001b[0;32m      1\u001b[0m \u001b[1;32mdef\u001b[0m \u001b[0mcpu_play\u001b[0m\u001b[1;33m(\u001b[0m\u001b[1;33m)\u001b[0m\u001b[1;33m:\u001b[0m\u001b[1;33m\u001b[0m\u001b[1;33m\u001b[0m\u001b[0m\n\u001b[1;32m----> 2\u001b[1;33m     \u001b[1;32mreturn\u001b[0m \u001b[0mrd\u001b[0m\u001b[1;33m.\u001b[0m\u001b[0mchoice\u001b[0m\u001b[1;33m(\u001b[0m\u001b[0mgestures\u001b[0m\u001b[1;33m)\u001b[0m\u001b[1;33m\u001b[0m\u001b[1;33m\u001b[0m\u001b[0m\n\u001b[0m\u001b[0;32m      3\u001b[0m \u001b[1;33m\u001b[0m\u001b[0m\n\u001b[0;32m      4\u001b[0m \u001b[1;33m\u001b[0m\u001b[0m\n",
      "\u001b[1;31mNameError\u001b[0m: name 'rd' is not defined"
     ]
    }
   ],
   "source": [
    "ganador()"
   ]
  },
  {
   "cell_type": "raw",
   "metadata": {},
   "source": [
    "#### 9. Define a function that prints the choice of the computer, the choice of the player and a message that announces who won the current round. \n",
    "You should also use this function to update the variables that count the number of rounds that the computer and the player have won. The score of the winner increases by one point. If there is a tie, the score does not increase."
   ]
  },
  {
   "cell_type": "code",
   "execution_count": null,
   "metadata": {},
   "outputs": [],
   "source": []
  },
  {
   "cell_type": "code",
   "execution_count": 40,
   "metadata": {},
   "outputs": [],
   "source": [
    "def marcador():\n",
    "    cpu_store= 0\n",
    "    player_score= 0\n",
    "    empates=0\n",
    "    jugada1=jugada()\n",
    "    cpu_play1=cpu_play()\n",
    "    ganador1=ganador()\n",
    "    print (f\"Has sacado {jugada1}\")\n",
    "    print (f\"Com1 ha jugado {cpu_play1}\")\n",
    "    if ganador1==1:\n",
    "        cpu_store =cpu_store + 1\n",
    "        print (f\"Com1 te está comiendo la tostada\")\n",
    "    elif ganador1==2:\n",
    "        player_score = player_score + 1\n",
    "        print (f\"Muy bien hecho, sigue así!!\")\n",
    "    else:\n",
    "        empates+=0\n",
    "        print (f\"Vaya, parece que tu y Com1 pensábais en lo mismo\")\n",
    "    print (f\" el marcador es de com1 {cpu_store} vs Jugador1 {player_score}\")\n",
    "            \n",
    "    "
   ]
  },
  {
   "cell_type": "code",
   "execution_count": 41,
   "metadata": {},
   "outputs": [
    {
     "name": "stdout",
     "output_type": "stream",
     "text": [
      "¿Cual será su jugada? ¿rock, paper o scissors?: rock\n",
      "Has sacado rock\n",
      "Com1 ha jugado scissors\n",
      "<function ganador at 0x0000021F473FE700>\n",
      "Vaya, parece que tu y Com1 pensábais en lo mismo\n",
      " el marcador es de com1 0 vs Jugador1 0\n"
     ]
    }
   ],
   "source": [
    "marcador ()"
   ]
  },
  {
   "cell_type": "markdown",
   "metadata": {},
   "source": [
    "#### 10. Now it's time to code the execution of the game using the functions and variables you defined above. \n",
    "\n",
    "First, create a loop structure that repeats while no player reaches the minimum score necessary to win and the number of rounds is less than the maximum number of roundsto play in a game.  \n",
    "\n",
    "Inside the loop, use the functions and variables above to create the execution of a round: ask for the player's choice, generate the random choice of the computer, show the round results, update the scores, etc. "
   ]
  },
  {
   "cell_type": "code",
   "execution_count": 1,
   "metadata": {},
   "outputs": [],
   "source": [
    "def bucle_marcador():\n",
    "    n_rounds= 7\n",
    "    cpu_store= 0\n",
    "    player_score= 0\n",
    "    empates=0\n",
    "    jugada1=jugada()\n",
    "    cpu_play1=cpu_play()\n",
    "    ganador1=ganador()\n",
    "    rondas_para_ganar= math.ceil (n_rounds/2)"
   ]
  },
  {
   "cell_type": "code",
   "execution_count": null,
   "metadata": {},
   "outputs": [],
   "source": []
  },
  {
   "cell_type": "code",
   "execution_count": null,
   "metadata": {},
   "outputs": [],
   "source": [
    "# gestures= piedra, papel, tijera\n",
    "#numero de rondas a jugar: 7 ( si me da tiempo un input), n_rounds\n",
    "#rondas para ganar= 4, rounds_to_win\n",
    "#puntuaciones: cpu_store; player_score\n",
    "#jugada del pc: cpu_play()\n",
    "#Jugada del jugador: jugada() \n",
    "#ganador() da el ganador de la ronda\n",
    "#marcador() da el ganador de la ronda y actualiza el marcador ( tambien lo incluye)"
   ]
  },
  {
   "cell_type": "code",
   "execution_count": 6,
   "metadata": {},
   "outputs": [],
   "source": [
    "#Para ANA/FER: entiendo que aquí hay que meter el \"juego\" completo. Lo meto entero, bibliotecas y variables incluidas\n",
    "\n",
    "#Para mi: \n",
    "# importar biblotecas\n",
    "# meter variables\n",
    "#meter funciones en orden:\n",
    "# 1º la jugada del pc; 2º nuestra jugada; 3º quien la gana; 4º actualizar marcador\n",
    "# seguir ejecutnado mientras el nº de rondas minimas PARA GANAR no se cumpla, es decir:\n",
    "    #mientras los store sean menores que rounds to win, seguir ejecutando \n",
    "def piedra_papel_tijera():\n",
    "    import math\n",
    "    import random as rd\n",
    "\n",
    "    def cpu_play():\n",
    "        return rd.choice(gestures)\n",
    "    \n",
    "    \n",
    "    gestures=[\"rock\",\"scissors\",\"paper\"]\n",
    "    n_rounds=7 #pendiente de input\n",
    "    rounds_to_win= math.ceil (n_rounds/2) # es distinta a la que habia puesto antes, pero me había quedado con que ya habiamos visto esto\n",
    "    cpu_play ()\n",
    "    jugada ()\n",
    "    ganador()\n",
    "    marcador()\n",
    "    "
   ]
  },
  {
   "cell_type": "code",
   "execution_count": 11,
   "metadata": {},
   "outputs": [
    {
     "name": "stdout",
     "output_type": "stream",
     "text": [
      "¿Cual será su jugada? ¿rock, paper o scissors?: rock\n"
     ]
    },
    {
     "ename": "NameError",
     "evalue": "name 'gestures' is not defined",
     "output_type": "error",
     "traceback": [
      "\u001b[1;31m---------------------------------------------------------------------------\u001b[0m",
      "\u001b[1;31mNameError\u001b[0m                                 Traceback (most recent call last)",
      "\u001b[1;32m<ipython-input-11-a838e1543314>\u001b[0m in \u001b[0;36m<module>\u001b[1;34m\u001b[0m\n\u001b[1;32m----> 1\u001b[1;33m \u001b[0mpiedra_papel_tijera\u001b[0m\u001b[1;33m(\u001b[0m\u001b[1;33m)\u001b[0m\u001b[1;33m\u001b[0m\u001b[1;33m\u001b[0m\u001b[0m\n\u001b[0m",
      "\u001b[1;32m<ipython-input-10-746fbf803bfb>\u001b[0m in \u001b[0;36mpiedra_papel_tijera\u001b[1;34m()\u001b[0m\n\u001b[0;32m     20\u001b[0m     \u001b[0mrounds_to_win\u001b[0m\u001b[1;33m=\u001b[0m \u001b[0mmath\u001b[0m\u001b[1;33m.\u001b[0m\u001b[0mceil\u001b[0m \u001b[1;33m(\u001b[0m\u001b[0mn_rounds\u001b[0m\u001b[1;33m/\u001b[0m\u001b[1;36m2\u001b[0m\u001b[1;33m)\u001b[0m \u001b[1;31m# es distinta a la que habia puesto antes, pero me había quedado con que ya habiamos visto esto\u001b[0m\u001b[1;33m\u001b[0m\u001b[1;33m\u001b[0m\u001b[0m\n\u001b[0;32m     21\u001b[0m     \u001b[0mcpu_play\u001b[0m \u001b[1;33m(\u001b[0m\u001b[1;33m)\u001b[0m\u001b[1;33m\u001b[0m\u001b[1;33m\u001b[0m\u001b[0m\n\u001b[1;32m---> 22\u001b[1;33m     \u001b[0mjugada\u001b[0m \u001b[1;33m(\u001b[0m\u001b[1;33m)\u001b[0m\u001b[1;33m\u001b[0m\u001b[1;33m\u001b[0m\u001b[0m\n\u001b[0m\u001b[0;32m     23\u001b[0m     \u001b[0mganador\u001b[0m\u001b[1;33m(\u001b[0m\u001b[1;33m)\u001b[0m\u001b[1;33m\u001b[0m\u001b[1;33m\u001b[0m\u001b[0m\n\u001b[0;32m     24\u001b[0m     \u001b[0mmarcador\u001b[0m\u001b[1;33m(\u001b[0m\u001b[1;33m)\u001b[0m\u001b[1;33m\u001b[0m\u001b[1;33m\u001b[0m\u001b[0m\n",
      "\u001b[1;32m<ipython-input-7-82e73e6afe6b>\u001b[0m in \u001b[0;36mjugada\u001b[1;34m()\u001b[0m\n\u001b[0;32m      2\u001b[0m     \u001b[1;32mwhile\u001b[0m \u001b[1;32mTrue\u001b[0m\u001b[1;33m:\u001b[0m\u001b[1;33m\u001b[0m\u001b[1;33m\u001b[0m\u001b[0m\n\u001b[0;32m      3\u001b[0m         \u001b[0mjugada\u001b[0m\u001b[1;33m=\u001b[0m\u001b[0minput\u001b[0m \u001b[1;33m(\u001b[0m\u001b[1;34m\"¿Cual será su jugada? ¿rock, paper o scissors?: \"\u001b[0m\u001b[1;33m)\u001b[0m\u001b[1;33m\u001b[0m\u001b[1;33m\u001b[0m\u001b[0m\n\u001b[1;32m----> 4\u001b[1;33m         \u001b[1;32mif\u001b[0m \u001b[0mjugada\u001b[0m \u001b[1;32min\u001b[0m \u001b[1;33m(\u001b[0m\u001b[0mgestures\u001b[0m\u001b[1;33m)\u001b[0m\u001b[1;33m:\u001b[0m\u001b[1;33m\u001b[0m\u001b[1;33m\u001b[0m\u001b[0m\n\u001b[0m\u001b[0;32m      5\u001b[0m             \u001b[1;32mbreak\u001b[0m\u001b[1;33m\u001b[0m\u001b[1;33m\u001b[0m\u001b[0m\n\u001b[0;32m      6\u001b[0m     \u001b[1;32mreturn\u001b[0m \u001b[0mjugada\u001b[0m\u001b[1;33m\u001b[0m\u001b[1;33m\u001b[0m\u001b[0m\n",
      "\u001b[1;31mNameError\u001b[0m: name 'gestures' is not defined"
     ]
    }
   ],
   "source": [
    "piedra_papel_tijera()"
   ]
  },
  {
   "cell_type": "markdown",
   "metadata": {},
   "source": [
    "#### 11. Print the winner of the game based on who won more rounds.\n",
    "Remember that the game might be tied. "
   ]
  },
  {
   "cell_type": "code",
   "execution_count": null,
   "metadata": {},
   "outputs": [],
   "source": []
  }
 ],
 "metadata": {
  "kernelspec": {
   "display_name": "Python 3",
   "language": "python",
   "name": "python3"
  },
  "language_info": {
   "codemirror_mode": {
    "name": "ipython",
    "version": 3
   },
   "file_extension": ".py",
   "mimetype": "text/x-python",
   "name": "python",
   "nbconvert_exporter": "python",
   "pygments_lexer": "ipython3",
   "version": "3.8.5"
  }
 },
 "nbformat": 4,
 "nbformat_minor": 2
}
