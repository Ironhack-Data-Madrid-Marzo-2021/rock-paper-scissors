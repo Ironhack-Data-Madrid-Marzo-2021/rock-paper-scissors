{
 "cells": [
  {
   "cell_type": "markdown",
   "metadata": {},
   "source": [
    "<img src=\"https://bit.ly/2VnXWr2\" width=\"100\" align=\"left\">"
   ]
  },
  {
   "cell_type": "markdown",
   "metadata": {},
   "source": [
    "# Rock, Paper & Scissors\n",
    "\n",
    "Let's play the famous game against our computer. You can check the rules [here](https://en.wikipedia.org/wiki/Rock%E2%80%93paper%E2%80%93scissors). \n",
    "\n",
    "## Task\n",
    "Create a program that imitates the playability of the well known game of rock, paper, scissors. Follow the guidelines provided.\n",
    "\n",
    "## Tools\n",
    "1. Loop: **for/while**\n",
    "2. Functions: **input(), print()...**\n",
    "3. Conditional statements: **if, elif, else**\n",
    "4. Definition of functions. Modular programming\n",
    "5. Import modules\n",
    "\n",
    "**To solve this challenge, the use of functions is recommended.**\n",
    "\n",
    "#### 1. Import the choice function of the random module."
   ]
  },
  {
   "cell_type": "code",
   "execution_count": 13,
   "metadata": {
    "scrolled": true
   },
   "outputs": [],
   "source": [
    "import random\n",
    "from random import choice\n"
   ]
  },
  {
   "cell_type": "markdown",
   "metadata": {},
   "source": [
    "#### 2. Create a list that includes the 3 possible gesture options of the game: 'rock', 'paper' or 'scissors'. Store the list in a variable called `gestures`."
   ]
  },
  {
   "cell_type": "code",
   "execution_count": 14,
   "metadata": {},
   "outputs": [],
   "source": [
    "gestures = ['🎸', '📜', '✂️' ]"
   ]
  },
  {
   "cell_type": "markdown",
   "metadata": {},
   "source": [
    "#### 3. Create a variable called `n_rounds` to store the maximum number of rounds to play in a game. \n",
    "Remember that the number of rounds must be odd: 1, 3, 5, ..."
   ]
  },
  {
   "cell_type": "code",
   "execution_count": 42,
   "metadata": {},
   "outputs": [
    {
     "name": "stdout",
     "output_type": "stream",
     "text": [
      "cual es el numero maximo de rondas: 2\n",
      "el numero es par, mete uno impar\n",
      "cual es el numero maximo de rondas: 3\n",
      "buenisimo el numero maximo de rondas es 3, ahora al juego!\n"
     ]
    }
   ],
   "source": [
    "n_rounds = int(input('cual es el numero maximo de rondas: '))\n",
    "\n",
    "while n_rounds % 2 == 0:\n",
    "    print('el numero es par, mete uno impar')\n",
    "    n_rounds = int(input('cual es el numero maximo de rondas: '))\n",
    "else:\n",
    "    print(f'buenisimo el numero maximo de rondas es {n_rounds}, ahora al juego!')\n"
   ]
  },
  {
   "cell_type": "markdown",
   "metadata": {},
   "source": [
    "#### 4. Create a variable called `rounds_to_win` to store the number of rounds that a player must win to win the game.\n",
    "**Hint**: the value stored in `rounds_to_win` depends on the value of `n_rounds`. "
   ]
  },
  {
   "cell_type": "code",
   "execution_count": 44,
   "metadata": {},
   "outputs": [
    {
     "data": {
      "text/plain": [
       "2.0"
      ]
     },
     "execution_count": 44,
     "metadata": {},
     "output_type": "execute_result"
    }
   ],
   "source": [
    "rounds_to_win = (n_rounds/3) * 2\n",
    "rounds_to_win"
   ]
  },
  {
   "cell_type": "markdown",
   "metadata": {},
   "source": [
    "#### 5. Create two variables to store the number of rounds that the computer and the player have won. Call these variables `cpu_score` and `player_score`."
   ]
  },
  {
   "cell_type": "code",
   "execution_count": 62,
   "metadata": {},
   "outputs": [],
   "source": [
    "cpu_score = 0\n",
    "player_score = 0"
   ]
  },
  {
   "cell_type": "markdown",
   "metadata": {},
   "source": [
    "#### 6. Define a function that randomly returns one of the 3 gesture options.\n",
    "You will use this function to simulate the gesture choice of the computer. "
   ]
  },
  {
   "cell_type": "code",
   "execution_count": 48,
   "metadata": {},
   "outputs": [],
   "source": [
    "def random_RPS(gestures) : \n",
    "    return print(random.choice(gestures))"
   ]
  },
  {
   "cell_type": "code",
   "execution_count": 51,
   "metadata": {},
   "outputs": [
    {
     "name": "stdout",
     "output_type": "stream",
     "text": [
      "🎸\n"
     ]
    }
   ],
   "source": [
    "random_RPS(gestures)"
   ]
  },
  {
   "cell_type": "markdown",
   "metadata": {},
   "source": [
    "#### 7. Define a function that asks the player which is the gesture he or she wants to show: 'rock', 'paper' or 'scissors'.\n",
    "The player should only be allowed to choose one of the 3 gesture options. If the player's choice is not rock, paper or scissors, keep asking until it is."
   ]
  },
  {
   "cell_type": "code",
   "execution_count": 66,
   "metadata": {},
   "outputs": [],
   "source": [
    "def RPS_choice(gestures) : \n",
    "    '''\n",
    "    en esta funcion estamos diciendole al player que escoja un gesture entre las gestures permitidas/\n",
    "    \n",
    "    gestures = lista de gestos permitidos\n",
    "    \n",
    "    rps = el gesto escojido por el jugador. \n",
    "    \n",
    "    \n",
    "    '''\n",
    "    \n",
    "    rps = input('Escoje con cual vas a jugar esta ronda 🎸  📜, ✂️ : ')\n",
    "    if rps not in gestures:\n",
    "        print('Con eso no podemos jugar!')\n",
    "        rps = input('Escoje con cual vas a jugar esta ronda 🎸  📜, ✂️ : ')\n",
    "        \n",
    "        return print(RPS_choice)\n",
    "        \n",
    "        "
   ]
  },
  {
   "cell_type": "code",
   "execution_count": 67,
   "metadata": {},
   "outputs": [
    {
     "name": "stdout",
     "output_type": "stream",
     "text": [
      "Escoje con cual vas a jugar esta ronda 🎸  📜, ✂️ : 🎸\n"
     ]
    }
   ],
   "source": [
    "RPS_choice(gestures)"
   ]
  },
  {
   "cell_type": "markdown",
   "metadata": {},
   "source": [
    "#### 8. Define a function that checks who won a round. \n",
    "The function should return 0 if there is a tie, 1 if the computer wins and 2 if the player wins."
   ]
  },
  {
   "cell_type": "code",
   "execution_count": 86,
   "metadata": {},
   "outputs": [],
   "source": [
    "def RPS_win(RPS_choice, random_RPS):\n",
    "    \n",
    "    score = 0\n",
    "    \n",
    "    if RPS_choice == random_RPS:\n",
    "        print('Hay un empate!')\n",
    "        score = 0 \n",
    "    elif RPS_choice == '🎸':\n",
    "        if random_RPS == '✂️':\n",
    "            print('el jugador ha ganado la ronda')\n",
    "            score += 1\n",
    "        else:\n",
    "            print('el CPU ha ganado!')\n",
    "            score -= 1\n",
    "    elif RPS_choice == '✂️':\n",
    "        if random_RPS == '📜':\n",
    "            print('el jugador ha ganado la ronda')\n",
    "            score += 1\n",
    "        else:\n",
    "            print('el CPU ha ganado!')\n",
    "            score -= 1\n",
    "    elif RPS_choice == '📜':\n",
    "        if random_RPS == '🎸':\n",
    "            print('el jugador ha ganado la ronda')\n",
    "            score += 1\n",
    "        else:\n",
    "            print('el CPU ha ganado!')\n",
    "            score -= 1\n",
    "               \n",
    "    \n",
    "    return score        \n",
    "    \n",
    "    "
   ]
  },
  {
   "cell_type": "code",
   "execution_count": 87,
   "metadata": {},
   "outputs": [
    {
     "name": "stdout",
     "output_type": "stream",
     "text": [
      "el CPU ha ganado!\n"
     ]
    },
    {
     "data": {
      "text/plain": [
       "-1"
      ]
     },
     "execution_count": 87,
     "metadata": {},
     "output_type": "execute_result"
    }
   ],
   "source": [
    "RPS_win('📜', '✂️')"
   ]
  },
  {
   "cell_type": "markdown",
   "metadata": {},
   "source": [
    "#### 9. Define a function that prints the choice of the computer, the choice of the player and a message that announces who won the current round. \n",
    "You should also use this function to update the variables that count the number of rounds that the computer and the player have won. The score of the winner increases by one point. If there is a tie, the score does not increase."
   ]
  },
  {
   "cell_type": "code",
   "execution_count": 98,
   "metadata": {},
   "outputs": [],
   "source": [
    "def ROCK_PAPER_SCISSORS_SHOOT(RPS_choice, random_RPS, RPS_win):\n",
    "    \n",
    "    print(f' Has escogido {RPS_choice}')\n",
    "    print(f' El CPU ha escogido {random_RPS}')\n",
    "    \n",
    "    if RPS_win == 0:\n",
    "        print('hay un empate')\n",
    "    elif RPS_win > 0:\n",
    "        print('Has ganado la batalla!')\n",
    "    else:\n",
    "        print('El CPU te ha ganado!')\n",
    "    \n"
   ]
  },
  {
   "cell_type": "code",
   "execution_count": 99,
   "metadata": {},
   "outputs": [
    {
     "name": "stdout",
     "output_type": "stream",
     "text": [
      " Has escogido 📜\n",
      " El CPU ha escogido ✂️\n",
      "Has ganado la batalla!\n"
     ]
    }
   ],
   "source": [
    "ROCK_PAPER_SCISSORS_SHOOT('📜', '✂️', 1)"
   ]
  },
  {
   "cell_type": "markdown",
   "metadata": {},
   "source": [
    "#### 10. Now it's time to code the execution of the game using the functions and variables you defined above. \n",
    "\n",
    "First, create a loop structure that repeats while no player reaches the minimum score necessary to win and the number of rounds is less than the maximum number of rounds to play in a game.  \n",
    "\n",
    "Inside the loop, use the functions and variables above to create the execution of a round: ask for the player's choice, generate the random choice of the computer, show the round results, update the scores, etc. "
   ]
  },
  {
   "cell_type": "code",
   "execution_count": null,
   "metadata": {},
   "outputs": [],
   "source": []
  },
  {
   "cell_type": "markdown",
   "metadata": {},
   "source": [
    "#### 11. Print the winner of the game based on who won more rounds.\n",
    "Remember that the game might be tied. "
   ]
  },
  {
   "cell_type": "code",
   "execution_count": null,
   "metadata": {},
   "outputs": [],
   "source": []
  }
 ],
 "metadata": {
  "kernelspec": {
   "display_name": "Python 3",
   "language": "python",
   "name": "python3"
  },
  "language_info": {
   "codemirror_mode": {
    "name": "ipython",
    "version": 3
   },
   "file_extension": ".py",
   "mimetype": "text/x-python",
   "name": "python",
   "nbconvert_exporter": "python",
   "pygments_lexer": "ipython3",
   "version": "3.8.5"
  }
 },
 "nbformat": 4,
 "nbformat_minor": 2
}
