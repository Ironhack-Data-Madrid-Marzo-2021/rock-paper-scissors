{
 "cells": [
  {
   "cell_type": "markdown",
   "metadata": {},
   "source": [
    "<img src=\"https://bit.ly/2VnXWr2\" width=\"100\" align=\"left\">"
   ]
  },
  {
   "cell_type": "markdown",
   "metadata": {},
   "source": [
    "# Rock, Paper & Scissors\n",
    "\n",
    "Let's play the famous game against our computer. You can check the rules [here](https://en.wikipedia.org/wiki/Rock%E2%80%93paper%E2%80%93scissors). \n",
    "\n",
    "## Task\n",
    "Create a program that imitates the playability of the well known game of rock, paper, scissors. Follow the guidelines provided.\n",
    "\n",
    "## Tools\n",
    "1. Loop: **for/while**\n",
    "2. Functions: **input(), print()...**\n",
    "3. Conditional statements: **if, elif, else**\n",
    "4. Definition of functions. Modular programming\n",
    "5. Import modules\n",
    "\n",
    "**To solve this challenge, the use of functions is recommended.**\n",
    "\n",
    "#### 1. Import the choice function of the random module."
   ]
  },
  {
   "cell_type": "code",
   "execution_count": 3,
   "metadata": {},
   "outputs": [],
   "source": [
    "import random"
   ]
  },
  {
   "cell_type": "markdown",
   "metadata": {},
   "source": [
    "#### 2. Create a list that includes the 3 possible gesture options of the game: 'rock', 'paper' or 'scissors'. Store the list in a variable called `gestures`."
   ]
  },
  {
   "cell_type": "code",
   "execution_count": 127,
   "metadata": {},
   "outputs": [],
   "source": [
    "gestures = [\"rock\" , \"paper\" , \"scissors\"]"
   ]
  },
  {
   "cell_type": "markdown",
   "metadata": {},
   "source": [
    "#### 3. Create a variable called `n_rounds` to store the maximum number of rounds to play in a game. \n",
    "Remember that the number of rounds must be odd: 1, 3, 5, ..."
   ]
  },
  {
   "cell_type": "code",
   "execution_count": 297,
   "metadata": {},
   "outputs": [],
   "source": [
    "def rounds_to_play():\n",
    "    n_rounds = int(input(\"How many games are you going to play?:  \"))\n",
    "    while n_rounds % 2 == 0:\n",
    "        n_rounds = int(input(\"It must be an odd number to determine a winner:  \"))    \n",
    "    else:\n",
    "        n_rounds = n_rounds()\n"
   ]
  },
  {
   "cell_type": "code",
   "execution_count": 298,
   "metadata": {},
   "outputs": [
    {
     "name": "stdin",
     "output_type": "stream",
     "text": [
      "How many games are you going to play?:   2\n",
      "It must be an odd number to determine a winner:   3\n"
     ]
    }
   ],
   "source": [
    "rounds_to_play()"
   ]
  },
  {
   "cell_type": "markdown",
   "metadata": {},
   "source": [
    "#### 4. Create a variable called `rounds_to_win` to store the number of rounds that a player must win to win the game.\n",
    "**Hint**: the value stored in `rounds_to_win` depends on the value of `n_rounds`. "
   ]
  },
  {
   "cell_type": "code",
   "execution_count": 25,
   "metadata": {},
   "outputs": [],
   "source": [
    "from math import ceil"
   ]
  },
  {
   "cell_type": "code",
   "execution_count": 26,
   "metadata": {},
   "outputs": [],
   "source": [
    "rounds_to_win = ceil(n_rounds/2) #Ceil ej.2.5--> 3"
   ]
  },
  {
   "cell_type": "markdown",
   "metadata": {},
   "source": [
    "#### 5. Create two variables to store the number of rounds that the computer and the player have won. Call these variables `cpu_score` and `player_score`."
   ]
  },
  {
   "cell_type": "code",
   "execution_count": 299,
   "metadata": {},
   "outputs": [],
   "source": [
    "player_score = 0\n",
    "cpu_score = 0"
   ]
  },
  {
   "cell_type": "markdown",
   "metadata": {},
   "source": [
    "#### 6. Define a function that randomly returns one of the 3 gesture options.\n",
    "You will use this function to simulate the gesture choice of the computer. "
   ]
  },
  {
   "cell_type": "code",
   "execution_count": 171,
   "metadata": {},
   "outputs": [],
   "source": [
    "def cpu_action():\n",
    "    return random.choice(gestures)"
   ]
  },
  {
   "cell_type": "code",
   "execution_count": 173,
   "metadata": {},
   "outputs": [
    {
     "data": {
      "text/plain": [
       "'rock'"
      ]
     },
     "execution_count": 173,
     "metadata": {},
     "output_type": "execute_result"
    }
   ],
   "source": [
    "cpu_action()"
   ]
  },
  {
   "cell_type": "markdown",
   "metadata": {},
   "source": [
    "#### 7. Define a function that asks the player which is the gesture he or she wants to show: 'rock', 'paper' or 'scissors'.\n",
    "The player should only be allowed to choose one of the 3 gesture options. If the player's choice is not rock, paper or scissors, keep asking until it is."
   ]
  },
  {
   "cell_type": "code",
   "execution_count": 382,
   "metadata": {},
   "outputs": [],
   "source": [
    "def player_action():    \n",
    "    player_action = input(\"Rock, Paper, or Scissors? \").lower()\n",
    "    while player_action not in gestures:\n",
    "        player_action = input(\"Intenta de nuevo: Rock , Paper o Scissors \").lower()\n",
    "    else:\n",
    "        player_action = player_action\n",
    "    return player_action"
   ]
  },
  {
   "cell_type": "code",
   "execution_count": 383,
   "metadata": {},
   "outputs": [
    {
     "name": "stdin",
     "output_type": "stream",
     "text": [
      "Rock, Paper, or Scissors?  rock\n"
     ]
    },
    {
     "data": {
      "text/plain": [
       "'rock'"
      ]
     },
     "execution_count": 383,
     "metadata": {},
     "output_type": "execute_result"
    }
   ],
   "source": [
    "player_action()"
   ]
  },
  {
   "cell_type": "markdown",
   "metadata": {},
   "source": [
    "#### 8. Define a function that checks who won a round. \n",
    "The function should return 0 if there is a tie, 1 if the computer wins and 2 if the player wins."
   ]
  },
  {
   "cell_type": "code",
   "execution_count": 372,
   "metadata": {},
   "outputs": [],
   "source": [
    "def winner(player_action , cpu_action):\n",
    "    player_action = player_action()\n",
    "    cpu_action = cpu_action()\n",
    "    tie = 0\n",
    "    cpu_win = 1\n",
    "    player_win = 2\n",
    "    player_score = 0\n",
    "    cpu_score = 0\n",
    "    \n",
    "    if player_action == cpu_action:\n",
    "        print(f\"Both players selected {player_action}. It's a tie!. Points {tie}\" )\n",
    "        \n",
    "    elif player_action == \"rock\":\n",
    "        if cpu_action == \"scissors\":\n",
    "            print(f\"Rock smashes scissors! You win!. Player win: {player_win}\")\n",
    "            winner = 'Player'\n",
    "            player_score += 1\n",
    "        else:\n",
    "            print(f\"Paper covers rock! You lose. Cpu win :{cpu_win}\")\n",
    "            winner = 'Computer'\n",
    "            cpu_score +=1\n",
    "            \n",
    "    elif player_action == \"paper\":\n",
    "        if cpu_action == \"rock\":\n",
    "            print(f\"Paper covers rock! You win!. Player win {player_win}\")\n",
    "            winner = 'Player'\n",
    "            player_score += 1\n",
    "        else:\n",
    "            print(f\"Scissors cuts paper! You lose. Cpu win :{cpu_win}\")\n",
    "            winner = 'Computer'\n",
    "            cpu_score +=1\n",
    "            \n",
    "    elif player_action == \"scissors\":\n",
    "        if cpu_action == \"paper\":\n",
    "            print(f\"Scissors cuts paper! You win!. Player win  {player_win}\")\n",
    "            winner = 'Computer'\n",
    "            cpu_score +=1\n",
    "        else:\n",
    "            print(f\"Rock smashes scissors! You lose. Cpu win :{cpu_win}\")    \n",
    "            winner = 'Computer'\n",
    "      \n",
    "            \n",
    "    print(f\"You have choosen {player_action} y computer chose {cpu_action}  Computer: {cpu_score}  Player :{player_score} Win: {winner}\")"
   ]
  },
  {
   "cell_type": "code",
   "execution_count": 390,
   "metadata": {},
   "outputs": [
    {
     "name": "stdin",
     "output_type": "stream",
     "text": [
      "Rock, Paper, or Scissors?  rock\n"
     ]
    },
    {
     "name": "stdout",
     "output_type": "stream",
     "text": [
      "Rock smashes scissors! You win!. Player win: 2\n",
      "You have choosen rock y computer chose scissors  Computer: 0  Player :1 Win:Player\n"
     ]
    }
   ],
   "source": [
    "winner(player_action , cpu_action)"
   ]
  },
  {
   "cell_type": "markdown",
   "metadata": {},
   "source": [
    "#### 9. Define a function that prints the choice of the computer, the choice of the player and a message that announces who won the current round. \n",
    "You should also use this function to update the variables that count the number of rounds that the computer and the player have won. The score of the winner increases by one point. If there is a tie, the score does not increase."
   ]
  },
  {
   "cell_type": "code",
   "execution_count": 388,
   "metadata": {},
   "outputs": [
    {
     "name": "stdout",
     "output_type": "stream",
     "text": [
      "You have choosen <function player_action at 0x000001DFA7342C10> y computer chose <function cpu_action at 0x000001DFA70EEEE0> \n"
     ]
    }
   ],
   "source": [
    "def who_won(player_action, cpu_action):\n",
    "    return (f\"You have choosen {player_action} y computer chose {cpu_action} \"\n"
   ]
  },
  {
   "cell_type": "code",
   "execution_count": 385,
   "metadata": {},
   "outputs": [
    {
     "name": "stdout",
     "output_type": "stream",
     "text": [
      "You have choosen <function player_action at 0x000001DFA7342C10> y computer chose <function cpu_action at 0x000001DFA70EEEE0> \n"
     ]
    }
   ],
   "source": [
    "actions(player_action, cpu_action)"
   ]
  },
  {
   "cell_type": "code",
   "execution_count": 378,
   "metadata": {},
   "outputs": [],
   "source": [
    "def final(n_rounds,rounds_to_win, player_score, cpu_score, rounds_to_play):\n",
    "    while(player_score < rounds_to_win) and (cpu_score < rounds_to_win):\n",
    "        n_rounds += 1\n",
    "        if rounds_to_win == 1:\n",
    "            cpu_score +=1\n",
    "        if rounds_to_win == 2:\n",
    "            player_score +=1\n",
    "        if rounds_to_win == 3:\n",
    "            player_score +=1\n",
    "    if player_score > cpu_score:\n",
    "        print(\"YOU WIN\")\n",
    "    if player_score < cpu_score:\n",
    "        print(\"CPU WIN\")\n",
    "    if player_score == cpu_score:\n",
    "        print(\"TIE\")\n",
    "    if player_score == rounds_to_win:\n",
    "        print(\"¡You WIN! 😎\")\n",
    "    if cpu_score == rounds_to_win:\n",
    "        print(\"YOU LOSE! 😩\")"
   ]
  },
  {
   "cell_type": "code",
   "execution_count": 379,
   "metadata": {},
   "outputs": [
    {
     "name": "stdout",
     "output_type": "stream",
     "text": [
      "CPU WIN\n",
      "YOU LOSE! 😩\n"
     ]
    }
   ],
   "source": [
    "final(n_rounds,rounds_to_win, player_score, cpu_score, rounds_to_play) # No va bien , siempre sale lo mismo . Preguntar dudas de esto."
   ]
  },
  {
   "cell_type": "markdown",
   "metadata": {},
   "source": [
    "#### 10. Now it's time to code the execution of the game using the functions and variables you defined above. \n",
    "\n",
    "First, create a loop structure that repeats while no player reaches the minimum score necessary to win and the number of rounds is less than the maximum number of rounds to play in a game.  \n",
    "\n",
    "Inside the loop, use the functions and variables above to create the execution of a round: ask for the player's choice, generate the random choice of the computer, show the round results, update the scores, etc. "
   ]
  },
  {
   "cell_type": "code",
   "execution_count": null,
   "metadata": {},
   "outputs": [],
   "source": [
    "#intento unir todo el codigo y no me arranca ,igual que por separado . Preguntar dudas de esto."
   ]
  },
  {
   "cell_type": "markdown",
   "metadata": {},
   "source": [
    "#### 11. Print the winner of the game based on who won more rounds.\n",
    "Remember that the game might be tied. "
   ]
  },
  {
   "cell_type": "code",
   "execution_count": null,
   "metadata": {},
   "outputs": [],
   "source": []
  }
 ],
 "metadata": {
  "kernelspec": {
   "display_name": "Python 3",
   "language": "python",
   "name": "python3"
  },
  "language_info": {
   "codemirror_mode": {
    "name": "ipython",
    "version": 3
   },
   "file_extension": ".py",
   "mimetype": "text/x-python",
   "name": "python",
   "nbconvert_exporter": "python",
   "pygments_lexer": "ipython3",
   "version": "3.8.5"
  }
 },
 "nbformat": 4,
 "nbformat_minor": 4
}
