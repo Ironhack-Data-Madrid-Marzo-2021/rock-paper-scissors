{
 "cells": [
  {
   "cell_type": "markdown",
   "metadata": {},
   "source": [
    "<img src=\"https://bit.ly/2VnXWr2\" width=\"100\" align=\"left\">"
   ]
  },
  {
   "cell_type": "markdown",
   "metadata": {},
   "source": [
    "# Rock, Paper & Scissors\n",
    "\n",
    "Let's play the famous game against our computer. You can check the rules [here](https://en.wikipedia.org/wiki/Rock%E2%80%93paper%E2%80%93scissors). \n",
    "\n",
    "## Task\n",
    "Create a program that imitates the playability of the well known game of rock, paper, scissors. Follow the guidelines provided.\n",
    "\n",
    "## Tools\n",
    "1. Loop: **for/while**\n",
    "2. Functions: **input(), print()...**\n",
    "3. Conditional statements: **if, elif, else**\n",
    "4. Definition of functions. Modular programming\n",
    "5. Import modules\n",
    "\n",
    "**To solve this challenge, the use of functions is recommended.**\n",
    "\n",
    "#### 1. Import the choice function of the random module."
   ]
  },
  {
   "cell_type": "code",
   "execution_count": 6,
   "metadata": {},
   "outputs": [
    {
     "data": {
      "text/plain": [
       "<bound method Random.choice of <random.Random object at 0x000002AAC0B89E30>>"
      ]
     },
     "execution_count": 6,
     "metadata": {},
     "output_type": "execute_result"
    }
   ],
   "source": [
    "import random\n",
    "\n",
    "random.choice"
   ]
  },
  {
   "cell_type": "markdown",
   "metadata": {},
   "source": [
    "#### 2. Create a list that includes the 3 possible gesture options of the game: 'rock', 'paper' or 'scissors'. Store the list in a variable called `gestures`."
   ]
  },
  {
   "cell_type": "code",
   "execution_count": 7,
   "metadata": {},
   "outputs": [],
   "source": [
    "gestures = [\"rock\", \"paper\", \"scissors\"]"
   ]
  },
  {
   "cell_type": "markdown",
   "metadata": {},
   "source": [
    "#### 3. Create a variable called `n_rounds` to store the maximum number of rounds to play in a game. \n",
    "Remember that the number of rounds must be odd: 1, 3, 5, ..."
   ]
  },
  {
   "cell_type": "code",
   "execution_count": 8,
   "metadata": {},
   "outputs": [],
   "source": [
    "n_rounds = None\n"
   ]
  },
  {
   "cell_type": "markdown",
   "metadata": {},
   "source": [
    "#### 4. Create a variable called `rounds_to_win` to store the number of rounds that a player must win to win the game.\n",
    "**Hint**: the value stored in `rounds_to_win` depends on the value of `n_rounds`. "
   ]
  },
  {
   "cell_type": "code",
   "execution_count": null,
   "metadata": {},
   "outputs": [],
   "source": [
    "rounds_to_win = n_rounds - cpu_score"
   ]
  },
  {
   "cell_type": "markdown",
   "metadata": {},
   "source": [
    "#### 5. Create two variables to store the number of rounds that the computer and the player have won. Call these variables `cpu_score` and `player_score`."
   ]
  },
  {
   "cell_type": "code",
   "execution_count": null,
   "metadata": {},
   "outputs": [],
   "source": [
    "cpu_score = []\n",
    "player_score = []\n"
   ]
  },
  {
   "cell_type": "markdown",
   "metadata": {},
   "source": [
    "#### 6. Define a function that randomly returns one of the 3 gesture options.\n",
    "You will use this function to simulate the gesture choice of the computer. "
   ]
  },
  {
   "cell_type": "code",
   "execution_count": 12,
   "metadata": {},
   "outputs": [
    {
     "name": "stdout",
     "output_type": "stream",
     "text": [
      "rock\n"
     ]
    }
   ],
   "source": [
    "print(random.choice(gestures))"
   ]
  },
  {
   "cell_type": "markdown",
   "metadata": {},
   "source": [
    "#### 7. Define a function that asks the player which is the gesture he or she wants to show: 'rock', 'paper' or 'scissors'.\n",
    "The player should only be allowed to choose one of the 3 gesture options. If the player's choice is not rock, paper or scissors, keep asking until it is."
   ]
  },
  {
   "cell_type": "code",
   "execution_count": 3,
   "metadata": {},
   "outputs": [
    {
     "name": "stdout",
     "output_type": "stream",
     "text": [
      "Elige piedra, papel o tijera piedra\n",
      "piedra\n"
     ]
    }
   ],
   "source": [
    "gestures = [\"piedra\", \"papel\", \"tijera\"]\n",
    "\n",
    "def eleccion_jugador():    \n",
    "    player = input(\"Elige piedra, papel o tijera \")\n",
    "    player_g = player.lower()\n",
    "\n",
    "    while player_g not in gestures:\n",
    "        print(\"Debes elegir entre piedra papel o tijera. \")\n",
    "        player_g = input(\"Elige piedra, papel o tijera \")\n",
    "\n",
    "\n",
    "    return player_g"
   ]
  },
  {
   "cell_type": "markdown",
   "metadata": {},
   "source": [
    "#### 8. Define a function that checks who won a round. \n",
    "The function should return 0 if there is a tie, 1 if the computer wins and 2 if the player wins."
   ]
  },
  {
   "cell_type": "code",
   "execution_count": 33,
   "metadata": {},
   "outputs": [],
   "source": [
    "def ganador(player, pc):\n",
    "    \n",
    "    if player == pc: \n",
    "        ganador == 0\n",
    "    \n",
    "    if player == \"piedra\" and pc == \"papel\":\n",
    "        ganador == 1 \n",
    "    \n",
    "    if player == \"piedra\" and pc == \"tijera\":\n",
    "        ganador == 2\n",
    "    \n",
    "    if player == \"tijeras\" and pc == \"piedra\":\n",
    "        ganador == 1\n",
    "        \n",
    "    if player == \"tijeras\" and pc == \"papel\":\n",
    "        ganador == 2\n",
    "        \n",
    "    if player == \"papel\" and pc == \"tijeras\":\n",
    "        ganador == 1\n",
    "        \n",
    "    if player == \"papel\" and pc == \"piedra\":\n",
    "        ganador == 2\n",
    "        \n",
    "    return ganador"
   ]
  },
  {
   "cell_type": "markdown",
   "metadata": {},
   "source": [
    "#### 9. Define a function that prints the choice of the computer, the choice of the player and a message that announces who won the current round. \n",
    "You should also use this function to update the variables that count the number of rounds that the computer and the player have won. The score of the winner increases by one point. If there is a tie, the score does not increase."
   ]
  },
  {
   "cell_type": "code",
   "execution_count": 34,
   "metadata": {},
   "outputs": [],
   "source": [
    "import random\n",
    "\n",
    "def eleccion_cpu():\n",
    "\n",
    "    cpu_g = random.choice(gestures)\n",
    "    return cpu_g\n",
    "\n",
    "\n",
    "def eleccion_jugador():    \n",
    "    player = input(\"Elige piedra, papel o tijera \")\n",
    "    player_g = player.lower()\n",
    "\n",
    "    while player_g not in gestures:\n",
    "        print(\"Debes elegir entre piedra papel o tijera. \")\n",
    "        player_g = input(\"Elige piedra, papel o tijera \")\n",
    "\n",
    "\n",
    "    return player_g\n",
    "\n",
    "\n",
    "def quien_gana(punt):\n",
    "    if punt == 0:\n",
    "        return \"Empate\"\n",
    "    elif punt == 1:\n",
    "        return \"Gana el ordenador\"\n",
    "    else:\n",
    "        return \"Gana el jugador\"\n",
    "    "
   ]
  },
  {
   "cell_type": "markdown",
   "metadata": {},
   "source": [
    "#### 10. Now it's time to code the execution of the game using the functions and variables you defined above. \n",
    "\n",
    "First, create a loop structure that repeats while no player reaches the minimum score necessary to win and the number of rounds is less than the maximum number of rounds to play in a game.  \n",
    "\n",
    "Inside the loop, use the functions and variables above to create the execution of a round: ask for the player's choice, generate the random choice of the computer, show the round results, update the scores, etc. "
   ]
  },
  {
   "cell_type": "code",
   "execution_count": 38,
   "metadata": {},
   "outputs": [
    {
     "name": "stdout",
     "output_type": "stream",
     "text": [
      "<function ganador at 0x0000020E4E075C10>\n"
     ]
    }
   ],
   "source": [
    "rounds_to_win = 0\n",
    "cpu_score = 0\n",
    "player_score = 0\n",
    "\n",
    "while rounds_to_win > cpu_score or player_score:\n",
    "    v_pc = eleccion_cpu()\n",
    "    v_player = eleccion_jugador()\n",
    "    ganador(v_player, v_pc)\n",
    "\n",
    "    \n",
    "winner = ganador(v_player, v_pc)\n",
    "print(winner)\n",
    "    \n",
    "    "
   ]
  },
  {
   "cell_type": "markdown",
   "metadata": {},
   "source": [
    "#### 11. Print the winner of the game based on who won more rounds.\n",
    "Remember that the game might be tied. "
   ]
  },
  {
   "cell_type": "code",
   "execution_count": 39,
   "metadata": {},
   "outputs": [
    {
     "name": "stdout",
     "output_type": "stream",
     "text": [
      "Elige piedra, papel o tijera piedra\n",
      "<function ganador at 0x0000020E4E075C10>\n"
     ]
    }
   ],
   "source": [
    "v_pc = eleccion_cpu()\n",
    "v_player = eleccion_jugador()\n",
    "ganador(v_player, v_pc)\n",
    "ganador(v_player, v_pc)\n",
    "winner = ganador(v_player, v_pc)\n",
    "print(winner)"
   ]
  },
  {
   "cell_type": "code",
   "execution_count": null,
   "metadata": {},
   "outputs": [],
   "source": []
  }
 ],
 "metadata": {
  "kernelspec": {
   "display_name": "Python 3",
   "language": "python",
   "name": "python3"
  },
  "language_info": {
   "codemirror_mode": {
    "name": "ipython",
    "version": 3
   },
   "file_extension": ".py",
   "mimetype": "text/x-python",
   "name": "python",
   "nbconvert_exporter": "python",
   "pygments_lexer": "ipython3",
   "version": "3.8.5"
  }
 },
 "nbformat": 4,
 "nbformat_minor": 2
}
